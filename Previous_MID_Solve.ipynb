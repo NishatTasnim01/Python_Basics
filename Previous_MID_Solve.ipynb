{
  "nbformat": 4,
  "nbformat_minor": 0,
  "metadata": {
    "colab": {
      "provenance": []
    },
    "kernelspec": {
      "name": "python3",
      "display_name": "Python 3"
    },
    "language_info": {
      "name": "python"
    }
  },
  "cells": [
    {
      "cell_type": "markdown",
      "source": [
        "# **Spring 2023 :**"
      ],
      "metadata": {
        "id": "7_I77xjPDKRu"
      }
    },
    {
      "cell_type": "markdown",
      "source": [
        "**1. HTML Form :**"
      ],
      "metadata": {
        "id": "r68sKFiXC9Jv"
      }
    },
    {
      "cell_type": "markdown",
      "source": [
        "```\n",
        "<!DOCTYPE html>\n",
        "<html>\n",
        "<head>\n",
        "  <title>HTML Form</title>\n",
        "</head>\n",
        "<body>\n",
        "  <form>\n",
        "\n",
        "    <h2>HTML FORM</h2>\n",
        "    Username: <input type=\"text\" id=\"username\" name=\"username\"> <br><br>\n",
        "    Password: <input type=\"password\" id=\"password\" name=\"password\"><br><br>\n",
        "\n",
        "    <label>Gender:</label>\n",
        "    <input type=\"radio\" name=\"gender\" value=\"male\"> Male\n",
        "    <input type=\"radio\" name=\"gender\" value=\"female\"> Female\n",
        "    <br><br>\n",
        "\n",
        "    <label>Hobbies:</label>\n",
        "    <input type=\"checkbox\" name=\"hobbies\" value=\"reading\"> Reading\n",
        "    <input type=\"checkbox\" name=\"hobbies\" value=\"traveling\"> Traveling\n",
        "    <input type=\"checkbox\" name=\"hobbies\" value=\"sports\"> Sports\n",
        "    <br><br>\n",
        "\n",
        "    <input type=\"submit\" value=\"Submit\">\n",
        "\n",
        "  </form>\n",
        "</body>\n",
        "</html>\n",
        "```"
      ],
      "metadata": {
        "id": "s0GCw6_LdojJ"
      }
    },
    {
      "cell_type": "markdown",
      "source": [
        "**2.**"
      ],
      "metadata": {
        "id": "XFkdYP0tfGVm"
      }
    },
    {
      "cell_type": "code",
      "source": [
        "list = [1, 2, 3, 4, 5]\n",
        "print(list[-1])     # Print the last element of the list"
      ],
      "metadata": {
        "colab": {
          "base_uri": "https://localhost:8080/"
        },
        "id": "n8416EqPegQI",
        "outputId": "2354557b-aa0c-4f6f-ccfc-9d72571b89de"
      },
      "execution_count": null,
      "outputs": [
        {
          "output_type": "stream",
          "name": "stdout",
          "text": [
            "5\n"
          ]
        }
      ]
    },
    {
      "cell_type": "code",
      "source": [
        "list.append(6)      # Append 6 to the end of the list\n",
        "print(list)         # Print the updated list"
      ],
      "metadata": {
        "colab": {
          "base_uri": "https://localhost:8080/"
        },
        "id": "I_h8s7XPfkNZ",
        "outputId": "3afadcb8-486e-41f6-e9dd-21549f4ef9e4"
      },
      "execution_count": null,
      "outputs": [
        {
          "output_type": "stream",
          "name": "stdout",
          "text": [
            "[1, 2, 3, 4, 5, 6]\n"
          ]
        }
      ]
    },
    {
      "cell_type": "code",
      "source": [
        "list.insert(2, 7)   # Insert 7 at index 2\n",
        "print(list)         # Print the updated list"
      ],
      "metadata": {
        "colab": {
          "base_uri": "https://localhost:8080/"
        },
        "id": "P6cQ4cu6fmse",
        "outputId": "d4347ad7-ba3e-487d-d33b-a50c78c86f2f"
      },
      "execution_count": null,
      "outputs": [
        {
          "output_type": "stream",
          "name": "stdout",
          "text": [
            "[1, 2, 7, 3, 4, 5, 6]\n"
          ]
        }
      ]
    },
    {
      "cell_type": "code",
      "source": [
        "list.pop(2)         # Remove the element at index 2\n",
        "print(list)         # Print the updated list"
      ],
      "metadata": {
        "colab": {
          "base_uri": "https://localhost:8080/"
        },
        "id": "fBI9y3-5fqBA",
        "outputId": "43c967b8-1845-47e5-86b4-c9ec93b487fa"
      },
      "execution_count": null,
      "outputs": [
        {
          "output_type": "stream",
          "name": "stdout",
          "text": [
            "[1, 2, 3, 4, 5, 6]\n"
          ]
        }
      ]
    },
    {
      "cell_type": "code",
      "source": [
        "list.remove(1)      # Remove the first occurrence of 1\n",
        "print(list)         # Print the updated list"
      ],
      "metadata": {
        "colab": {
          "base_uri": "https://localhost:8080/"
        },
        "id": "57XkvnqIfswZ",
        "outputId": "59f5f4fc-3f09-4498-8d27-3c6ed20fe875"
      },
      "execution_count": null,
      "outputs": [
        {
          "output_type": "stream",
          "name": "stdout",
          "text": [
            "[2, 3, 4, 5, 6]\n"
          ]
        }
      ]
    },
    {
      "cell_type": "code",
      "source": [
        "list = list + [8, 9, 10]  # Concatenate another list to the existing list\n",
        "print(list)         # Print the updated list"
      ],
      "metadata": {
        "colab": {
          "base_uri": "https://localhost:8080/"
        },
        "id": "DGyWnVMnfwII",
        "outputId": "cb9cdece-5fd6-4b08-886c-402348fc6b06"
      },
      "execution_count": null,
      "outputs": [
        {
          "output_type": "stream",
          "name": "stdout",
          "text": [
            "[2, 3, 4, 5, 6, 8, 9, 10]\n"
          ]
        }
      ]
    },
    {
      "cell_type": "code",
      "source": [
        "print(len(list))    # Print the length of the list"
      ],
      "metadata": {
        "colab": {
          "base_uri": "https://localhost:8080/"
        },
        "id": "9l4I7HjjfyJ5",
        "outputId": "a62ecd51-a408-4769-c5ff-81fd3975ad6e"
      },
      "execution_count": null,
      "outputs": [
        {
          "output_type": "stream",
          "name": "stdout",
          "text": [
            "8\n"
          ]
        }
      ]
    },
    {
      "cell_type": "code",
      "source": [
        "print(list[1:4])    # Print elements from index 1 to index 3 (exclusive of index 4)"
      ],
      "metadata": {
        "colab": {
          "base_uri": "https://localhost:8080/"
        },
        "id": "qsHRI5JVf0Tj",
        "outputId": "a42c1b98-b564-4579-f350-a61f04ea2115"
      },
      "execution_count": null,
      "outputs": [
        {
          "output_type": "stream",
          "name": "stdout",
          "text": [
            "[3, 4, 5]\n"
          ]
        }
      ]
    },
    {
      "cell_type": "code",
      "source": [
        "print(list[:3])     # Print elements from the beginning up to index 2 (exclusive of index 3)"
      ],
      "metadata": {
        "colab": {
          "base_uri": "https://localhost:8080/"
        },
        "id": "4LwTZF-Cf3tS",
        "outputId": "911bec06-d10e-4d76-ca84-729c481db931"
      },
      "execution_count": null,
      "outputs": [
        {
          "output_type": "stream",
          "name": "stdout",
          "text": [
            "[2, 3, 4]\n"
          ]
        }
      ]
    },
    {
      "cell_type": "code",
      "source": [
        "print(list * 2)     # Print the list repeated twice"
      ],
      "metadata": {
        "colab": {
          "base_uri": "https://localhost:8080/"
        },
        "id": "y-a7iZguf6oJ",
        "outputId": "98de6341-8b05-42df-9952-81d91a60fd66"
      },
      "execution_count": null,
      "outputs": [
        {
          "output_type": "stream",
          "name": "stdout",
          "text": [
            "[2, 3, 4, 5, 6, 8, 9, 10, 2, 3, 4, 5, 6, 8, 9, 10]\n"
          ]
        }
      ]
    },
    {
      "cell_type": "markdown",
      "source": [
        "3."
      ],
      "metadata": {
        "id": "36E2SP3fgBiu"
      }
    },
    {
      "cell_type": "code",
      "source": [
        "from abc import ABC, abstractmethod\n",
        "\n",
        "class CricketTeam(ABC):\n",
        "    def __init__(self, team_name, captain):\n",
        "        self.team_name = team_name\n",
        "        self.captain = captain\n",
        "\n",
        "    @abstractmethod\n",
        "    def get_squad(self):\n",
        "        pass\n",
        "\n",
        "class Player:\n",
        "    def __init__(self, name, role):\n",
        "        self.name = name\n",
        "        self.role = role\n",
        "\n",
        "class AsiaCupTeam(CricketTeam):\n",
        "    def __init__(self, team_name, captain):\n",
        "        super().__init__(team_name, captain)\n",
        "        self.players = []\n",
        "\n",
        "    def add_player(self, name, role):\n",
        "        player = Player(name, role)\n",
        "        self.players.append(player)\n",
        "\n",
        "    def get_squad(self):\n",
        "        return self.players\n",
        "\n",
        "# Main part of the program\n",
        "teambd = AsiaCupTeam(\"Bangladesh\", \"Shakib Al Hasan\")\n",
        "teambd.add_player(\"Liton Kumar Das\", \"Opening Batsman\")\n",
        "teambd.add_player(\"Mushfiqur Rahim\", \"Middle Order Batsman\")\n",
        "teambd.add_player(\"Taskin Ahmed\", \"Right-arm Fast Bowler\")\n",
        "\n",
        "# Printing the provided data\n",
        "print(\"Asia Cup 2023 Teams and Players:\")\n",
        "print(\"Team:\", teambd.team_name)\n",
        "print(\"Captain:\", teambd.captain)\n",
        "\n",
        "print(\"\\nSquad:\")\n",
        "for player in teambd.get_squad():\n",
        "    print(f\"Name: {player.name}    Role: {player.role}\")"
      ],
      "metadata": {
        "colab": {
          "base_uri": "https://localhost:8080/"
        },
        "id": "6wDg3dhkgGM6",
        "outputId": "8fd89956-b24d-43c2-dc7a-2b2163303f3f"
      },
      "execution_count": null,
      "outputs": [
        {
          "output_type": "stream",
          "name": "stdout",
          "text": [
            "Asia Cup 2023 Teams and Players:\n",
            "Team: Bangladesh\n",
            "Captain: Shakib Al Hasan\n",
            "\n",
            "Squad:\n",
            "Name: Liton Kumar Das     Role: Opening Batsman\n",
            "Name: Mushfiqur Rahim     Role: Middle Order Batsman\n",
            "Name: Taskin Ahmed     Role: Right-arm Fast Bowler\n"
          ]
        }
      ]
    },
    {
      "cell_type": "markdown",
      "source": [
        "# **FALL 2022 Solve**"
      ],
      "metadata": {
        "id": "AOAo0LCOiO7o"
      }
    },
    {
      "cell_type": "markdown",
      "source": [
        "Question :"
      ],
      "metadata": {
        "id": "dOOVDUnRjq1L"
      }
    },
    {
      "cell_type": "markdown",
      "source": [
        "2."
      ],
      "metadata": {
        "id": "SF-LE2v_mNcn"
      }
    },
    {
      "cell_type": "code",
      "source": [
        "# Taking user input for X and Y\n",
        "X = int(input(\"Enter the value for X: \"))\n",
        "Y = int(input(\"Enter the value for Y: \"))\n",
        "\n",
        "# Finding numbers between X and Y (exclusive) that are divisible by 5\n",
        "print(f\"Numbers between {X} and {Y} (exclusive) divisible by 5:\")\n",
        "for num in range(X + 1, Y):\n",
        "    if num % 5 == 0:\n",
        "        print(num)"
      ],
      "metadata": {
        "colab": {
          "base_uri": "https://localhost:8080/"
        },
        "id": "kCGggXzfinEW",
        "outputId": "f0d41068-0eea-4543-f008-e5eca7e22a02"
      },
      "execution_count": null,
      "outputs": [
        {
          "output_type": "stream",
          "name": "stdout",
          "text": [
            "Enter the value for X: 2\n",
            "Enter the value for Y: 10\n",
            "Numbers between 2 and 10 (exclusive) divisible by 5:\n",
            "5\n"
          ]
        }
      ]
    },
    {
      "cell_type": "code",
      "source": [
        "# Taking user input for the year\n",
        "year = int(input(\"Enter a year: \"))\n",
        "\n",
        "# Checking if the year is a leap year\n",
        "if (year % 4 == 0 and year % 100 != 0) or (year % 400 == 0):\n",
        "    print(f\"{year} is a leap year.\")\n",
        "else:\n",
        "    print(f\"{year} is not a leap year.\")"
      ],
      "metadata": {
        "colab": {
          "base_uri": "https://localhost:8080/"
        },
        "id": "xOjX1MFukIgC",
        "outputId": "d3529d01-60d7-4a9b-a8ee-bc657ed96a18"
      },
      "execution_count": null,
      "outputs": [
        {
          "output_type": "stream",
          "name": "stdout",
          "text": [
            "Enter a year: 2024\n",
            "2024 is a leap year.\n"
          ]
        }
      ]
    },
    {
      "cell_type": "markdown",
      "source": [
        "3."
      ],
      "metadata": {
        "id": "h89G9I_AmLhP"
      }
    },
    {
      "cell_type": "code",
      "source": [
        "def gcd_recursive(a, b):\n",
        "    if b == 0:\n",
        "        return a\n",
        "    else:\n",
        "        return gcd_recursive(b, a % b)\n",
        "\n",
        "# Example usage\n",
        "num1 = int(input(\"Enter the first number: \"))\n",
        "num2 = int(input(\"Enter the second number: \"))\n",
        "result = gcd_recursive(num1, num2)\n",
        "print(f\"The GCD of {num1} and {num2} is: {result}\")"
      ],
      "metadata": {
        "colab": {
          "base_uri": "https://localhost:8080/"
        },
        "id": "HDqXBLSukVRU",
        "outputId": "d8e494f2-e5e0-4652-ca10-eb0e41902322"
      },
      "execution_count": null,
      "outputs": [
        {
          "output_type": "stream",
          "name": "stdout",
          "text": [
            "Enter the first number: 20\n",
            "Enter the second number: 10\n",
            "The GCD of 20 and 10 is: 10\n"
          ]
        }
      ]
    },
    {
      "cell_type": "markdown",
      "source": [
        "**b) Answer :** Using default values in Python function parameters: Default values can be assigned to function parameters, allowing the function to be called with fewer arguments, and the default values will be used for any unspecified parameters. Here's an example:"
      ],
      "metadata": {
        "id": "sjHj8Bh6kuAv"
      }
    },
    {
      "cell_type": "code",
      "source": [
        "def greet(name, greeting=\"Hello\"):\n",
        "    print(f\"{greeting}, {name}!\")\n",
        "\n",
        "# Example usage\n",
        "greet(\"Alice\")  # Output: Hello, Alice!\n",
        "greet(\"Bob\", \"Hi\")  # Output: Hi, Bob!"
      ],
      "metadata": {
        "colab": {
          "base_uri": "https://localhost:8080/"
        },
        "id": "109uPDQfkdN-",
        "outputId": "c5400e25-981c-4573-99e1-3599877e4ba4"
      },
      "execution_count": null,
      "outputs": [
        {
          "output_type": "stream",
          "name": "stdout",
          "text": [
            "Hello, Alice!\n",
            "Hi, Bob!\n"
          ]
        }
      ]
    },
    {
      "cell_type": "markdown",
      "source": [
        "In this example, the **greet** function has a default value of \"*Hello*\" for the **greeting** parameter. If the **greeting** parameter is not provided during the function call, it will default to \"*Hello.*\" You can still provide a different value for **greeting** when needed."
      ],
      "metadata": {
        "id": "cI4722iKk4Wl"
      }
    },
    {
      "cell_type": "markdown",
      "source": [
        "4."
      ],
      "metadata": {
        "id": "0z6DyT7xlV3_"
      }
    },
    {
      "cell_type": "code",
      "source": [
        "def create_food_dictionary(food_names, prices):\n",
        "    food_dict = {}\n",
        "    for i in range(len(food_names)):\n",
        "        if prices[i] <= 1000:\n",
        "            food_dict[food_names[i]] = prices[i]\n",
        "    return food_dict\n",
        "\n",
        "# Example usage\n",
        "food_list = [\"Rice\", \"Chicken\", \"Salad\", \"Steak\"]\n",
        "price_list = [30, 120, 50, 800]\n",
        "\n",
        "result_dict = create_food_dictionary(food_list, price_list)\n",
        "print(\"Food Dictionary:\", result_dict)"
      ],
      "metadata": {
        "colab": {
          "base_uri": "https://localhost:8080/"
        },
        "id": "q_MVkFk8lWOt",
        "outputId": "1b989aa8-b69a-42b1-a7cb-f6822d5d62e0"
      },
      "execution_count": null,
      "outputs": [
        {
          "output_type": "stream",
          "name": "stdout",
          "text": [
            "Food Dictionary: {'Rice': 30, 'Chicken': 120, 'Salad': 50, 'Steak': 800}\n"
          ]
        }
      ]
    },
    {
      "cell_type": "markdown",
      "source": [
        "**b) Answer :** Using variable-length arguments in Python functions: Variable-length arguments allow a function to accept any number of arguments. This is achieved using the ***args** syntax. Here's an example:"
      ],
      "metadata": {
        "id": "izDShJgjlg4_"
      }
    },
    {
      "cell_type": "code",
      "source": [
        "def sum_values(*args):\n",
        "    total = 0\n",
        "    for value in args:\n",
        "        total += value\n",
        "    return total\n",
        "\n",
        "# Example usage\n",
        "result1 = sum_values(1, 2, 3, 4, 5)\n",
        "result2 = sum_values(10, 20, 30)\n",
        "\n",
        "print(\"Result 1:\", result1)  # Output: Result 1: 15\n",
        "print(\"Result 2:\", result2)  # Output: Result 2: 60"
      ],
      "metadata": {
        "colab": {
          "base_uri": "https://localhost:8080/"
        },
        "id": "PMnc7RDvlbPn",
        "outputId": "cb90fc69-bc11-46c4-b620-8c8ad186f254"
      },
      "execution_count": null,
      "outputs": [
        {
          "output_type": "stream",
          "name": "stdout",
          "text": [
            "Result 1: 15\n",
            "Result 2: 60\n"
          ]
        }
      ]
    },
    {
      "cell_type": "markdown",
      "source": [
        "In this example, the **sum_values** function accepts any number of arguments using ***args** and calculates the sum of all the values passed to it. This allows you to call the function with different numbers of arguments."
      ],
      "metadata": {
        "id": "H4euW_GbltCk"
      }
    },
    {
      "cell_type": "markdown",
      "source": [
        "# **Spring 2022 Solve**"
      ],
      "metadata": {
        "id": "Aq3IA8qb5TfI"
      }
    },
    {
      "cell_type": "markdown",
      "source": [
        "**1. (a)**"
      ],
      "metadata": {
        "id": "q9BeXg8R8DQq"
      }
    },
    {
      "cell_type": "code",
      "source": [
        "#1 (i)\n",
        "x = float(input())\n",
        "y = float(input())\n",
        "print((x + y) / 5)"
      ],
      "metadata": {
        "colab": {
          "base_uri": "https://localhost:8080/"
        },
        "id": "SB9gRZrq6k3l",
        "outputId": "8078cc90-fa2c-423b-b516-c85c407f8cdb"
      },
      "execution_count": null,
      "outputs": [
        {
          "output_type": "stream",
          "name": "stdout",
          "text": [
            "2\n",
            "3\n",
            "1.0\n"
          ]
        }
      ]
    },
    {
      "cell_type": "code",
      "source": [
        "#1 (ii)\n",
        "a = [\"a\", \"b\", \"d\"]\n",
        "a.append(\"c\")  # Use append() to add a value to the end of the list\n",
        "print(a[2])    # Lists in Python are zero-indexed, so the index for \"c\" is 2, not 3"
      ],
      "metadata": {
        "colab": {
          "base_uri": "https://localhost:8080/"
        },
        "id": "ujPDNi577EMo",
        "outputId": "6845cf50-ea1b-41cb-9a7d-bcb588134c35"
      },
      "execution_count": null,
      "outputs": [
        {
          "output_type": "stream",
          "name": "stdout",
          "text": [
            "d\n"
          ]
        }
      ]
    },
    {
      "cell_type": "markdown",
      "source": [
        "**1. (b)**"
      ],
      "metadata": {
        "id": "FMzIGLXy757H"
      }
    },
    {
      "cell_type": "code",
      "source": [
        "# Open the input file for reading\n",
        "with open(\"input.txt\", \"r\") as input_file:\n",
        "    # Read the content of the file\n",
        "    content = input_file.read()\n",
        "\n",
        "    # Split the content into words\n",
        "    words = content.split()\n",
        "\n",
        "    # Open the output file for writing\n",
        "    with open(\"output.txt\", \"w\") as output_file:\n",
        "        # Write each word on a separate line in the output file\n",
        "        for word in words:\n",
        "            output_file.write(word + \"\\n\")"
      ],
      "metadata": {
        "id": "cv8mCFQC7SH5"
      },
      "execution_count": null,
      "outputs": []
    },
    {
      "cell_type": "markdown",
      "source": [
        "**2.**"
      ],
      "metadata": {
        "id": "XcpE8hOt7-kY"
      }
    },
    {
      "cell_type": "code",
      "source": [
        "#a\n",
        "class Vehicle:\n",
        "    def __init__(self, speed, number_of_wheels):\n",
        "        self.speed = speed\n",
        "        self.number_of_wheels = number_of_wheels\n",
        "\n",
        "    def print_info(self):\n",
        "        print(f\"Speed: {self.speed} Km/h, Number of Wheels: {self.number_of_wheels}\")\n",
        "\n",
        "# Creating an object of the Vehicle class\n",
        "vehicle_obj = Vehicle(speed=60, number_of_wheels=4)\n",
        "\n",
        "# Calling the print_info method to display the information\n",
        "vehicle_obj.print_info()"
      ],
      "metadata": {
        "colab": {
          "base_uri": "https://localhost:8080/"
        },
        "id": "SQau_l1-790S",
        "outputId": "320704b2-9768-4e0e-c7d4-0311e77c921a"
      },
      "execution_count": null,
      "outputs": [
        {
          "output_type": "stream",
          "name": "stdout",
          "text": [
            "Speed: 60 Km/h, Number of Wheels: 4\n"
          ]
        }
      ]
    },
    {
      "cell_type": "code",
      "source": [
        "#b\n",
        "class Person:\n",
        "    fname = \"Mr.\"\n",
        "    age = 10\n",
        "\n",
        "    def __init__(self, fname, lname, age):\n",
        "        self.fname = self.fname + fname\n",
        "        self.lname = lname\n",
        "        self.age = age\n",
        "\n",
        "    def increase_age(self, inc):\n",
        "        self.age += inc\n",
        "\n",
        "    def print_info(self):\n",
        "        print(self.fname)\n",
        "        print(self.lname)\n",
        "        print(self.age)\n",
        "\n",
        "# Creating an instance of the Person class\n",
        "person1 = Person(\"Eren\", \"Yeager\", 12)\n",
        "\n",
        "# Calling methods to modify and print information\n",
        "person1.increase_age(8)\n",
        "person1.print_info()"
      ],
      "metadata": {
        "colab": {
          "base_uri": "https://localhost:8080/"
        },
        "id": "5yltgvP18aU8",
        "outputId": "009746a9-cf16-427d-de96-b60257de9bae"
      },
      "execution_count": null,
      "outputs": [
        {
          "output_type": "stream",
          "name": "stdout",
          "text": [
            "Mr.Eren\n",
            "Yeager\n",
            "20\n"
          ]
        }
      ]
    },
    {
      "cell_type": "markdown",
      "source": [
        "**3.**"
      ],
      "metadata": {
        "id": "iNJ6F6CI8heW"
      }
    },
    {
      "cell_type": "code",
      "source": [
        "def sort_integers(*args):\n",
        "    sorted_numbers = sorted(args)\n",
        "    for number in sorted_numbers:\n",
        "        print(number)\n",
        "\n",
        "# Sample Input\n",
        "sort_integers(3, 5, 2, 6)\n",
        "\n",
        "# Sample Output\n",
        "# 2\n",
        "# 3\n",
        "# 5\n",
        "# 6\n",
        "\n",
        "# Another Sample Input\n",
        "sort_integers(10, 5)\n",
        "\n",
        "# Another Sample Output\n",
        "# 5\n",
        "# 10"
      ],
      "metadata": {
        "colab": {
          "base_uri": "https://localhost:8080/"
        },
        "id": "FdC4ilFA8ggx",
        "outputId": "8087fe54-c306-492d-f0b8-e496adf5585f"
      },
      "execution_count": null,
      "outputs": [
        {
          "output_type": "stream",
          "name": "stdout",
          "text": [
            "2\n",
            "3\n",
            "5\n",
            "6\n",
            "5\n",
            "10\n"
          ]
        }
      ]
    },
    {
      "cell_type": "markdown",
      "source": [
        "**4.**"
      ],
      "metadata": {
        "id": "cA6jX6pm89hd"
      }
    },
    {
      "cell_type": "code",
      "source": [
        "def compare_and_return_larger_sum(list1, list2):\n",
        "    sum1 = sum(list1[i] for i in range(len(list1)) if i % 2 == 0)\n",
        "    sum2 = sum(list2[i] for i in range(len(list2)) if i % 3 == 0)\n",
        "\n",
        "    return max(sum1, sum2)\n",
        "\n",
        "# Sample Input\n",
        "list1 = [10, 2, -2, 5, 8, 6, 2, 21]\n",
        "list2 = [8, 10, 11, 7, 3, 9, 5, 6, 1]\n",
        "\n",
        "# Sample Output\n",
        "result = compare_and_return_larger_sum(list1, list2)\n",
        "print(result)"
      ],
      "metadata": {
        "colab": {
          "base_uri": "https://localhost:8080/"
        },
        "id": "rlNu42nX84O2",
        "outputId": "fe771bb4-74b7-47eb-aef2-41a7d368c038"
      },
      "execution_count": null,
      "outputs": [
        {
          "output_type": "stream",
          "name": "stdout",
          "text": [
            "20\n"
          ]
        }
      ]
    },
    {
      "cell_type": "markdown",
      "source": [
        "# **Fall 2021 Solve**"
      ],
      "metadata": {
        "id": "o5BL2efw-u-8"
      }
    },
    {
      "cell_type": "markdown",
      "source": [
        "**1.**"
      ],
      "metadata": {
        "id": "fImT19O19k1c"
      }
    },
    {
      "cell_type": "code",
      "source": [
        "class MyClass:\n",
        "    def MaxFromList(self, input_list):\n",
        "        # Check if the list is not empty\n",
        "        if not input_list:\n",
        "            return \"List is empty.\"\n",
        "        else:\n",
        "            return max(input_list)\n",
        "\n",
        "    def DivisibleByFive(self, input_list):\n",
        "        # Print elements of the list divisible by 5\n",
        "        divisible_by_five = [num for num in input_list if num % 5 == 0]\n",
        "        print(divisible_by_five)\n",
        "\n",
        "# Example usage:\n",
        "my_instance = MyClass()\n",
        "\n",
        "# Calling MaxFromList function\n",
        "numbers = [10, 25, 8, 30, 15]\n",
        "max_value = my_instance.MaxFromList(numbers)\n",
        "print(f\"Maximum value from the list: {max_value}\")\n",
        "\n",
        "# Calling DivisibleByFive function\n",
        "my_instance.DivisibleByFive(numbers)"
      ],
      "metadata": {
        "colab": {
          "base_uri": "https://localhost:8080/"
        },
        "id": "SFGR0Og_9nGN",
        "outputId": "54fdfddd-ec20-4eb3-b20b-7617b94e1c72"
      },
      "execution_count": null,
      "outputs": [
        {
          "output_type": "stream",
          "name": "stdout",
          "text": [
            "Maximum value from the list: 30\n",
            "[10, 25, 30, 15]\n"
          ]
        }
      ]
    },
    {
      "cell_type": "markdown",
      "source": [
        "**2.**"
      ],
      "metadata": {
        "id": "hSB44hbY9rjP"
      }
    },
    {
      "cell_type": "code",
      "source": [
        "# Initialize an empty list\n",
        "MyList = []\n",
        "\n",
        "# Append five numbers into the list using Input()\n",
        "for _ in range(5):\n",
        "    number = int(input(\"Enter a number: \"))\n",
        "    MyList.append(number)\n",
        "\n",
        "# Sort the list elements\n",
        "MyList.sort()\n",
        "\n",
        "# Print the list elements\n",
        "print(\"Sorted List:\", MyList)\n",
        "\n",
        "# Print the length of the list\n",
        "print(\"Length of the List:\", len(MyList))\n",
        "\n",
        "# Remove an element from the list\n",
        "element_to_remove = int(input(\"Enter an element to remove: \"))\n",
        "if element_to_remove in MyList:\n",
        "    MyList.remove(element_to_remove)\n",
        "    print(f\"Element {element_to_remove} removed.\")\n",
        "else:\n",
        "    print(f\"Element {element_to_remove} not found in the list.\")\n",
        "\n",
        "# Print the last three elements of the list with negative indexing\n",
        "print(\"Last three elements:\", MyList[-3:])\n",
        "\n",
        "# Print the list elements backward\n",
        "print(\"List elements backward:\", MyList[::-1])"
      ],
      "metadata": {
        "colab": {
          "base_uri": "https://localhost:8080/"
        },
        "id": "ZaOWD3Of9tCg",
        "outputId": "84ba6f98-a37d-4b48-b66f-f9cf02749451"
      },
      "execution_count": null,
      "outputs": [
        {
          "output_type": "stream",
          "name": "stdout",
          "text": [
            "Enter a number: 10\n",
            "Enter a number: 20\n",
            "Enter a number: 30\n",
            "Enter a number: 40\n",
            "Enter a number: 22\n",
            "Sorted List: [10, 20, 22, 30, 40]\n",
            "Length of the List: 5\n",
            "Enter an element to remove: 20\n",
            "Element 20 removed.\n",
            "Last three elements: [22, 30, 40]\n",
            "List elements backward: [40, 30, 22, 10]\n"
          ]
        }
      ]
    },
    {
      "cell_type": "markdown",
      "source": [
        "**3.**"
      ],
      "metadata": {
        "id": "sOiK-xnz92Tf"
      }
    },
    {
      "cell_type": "code",
      "source": [
        "<!DOCTYPE html>\n",
        "<html lang=\"en\">\n",
        "\n",
        "<head>\n",
        "    <meta charset=\"UTF-8\">\n",
        "    <meta http-equiv=\"X-UA-Compatible\" content=\"IE=edge\">\n",
        "    <meta name=\"viewport\" content=\"width=device-width, initial-scale=1.0\">\n",
        "    <title>Stylish Form</title>\n",
        "\n",
        "    <style>\n",
        "        /* Styling for the first div */\n",
        "        #div1 {\n",
        "            background-color: #3498db;\n",
        "            color: #fff;\n",
        "            font-family: 'Arial', sans-serif;\n",
        "            font-size: 18px;\n",
        "            padding: 20px;\n",
        "        }\n",
        "\n",
        "        /* Styling for the second div */\n",
        "        #div2 {\n",
        "            background-color: #27ae60;\n",
        "            color: #fff;\n",
        "            font-family: 'Helvetica', sans-serif;\n",
        "            font-size: 16px;\n",
        "            padding: 20px;\n",
        "        }\n",
        "\n",
        "        /* Styling for the third div */\n",
        "        #div3 {\n",
        "            background-color: #e74c3c;\n",
        "            color: #fff;\n",
        "            font-family: 'Verdana', sans-serif;\n",
        "            font-size: 14px;\n",
        "            padding: 20px;\n",
        "        }\n",
        "\n",
        "        /* Styling for the form */\n",
        "        form {\n",
        "            background-color: #ecf0f1;\n",
        "            padding: 20px;\n",
        "            margin-top: 20px;\n",
        "            border-radius: 10px;\n",
        "            width: 300px;\n",
        "        }\n",
        "\n",
        "        /* Styling for the input fields and labels */\n",
        "        label {\n",
        "            display: block;\n",
        "            margin-bottom: 10px;\n",
        "        }\n",
        "\n",
        "        input {\n",
        "            width: 100%;\n",
        "            padding: 8px;\n",
        "            margin-bottom: 15px;\n",
        "            box-sizing: border-box;\n",
        "        }\n",
        "    </style>\n",
        "</head>\n",
        "\n",
        "<body>\n",
        "\n",
        "    <!-- First div -->\n",
        "    <div id=\"div1\">\n",
        "        <h2>Div 1</h2>\n",
        "        <p>This is the first div with a blue background and white text.</p>\n",
        "    </div>\n",
        "\n",
        "    <!-- Second div -->\n",
        "    <div id=\"div2\">\n",
        "        <h2>Div 2</h2>\n",
        "        <p>This is the second div with a green background and white text.</p>\n",
        "    </div>\n",
        "\n",
        "    <!-- Third div -->\n",
        "    <div id=\"div3\">\n",
        "        <h2>Div 3</h2>\n",
        "        <p>This is the third div with a red background and white text.</p>\n",
        "    </div>\n",
        "\n",
        "    <!-- Form -->\n",
        "    <form>\n",
        "        <label for=\"firstName\">First Name:</label>\n",
        "        <input type=\"text\" id=\"firstName\" name=\"firstName\" required>\n",
        "\n",
        "        <label for=\"lastName\">Last Name:</label>\n",
        "        <input type=\"text\" id=\"lastName\" name=\"lastName\" required>\n",
        "\n",
        "        <label>Gender:</label>\n",
        "        <label><input type=\"radio\" name=\"gender\" value=\"male\"> Male</label>\n",
        "        <label><input type=\"radio\" name=\"gender\" value=\"female\"> Female</label>\n",
        "        <label><input type=\"radio\" name=\"gender\" value=\"other\"> Other</label>\n",
        "\n",
        "        <label>Programming Languages:</label>\n",
        "        <label><input type=\"checkbox\" name=\"language\" value=\"python\"> Python</label>\n",
        "        <label><input type=\"checkbox\" name=\"language\" value=\"javascript\"> JavaScript</label>\n",
        "        <label><input type=\"checkbox\" name=\"language\" value=\"java\"> Java</label>\n",
        "        <label><input type=\"checkbox\" name=\"language\" value=\"csharp\"> C#</label>\n",
        "        <label><input type=\"checkbox\" name=\"language\" value=\"ruby\"> Ruby</label>\n",
        "\n",
        "        <input type=\"submit\" value=\"Submit\">\n",
        "    </form>\n",
        "\n",
        "</body>\n",
        "\n",
        "</html>"
      ],
      "metadata": {
        "id": "xRo0JSjP96IU"
      },
      "execution_count": null,
      "outputs": []
    },
    {
      "cell_type": "markdown",
      "source": [
        "**4.**"
      ],
      "metadata": {
        "id": "dEjCiQ4Y-A7R"
      }
    },
    {
      "cell_type": "code",
      "source": [
        "pip install matplotlib"
      ],
      "metadata": {
        "colab": {
          "base_uri": "https://localhost:8080/"
        },
        "id": "tSKGvFWA-AO9",
        "outputId": "254282c9-75be-4b1b-deea-af0d914f8bf7"
      },
      "execution_count": null,
      "outputs": [
        {
          "output_type": "stream",
          "name": "stdout",
          "text": [
            "Requirement already satisfied: matplotlib in /usr/local/lib/python3.10/dist-packages (3.7.1)\n",
            "Requirement already satisfied: contourpy>=1.0.1 in /usr/local/lib/python3.10/dist-packages (from matplotlib) (1.2.0)\n",
            "Requirement already satisfied: cycler>=0.10 in /usr/local/lib/python3.10/dist-packages (from matplotlib) (0.12.1)\n",
            "Requirement already satisfied: fonttools>=4.22.0 in /usr/local/lib/python3.10/dist-packages (from matplotlib) (4.49.0)\n",
            "Requirement already satisfied: kiwisolver>=1.0.1 in /usr/local/lib/python3.10/dist-packages (from matplotlib) (1.4.5)\n",
            "Requirement already satisfied: numpy>=1.20 in /usr/local/lib/python3.10/dist-packages (from matplotlib) (1.25.2)\n",
            "Requirement already satisfied: packaging>=20.0 in /usr/local/lib/python3.10/dist-packages (from matplotlib) (23.2)\n",
            "Requirement already satisfied: pillow>=6.2.0 in /usr/local/lib/python3.10/dist-packages (from matplotlib) (9.4.0)\n",
            "Requirement already satisfied: pyparsing>=2.3.1 in /usr/local/lib/python3.10/dist-packages (from matplotlib) (3.1.1)\n",
            "Requirement already satisfied: python-dateutil>=2.7 in /usr/local/lib/python3.10/dist-packages (from matplotlib) (2.8.2)\n",
            "Requirement already satisfied: six>=1.5 in /usr/local/lib/python3.10/dist-packages (from python-dateutil>=2.7->matplotlib) (1.16.0)\n"
          ]
        }
      ]
    },
    {
      "cell_type": "code",
      "source": [
        "import matplotlib.pyplot as plt\n",
        "import random\n",
        "\n",
        "# Create a random list of 10 float variables\n",
        "float_values = [random.uniform(0, 1) for _ in range(10)]\n",
        "\n",
        "# Create a list of 10 integer values ranging from 10 to 99\n",
        "integer_values = [random.randint(10, 99) for _ in range(10)]\n",
        "\n",
        "# Create a scatter plot\n",
        "plt.scatter(integer_values, float_values, color='blue', marker='o')\n",
        "\n",
        "# Set labels for the axes\n",
        "plt.xlabel('Integer Values')\n",
        "plt.ylabel('Float Values')\n",
        "\n",
        "# Set the title of the plot\n",
        "plt.title('Scatter Plot of Integer Values vs Float Values')\n",
        "\n",
        "# Display the plot\n",
        "plt.show()"
      ],
      "metadata": {
        "colab": {
          "base_uri": "https://localhost:8080/",
          "height": 472
        },
        "id": "jQGsGRlZ-U2a",
        "outputId": "8219e125-2815-4dd0-e0e9-aa22360adec8"
      },
      "execution_count": null,
      "outputs": [
        {
          "output_type": "display_data",
          "data": {
            "text/plain": [
              "<Figure size 640x480 with 1 Axes>"
            ],
            "image/png": "[encoded data removed]"
          },
          "metadata": {}
        }
      ]
    },
    {
      "cell_type": "markdown",
      "source": [
        "# **Spring 2021 Solve**"
      ],
      "metadata": {
        "id": "TYGxSQO_-4oO"
      }
    },
    {
      "cell_type": "markdown",
      "source": [
        "**1. (a)**"
      ],
      "metadata": {
        "id": "fZfNTNxEA6w9"
      }
    },
    {
      "cell_type": "code",
      "source": [
        "#Class Attribute\n",
        "class Dog:\n",
        "    species = \"Canis familiaris\"  # Class attribute\n",
        "\n",
        "    def __init__(self, name, age):\n",
        "        self.name = name  # Instance attribute\n",
        "        self.age = age    # Instance attribute\n",
        "\n",
        "# Accessing the class attribute\n",
        "print(Dog.species)  # Output: Canis familiaris"
      ],
      "metadata": {
        "colab": {
          "base_uri": "https://localhost:8080/"
        },
        "id": "yyjYqfHdA0ij",
        "outputId": "149bbcba-6748-4e59-e7dd-5552b1cc21e3"
      },
      "execution_count": null,
      "outputs": [
        {
          "output_type": "stream",
          "name": "stdout",
          "text": [
            "Canis familiaris\n"
          ]
        }
      ]
    },
    {
      "cell_type": "code",
      "source": [
        "#Instance Attribute\n",
        "class Dog:\n",
        "    def __init__(self, name, age):\n",
        "        self.name = name  # Instance attribute\n",
        "        self.age = age    # Instance attribute\n",
        "\n",
        "# Creating instances and accessing instance attributes\n",
        "dog1 = Dog(\"Buddy\", 3)\n",
        "print(dog1.name)  # Output: Buddy\n",
        "print(dog1.age)   # Output: 3\n",
        "\n",
        "dog2 = Dog(\"Max\", 5)\n",
        "print(dog2.name)  # Output: Max\n",
        "print(dog2.age)   # Output: 5"
      ],
      "metadata": {
        "colab": {
          "base_uri": "https://localhost:8080/"
        },
        "id": "Qwo3exaxA_tT",
        "outputId": "72fa0562-bc77-4d20-81f5-78f13bc257e6"
      },
      "execution_count": null,
      "outputs": [
        {
          "output_type": "stream",
          "name": "stdout",
          "text": [
            "Buddy\n",
            "3\n",
            "Max\n",
            "5\n"
          ]
        }
      ]
    },
    {
      "cell_type": "markdown",
      "source": [
        "**1. (b)**"
      ],
      "metadata": {
        "id": "klsKm6dhBMSr"
      }
    },
    {
      "cell_type": "code",
      "source": [
        "class Vehicle:\n",
        "    def __init__(self, speed, num_wheels):\n",
        "        self.speed = speed\n",
        "        self.num_wheels = num_wheels\n",
        "\n",
        "    def information(self):\n",
        "        print(f\"Speed: {self.speed} Km/h, Number of Wheels: {self.num_wheels}\")\n",
        "\n",
        "\n",
        "class Rickshaw(Vehicle):\n",
        "    def information(self):\n",
        "        speed_in_mps = self.speed * 1000 / 3600  # Conversion from Km/h to m/s\n",
        "        print(f\"Speed: {speed_in_mps:.2f} m/s, Number of Wheels: {self.num_wheels}\")\n",
        "\n",
        "\n",
        "class Car(Vehicle):\n",
        "    def __init__(self, speed, num_wheels, fuel_type):\n",
        "        super().__init__(speed, num_wheels)\n",
        "        self.fuel_type = fuel_type\n",
        "\n",
        "    def information(self):\n",
        "        print(f\"Speed: {self.speed} Km/h, Fuel Type: {self.fuel_type}, Number of Wheels: {self.num_wheels}\")\n",
        "\n",
        "\n",
        "class Truck(Vehicle):\n",
        "    def __init__(self, speed, num_wheels, fuel_type):\n",
        "        super().__init__(speed, num_wheels)\n",
        "        self.fuel_type = fuel_type\n",
        "\n",
        "    def information(self):\n",
        "        print(f\"Speed: {self.speed} Km/h, Fuel Type: {self.fuel_type}, Number of Wheels: {self.num_wheels}\")\n",
        "\n",
        "\n",
        "# Example usage:\n",
        "vehicle = Vehicle(60, 4)\n",
        "vehicle.information()\n",
        "\n",
        "rickshaw = Rickshaw(30, 3)\n",
        "rickshaw.information()\n",
        "\n",
        "car = Car(80, 4, \"Gas\")\n",
        "car.information()\n",
        "\n",
        "truck = Truck(70, 6, \"Diesel\")\n",
        "truck.information()"
      ],
      "metadata": {
        "colab": {
          "base_uri": "https://localhost:8080/"
        },
        "id": "ng76d_J2BPR0",
        "outputId": "c6e3d2ac-f9ae-4112-89f1-a4e7a6addadd"
      },
      "execution_count": null,
      "outputs": [
        {
          "output_type": "stream",
          "name": "stdout",
          "text": [
            "Speed: 60 Km/h, Number of Wheels: 4\n",
            "Speed: 8.33 m/s, Number of Wheels: 3\n",
            "Speed: 80 Km/h, Fuel Type: Gas, Number of Wheels: 4\n",
            "Speed: 70 Km/h, Fuel Type: Diesel, Number of Wheels: 6\n"
          ]
        }
      ]
    },
    {
      "cell_type": "markdown",
      "source": [
        "**2. (a)**"
      ],
      "metadata": {
        "id": "x4xVZvCSBSq-"
      }
    },
    {
      "cell_type": "markdown",
      "source": [
        "Inline CSS :"
      ],
      "metadata": {
        "id": "_TgMMlF-Bf33"
      }
    },
    {
      "cell_type": "code",
      "source": [
        "<p style=\"color: blue; font-size: 16px;\">This is a blue paragraph with font size 16px.</p>"
      ],
      "metadata": {
        "id": "pilZT9l3BVmg"
      },
      "execution_count": null,
      "outputs": []
    },
    {
      "cell_type": "markdown",
      "source": [
        "Internal CSS :"
      ],
      "metadata": {
        "id": "mjdE-VCUBihL"
      }
    },
    {
      "cell_type": "code",
      "source": [
        "<head>\n",
        "  <style>\n",
        "    p {\n",
        "      color: green;\n",
        "      font-size: 18px;\n",
        "    }\n",
        "  </style>\n",
        "</head>\n",
        "<body>\n",
        "  <p>This is a green paragraph with font size 18px.</p>\n",
        "</body>"
      ],
      "metadata": {
        "id": "JF20mVTxBXWl"
      },
      "execution_count": null,
      "outputs": []
    },
    {
      "cell_type": "markdown",
      "source": [
        "External CSS :"
      ],
      "metadata": {
        "id": "KA3mTJtQBkgZ"
      }
    },
    {
      "cell_type": "markdown",
      "source": [
        "styles.css"
      ],
      "metadata": {
        "id": "vnnaf5DCBn6d"
      }
    },
    {
      "cell_type": "code",
      "source": [
        "p {\n",
        "  color: red;\n",
        "  font-size: 20px;\n",
        "}"
      ],
      "metadata": {
        "id": "yJ7p0ZMbBap0"
      },
      "execution_count": null,
      "outputs": []
    },
    {
      "cell_type": "markdown",
      "source": [
        "HTML"
      ],
      "metadata": {
        "id": "V65mUib6BrCI"
      }
    },
    {
      "cell_type": "code",
      "source": [
        "<head>\n",
        "  <link rel=\"stylesheet\" type=\"text/css\" href=\"styles.css\">\n",
        "</head>\n",
        "<body>\n",
        "  <p>This is a red paragraph with font size 20px.</p>\n",
        "</body>"
      ],
      "metadata": {
        "id": "9v4SVAujBbpv"
      },
      "execution_count": null,
      "outputs": []
    },
    {
      "cell_type": "markdown",
      "source": [
        "**2. (b)**"
      ],
      "metadata": {
        "id": "kr4VEVCqBt1C"
      }
    },
    {
      "cell_type": "code",
      "source": [
        "<!DOCTYPE html>\n",
        "<html lang=\"en\">\n",
        "\n",
        "<head>\n",
        "    <meta charset=\"UTF-8\">\n",
        "    <meta http-equiv=\"X-UA-Compatible\" content=\"IE=edge\">\n",
        "    <meta name=\"viewport\" content=\"width=device-width, initial-scale=1.0\">\n",
        "    <title>User Input Form</title>\n",
        "\n",
        "    <style>\n",
        "        /* Internal CSS */\n",
        "        body {\n",
        "            font-family: Arial, sans-serif;\n",
        "        }\n",
        "\n",
        "        label {\n",
        "            display: block;\n",
        "            margin-bottom: 10px;\n",
        "        }\n",
        "\n",
        "        input {\n",
        "            width: 100%;\n",
        "            padding: 8px;\n",
        "            margin-bottom: 15px;\n",
        "            box-sizing: border-box;\n",
        "        }\n",
        "    </style>\n",
        "</head>\n",
        "\n",
        "<body>\n",
        "    <h2>User Input Form</h2>\n",
        "\n",
        "    <!-- Form -->\n",
        "    <form action=\"#\" method=\"post\">\n",
        "        <label for=\"firstName\">First Name:</label>\n",
        "        <input type=\"text\" id=\"firstName\" name=\"firstName\" required>\n",
        "\n",
        "        <label for=\"lastName\">Last Name:</label>\n",
        "        <input type=\"text\" id=\"lastName\" name=\"lastName\" required>\n",
        "\n",
        "        <label>Gender:</label>\n",
        "        <label><input type=\"radio\" name=\"gender\" value=\"male\"> Male</label>\n",
        "        <label><input type=\"radio\" name=\"gender\" value=\"female\"> Female</label>\n",
        "\n",
        "        <label for=\"password\">Password:</label>\n",
        "        <input type=\"password\" id=\"password\" name=\"password\" required>\n",
        "\n",
        "        <label for=\"profileImage\">Profile Image:</label>\n",
        "        <input type=\"file\" id=\"profileImage\" name=\"profileImage\" accept=\"image/*\">\n",
        "\n",
        "        <input type=\"submit\" value=\"Submit\">\n",
        "    </form>\n",
        "</body>\n",
        "\n",
        "</html>"
      ],
      "metadata": {
        "id": "LJc8VcY8B1jw"
      },
      "execution_count": null,
      "outputs": []
    },
    {
      "cell_type": "markdown",
      "source": [
        "**3.**"
      ],
      "metadata": {
        "id": "iXmSQydlB4o-"
      }
    },
    {
      "cell_type": "code",
      "source": [
        "def remove_duplicates(lst):\n",
        "    unique_list = []\n",
        "    for num in lst:\n",
        "        if num not in unique_list:\n",
        "            unique_list.append(num)\n",
        "    return unique_list\n",
        "\n",
        "def sort_by_square(lst):\n",
        "    return sorted(lst, key=lambda x: x**2)\n",
        "\n",
        "# i) Create an empty list\n",
        "my_list = []\n",
        "\n",
        "# ii) Take an integer value n from your input\n",
        "n = int(input(\"Enter the value of n: \"))\n",
        "\n",
        "# iii) Take n integer numbers from the user and append them to the list\n",
        "for _ in range(n):\n",
        "    num = int(input(\"Enter an integer: \"))\n",
        "    my_list.append(num)\n",
        "\n",
        "# iv) Remove all duplicate values from the list\n",
        "my_list = remove_duplicates(my_list)\n",
        "\n",
        "# v) Sort the list using the square of each number\n",
        "my_list_sorted = sort_by_square(my_list)\n",
        "\n",
        "# Display the results\n",
        "print(\"Original List:\", my_list)\n",
        "print(\"List without Duplicates:\", my_list_sorted)"
      ],
      "metadata": {
        "colab": {
          "base_uri": "https://localhost:8080/"
        },
        "id": "zsqYgyicB6cS",
        "outputId": "e72503fe-1814-4c9e-a21d-8d8d02dc208b"
      },
      "execution_count": null,
      "outputs": [
        {
          "output_type": "stream",
          "name": "stdout",
          "text": [
            "Enter the value of n: 5\n",
            "Enter an integer: 1\n",
            "Enter an integer: 2\n",
            "Enter an integer: 2\n",
            "Enter an integer: 3\n",
            "Enter an integer: 4\n",
            "Original List: [1, 2, 3, 4]\n",
            "List without Duplicates: [1, 2, 3, 4]\n"
          ]
        }
      ]
    },
    {
      "cell_type": "markdown",
      "source": [
        "**4.**"
      ],
      "metadata": {
        "id": "Ue7ntOAvCH1m"
      }
    },
    {
      "cell_type": "code",
      "source": [
        "# i) Create an empty list using list constructor\n",
        "original_list = list()\n",
        "\n",
        "# ii) Take an integer value n from your input\n",
        "n = int(input(\"Enter the value of n: \"))\n",
        "\n",
        "# iii) Take n integer numbers from the user and append them to the list\n",
        "for _ in range(n):\n",
        "    num = int(input(\"Enter an integer: \"))\n",
        "    original_list.append(num)\n",
        "\n",
        "# iv) Create a new list by replacing positive numbers with their cubes and negative numbers with their squares\n",
        "new_list = []\n",
        "for num in original_list:\n",
        "    if num > 0:\n",
        "        new_list.append(num**3)\n",
        "    else:\n",
        "        new_list.append(num**2)\n",
        "\n",
        "# Display the result\n",
        "print(\"Original List:\", original_list)\n",
        "print(\"Modified List (using for loop):\", new_list)\n",
        "\n",
        "# v) Do the same task using List Comprehension\n",
        "new_list_comprehension = [num**3 if num > 0 else num**2 for num in original_list]\n",
        "\n",
        "# Display the result using List Comprehension\n",
        "print(\"Modified List (using List Comprehension):\", new_list_comprehension)"
      ],
      "metadata": {
        "colab": {
          "base_uri": "https://localhost:8080/"
        },
        "id": "xlUPiHG8CJny",
        "outputId": "a89cc8f3-684a-4dbe-8aa4-f33d2c9c139d"
      },
      "execution_count": null,
      "outputs": [
        {
          "output_type": "stream",
          "name": "stdout",
          "text": [
            "Enter the value of n: 5\n",
            "Enter an integer: 1\n",
            "Enter an integer: 3\n",
            "Enter an integer: 2\n",
            "Enter an integer: 4\n",
            "Enter an integer: 5\n",
            "Original List: [1, 3, 2, 4, 5]\n",
            "Modified List (using for loop): [1, 27, 8, 64, 125]\n",
            "Modified List (using List Comprehension): [1, 27, 8, 64, 125]\n"
          ]
        }
      ]
    },
    {
      "cell_type": "markdown",
      "source": [
        "# **Fall 2020 Solve**"
      ],
      "metadata": {
        "id": "g1AQLzypAxF_"
      }
    },
    {
      "cell_type": "markdown",
      "source": [
        "**1.**"
      ],
      "metadata": {
        "id": "vM_LYap1-pv2"
      }
    },
    {
      "cell_type": "markdown",
      "source": [
        "**1. (b)**"
      ],
      "metadata": {
        "id": "kZ7QR9xOAewE"
      }
    },
    {
      "cell_type": "code",
      "source": [
        "from abc import ABC, abstractmethod\n",
        "\n",
        "# Abstract class Animal\n",
        "class Animal(ABC):\n",
        "    def __init__(self):\n",
        "        self.food_list = []  # List to store food items\n",
        "\n",
        "    @abstractmethod\n",
        "    def set_food_habit(self):\n",
        "        pass\n",
        "\n",
        "# Concrete class Carnivorous inheriting from Animal\n",
        "class Carnivorous(Animal):\n",
        "    def set_food_habit(self):\n",
        "        self.food_list.append(\"Animal tissue or meat\")\n",
        "\n",
        "# Concrete class Herbivorous inheriting from Animal\n",
        "class Herbivorous(Animal):\n",
        "    def set_food_habit(self):\n",
        "        self.food_list.append(\"Plant material, e.g., foliage, leaves, etc.\")\n",
        "\n",
        "# Example Usage\n",
        "carnivore = Carnivorous()\n",
        "carnivore.set_food_habit()\n",
        "print(\"Carnivore Food Habit:\", carnivore.food_list)\n",
        "\n",
        "herbivore = Herbivorous()\n",
        "herbivore.set_food_habit()\n",
        "print(\"Herbivore Food Habit:\", herbivore.food_list)"
      ],
      "metadata": {
        "colab": {
          "base_uri": "https://localhost:8080/"
        },
        "id": "DySuzu8zAgt5",
        "outputId": "0faa0fc5-e37b-43e2-d445-714543998ed4"
      },
      "execution_count": null,
      "outputs": [
        {
          "output_type": "stream",
          "name": "stdout",
          "text": [
            "Carnivore Food Habit: ['Animal tissue or meat']\n",
            "Herbivore Food Habit: ['Plant material, e.g., foliage, leaves, etc.']\n"
          ]
        }
      ]
    },
    {
      "cell_type": "markdown",
      "source": [
        "**3.(a)**"
      ],
      "metadata": {
        "id": "PgojKxPdAjR_"
      }
    },
    {
      "cell_type": "code",
      "source": [
        "# Assuming your ID is a specific integer value\n",
        "your_id = 21201149  # Replace this with your actual ID\n",
        "\n",
        "# Calculate Y based on your ID\n",
        "alice_id = your_id + 1000\n",
        "\n",
        "# Print odd numbers between X and Y\n",
        "print(f\"Odd numbers between {your_id} and {alice_id}:\")\n",
        "for num in range(your_id, alice_id + 1):\n",
        "    if num % 2 != 0:\n",
        "        print(num)"
      ],
      "metadata": {
        "colab": {
          "base_uri": "https://localhost:8080/"
        },
        "id": "_b5M-iFyCbNd",
        "outputId": "d0353b88-ff3a-455a-995d-5de6a4f98171"
      },
      "execution_count": null,
      "outputs": [
        {
          "output_type": "stream",
          "name": "stdout",
          "text": [
            "Odd numbers between 21201149 and 21202149:\n",
            "21201149\n",
            "21201151\n",
            "21201153\n",
            "21201155\n",
            "21201157\n",
            "21201159\n",
            "21201161\n",
            "21201163\n",
            "21201165\n",
            "21201167\n",
            "21201169\n",
            "21201171\n",
            "21201173\n",
            "21201175\n",
            "21201177\n",
            "21201179\n",
            "21201181\n",
            "21201183\n",
            "21201185\n",
            "21201187\n",
            "21201189\n",
            "21201191\n",
            "21201193\n",
            "21201195\n",
            "21201197\n",
            "21201199\n",
            "21201201\n",
            "21201203\n",
            "21201205\n",
            "21201207\n",
            "21201209\n",
            "21201211\n",
            "21201213\n",
            "21201215\n",
            "21201217\n",
            "21201219\n",
            "21201221\n",
            "21201223\n",
            "21201225\n",
            "21201227\n",
            "21201229\n",
            "21201231\n",
            "21201233\n",
            "21201235\n",
            "21201237\n",
            "21201239\n",
            "21201241\n",
            "21201243\n",
            "21201245\n",
            "21201247\n",
            "21201249\n",
            "21201251\n",
            "21201253\n",
            "21201255\n",
            "21201257\n",
            "21201259\n",
            "21201261\n",
            "21201263\n",
            "21201265\n",
            "21201267\n",
            "21201269\n",
            "21201271\n",
            "21201273\n",
            "21201275\n",
            "21201277\n",
            "21201279\n",
            "21201281\n",
            "21201283\n",
            "21201285\n",
            "21201287\n",
            "21201289\n",
            "21201291\n",
            "21201293\n",
            "21201295\n",
            "21201297\n",
            "21201299\n",
            "21201301\n",
            "21201303\n",
            "21201305\n",
            "21201307\n",
            "21201309\n",
            "21201311\n",
            "21201313\n",
            "21201315\n",
            "21201317\n",
            "21201319\n",
            "21201321\n",
            "21201323\n",
            "21201325\n",
            "21201327\n",
            "21201329\n",
            "21201331\n",
            "21201333\n",
            "21201335\n",
            "21201337\n",
            "21201339\n",
            "21201341\n",
            "21201343\n",
            "21201345\n",
            "21201347\n",
            "21201349\n",
            "21201351\n",
            "21201353\n",
            "21201355\n",
            "21201357\n",
            "21201359\n",
            "21201361\n",
            "21201363\n",
            "21201365\n",
            "21201367\n",
            "21201369\n",
            "21201371\n",
            "21201373\n",
            "21201375\n",
            "21201377\n",
            "21201379\n",
            "21201381\n",
            "21201383\n",
            "21201385\n",
            "21201387\n",
            "21201389\n",
            "21201391\n",
            "21201393\n",
            "21201395\n",
            "21201397\n",
            "21201399\n",
            "21201401\n",
            "21201403\n",
            "21201405\n",
            "21201407\n",
            "21201409\n",
            "21201411\n",
            "21201413\n",
            "21201415\n",
            "21201417\n",
            "21201419\n",
            "21201421\n",
            "21201423\n",
            "21201425\n",
            "21201427\n",
            "21201429\n",
            "21201431\n",
            "21201433\n",
            "21201435\n",
            "21201437\n",
            "21201439\n",
            "21201441\n",
            "21201443\n",
            "21201445\n",
            "21201447\n",
            "21201449\n",
            "21201451\n",
            "21201453\n",
            "21201455\n",
            "21201457\n",
            "21201459\n",
            "21201461\n",
            "21201463\n",
            "21201465\n",
            "21201467\n",
            "21201469\n",
            "21201471\n",
            "21201473\n",
            "21201475\n",
            "21201477\n",
            "21201479\n",
            "21201481\n",
            "21201483\n",
            "21201485\n",
            "21201487\n",
            "21201489\n",
            "21201491\n",
            "21201493\n",
            "21201495\n",
            "21201497\n",
            "21201499\n",
            "21201501\n",
            "21201503\n",
            "21201505\n",
            "21201507\n",
            "21201509\n",
            "21201511\n",
            "21201513\n",
            "21201515\n",
            "21201517\n",
            "21201519\n",
            "21201521\n",
            "21201523\n",
            "21201525\n",
            "21201527\n",
            "21201529\n",
            "21201531\n",
            "21201533\n",
            "21201535\n",
            "21201537\n",
            "21201539\n",
            "21201541\n",
            "21201543\n",
            "21201545\n",
            "21201547\n",
            "21201549\n",
            "21201551\n",
            "21201553\n",
            "21201555\n",
            "21201557\n",
            "21201559\n",
            "21201561\n",
            "21201563\n",
            "21201565\n",
            "21201567\n",
            "21201569\n",
            "21201571\n",
            "21201573\n",
            "21201575\n",
            "21201577\n",
            "21201579\n",
            "21201581\n",
            "21201583\n",
            "21201585\n",
            "21201587\n",
            "21201589\n",
            "21201591\n",
            "21201593\n",
            "21201595\n",
            "21201597\n",
            "21201599\n",
            "21201601\n",
            "21201603\n",
            "21201605\n",
            "21201607\n",
            "21201609\n",
            "21201611\n",
            "21201613\n",
            "21201615\n",
            "21201617\n",
            "21201619\n",
            "21201621\n",
            "21201623\n",
            "21201625\n",
            "21201627\n",
            "21201629\n",
            "21201631\n",
            "21201633\n",
            "21201635\n",
            "21201637\n",
            "21201639\n",
            "21201641\n",
            "21201643\n",
            "21201645\n",
            "21201647\n",
            "21201649\n",
            "21201651\n",
            "21201653\n",
            "21201655\n",
            "21201657\n",
            "21201659\n",
            "21201661\n",
            "21201663\n",
            "21201665\n",
            "21201667\n",
            "21201669\n",
            "21201671\n",
            "21201673\n",
            "21201675\n",
            "21201677\n",
            "21201679\n",
            "21201681\n",
            "21201683\n",
            "21201685\n",
            "21201687\n",
            "21201689\n",
            "21201691\n",
            "21201693\n",
            "21201695\n",
            "21201697\n",
            "21201699\n",
            "21201701\n",
            "21201703\n",
            "21201705\n",
            "21201707\n",
            "21201709\n",
            "21201711\n",
            "21201713\n",
            "21201715\n",
            "21201717\n",
            "21201719\n",
            "21201721\n",
            "21201723\n",
            "21201725\n",
            "21201727\n",
            "21201729\n",
            "21201731\n",
            "21201733\n",
            "21201735\n",
            "21201737\n",
            "21201739\n",
            "21201741\n",
            "21201743\n",
            "21201745\n",
            "21201747\n",
            "21201749\n",
            "21201751\n",
            "21201753\n",
            "21201755\n",
            "21201757\n",
            "21201759\n",
            "21201761\n",
            "21201763\n",
            "21201765\n",
            "21201767\n",
            "21201769\n",
            "21201771\n",
            "21201773\n",
            "21201775\n",
            "21201777\n",
            "21201779\n",
            "21201781\n",
            "21201783\n",
            "21201785\n",
            "21201787\n",
            "21201789\n",
            "21201791\n",
            "21201793\n",
            "21201795\n",
            "21201797\n",
            "21201799\n",
            "21201801\n",
            "21201803\n",
            "21201805\n",
            "21201807\n",
            "21201809\n",
            "21201811\n",
            "21201813\n",
            "21201815\n",
            "21201817\n",
            "21201819\n",
            "21201821\n",
            "21201823\n",
            "21201825\n",
            "21201827\n",
            "21201829\n",
            "21201831\n",
            "21201833\n",
            "21201835\n",
            "21201837\n",
            "21201839\n",
            "21201841\n",
            "21201843\n",
            "21201845\n",
            "21201847\n",
            "21201849\n",
            "21201851\n",
            "21201853\n",
            "21201855\n",
            "21201857\n",
            "21201859\n",
            "21201861\n",
            "21201863\n",
            "21201865\n",
            "21201867\n",
            "21201869\n",
            "21201871\n",
            "21201873\n",
            "21201875\n",
            "21201877\n",
            "21201879\n",
            "21201881\n",
            "21201883\n",
            "21201885\n",
            "21201887\n",
            "21201889\n",
            "21201891\n",
            "21201893\n",
            "21201895\n",
            "21201897\n",
            "21201899\n",
            "21201901\n",
            "21201903\n",
            "21201905\n",
            "21201907\n",
            "21201909\n",
            "21201911\n",
            "21201913\n",
            "21201915\n",
            "21201917\n",
            "21201919\n",
            "21201921\n",
            "21201923\n",
            "21201925\n",
            "21201927\n",
            "21201929\n",
            "21201931\n",
            "21201933\n",
            "21201935\n",
            "21201937\n",
            "21201939\n",
            "21201941\n",
            "21201943\n",
            "21201945\n",
            "21201947\n",
            "21201949\n",
            "21201951\n",
            "21201953\n",
            "21201955\n",
            "21201957\n",
            "21201959\n",
            "21201961\n",
            "21201963\n",
            "21201965\n",
            "21201967\n",
            "21201969\n",
            "21201971\n",
            "21201973\n",
            "21201975\n",
            "21201977\n",
            "21201979\n",
            "21201981\n",
            "21201983\n",
            "21201985\n",
            "21201987\n",
            "21201989\n",
            "21201991\n",
            "21201993\n",
            "21201995\n",
            "21201997\n",
            "21201999\n",
            "21202001\n",
            "21202003\n",
            "21202005\n",
            "21202007\n",
            "21202009\n",
            "21202011\n",
            "21202013\n",
            "21202015\n",
            "21202017\n",
            "21202019\n",
            "21202021\n",
            "21202023\n",
            "21202025\n",
            "21202027\n",
            "21202029\n",
            "21202031\n",
            "21202033\n",
            "21202035\n",
            "21202037\n",
            "21202039\n",
            "21202041\n",
            "21202043\n",
            "21202045\n",
            "21202047\n",
            "21202049\n",
            "21202051\n",
            "21202053\n",
            "21202055\n",
            "21202057\n",
            "21202059\n",
            "21202061\n",
            "21202063\n",
            "21202065\n",
            "21202067\n",
            "21202069\n",
            "21202071\n",
            "21202073\n",
            "21202075\n",
            "21202077\n",
            "21202079\n",
            "21202081\n",
            "21202083\n",
            "21202085\n",
            "21202087\n",
            "21202089\n",
            "21202091\n",
            "21202093\n",
            "21202095\n",
            "21202097\n",
            "21202099\n",
            "21202101\n",
            "21202103\n",
            "21202105\n",
            "21202107\n",
            "21202109\n",
            "21202111\n",
            "21202113\n",
            "21202115\n",
            "21202117\n",
            "21202119\n",
            "21202121\n",
            "21202123\n",
            "21202125\n",
            "21202127\n",
            "21202129\n",
            "21202131\n",
            "21202133\n",
            "21202135\n",
            "21202137\n",
            "21202139\n",
            "21202141\n",
            "21202143\n",
            "21202145\n",
            "21202147\n",
            "21202149\n"
          ]
        }
      ]
    },
    {
      "cell_type": "markdown",
      "source": [
        "**3. (b)**"
      ],
      "metadata": {
        "id": "711XqmJwCgvg"
      }
    },
    {
      "cell_type": "code",
      "source": [
        "def is_divisible_by_3_and_5(number):\n",
        "    return number % 3 == 0 and number % 5 == 0\n",
        "\n",
        "# Example usage:\n",
        "num = 15  # Replace this with any integer you want to check\n",
        "result = is_divisible_by_3_and_5(num)\n",
        "print(f\"{num} is divisible by both 3 and 5: {result}\")"
      ],
      "metadata": {
        "colab": {
          "base_uri": "https://localhost:8080/"
        },
        "id": "-APqf5uiCf3-",
        "outputId": "0668c151-e68c-42e6-b10a-20fc7cacd59b"
      },
      "execution_count": null,
      "outputs": [
        {
          "output_type": "stream",
          "name": "stdout",
          "text": [
            "15 is divisible by both 3 and 5: True\n"
          ]
        }
      ]
    },
    {
      "cell_type": "markdown",
      "source": [
        "**4.**"
      ],
      "metadata": {
        "id": "RCa3igvGCnVZ"
      }
    },
    {
      "cell_type": "code",
      "source": [
        "def compare_sums(list1, list2):\n",
        "    # Summation of elements at indexes divisible by three in the first list\n",
        "    sum1 = sum(list1[::3])\n",
        "\n",
        "    # Summation of elements at indexes divisible by five in the second list\n",
        "    sum2 = sum(list2[::5])\n",
        "\n",
        "    # Compare and return the larger sum\n",
        "    if sum1 > sum2:\n",
        "        return sum1\n",
        "    else:\n",
        "        return sum2\n",
        "\n",
        "# Example usage:\n",
        "list1 = [1, 5, 3, 2, 8, 9, 5, 6, 3, 10]\n",
        "list2 = [2, 6, 4, 8, 10, 11, 7, 3, 9, 5, 6, 1]\n",
        "\n",
        "result = compare_sums(list1, list2)\n",
        "print(\"The larger sum is:\", result)"
      ],
      "metadata": {
        "colab": {
          "base_uri": "https://localhost:8080/"
        },
        "id": "8CLmIAHrCrE5",
        "outputId": "c2ce08c6-b6d3-4350-c492-d24e7295d0bd"
      },
      "execution_count": null,
      "outputs": [
        {
          "output_type": "stream",
          "name": "stdout",
          "text": [
            "The larger sum is: 19\n"
          ]
        }
      ]
    }
  ]
}