{
  "nbformat": 4,
  "nbformat_minor": 0,
  "metadata": {
    "colab": {
      "provenance": []
    },
    "kernelspec": {
      "name": "python3",
      "display_name": "Python 3"
    },
    "language_info": {
      "name": "python"
    }
  },
  "cells": [
    {
      "cell_type": "markdown",
      "source": [
        "*   Name : Nishat Tasnim\n",
        "*   Registration No : 21201149\n",
        "*   Course Code : CSE 309"
      ],
      "metadata": {
        "id": "x2zb72AYaUqd"
      }
    },
    {
      "cell_type": "markdown",
      "source": [
        "**Assignment : 01**"
      ],
      "metadata": {
        "id": "nsc7BqWVa0-_"
      }
    },
    {
      "cell_type": "markdown",
      "source": [
        "**1. Ans:**"
      ],
      "metadata": {
        "id": "zF1OHOY0aSR8"
      }
    },
    {
      "cell_type": "code",
      "execution_count": null,
      "metadata": {
        "colab": {
          "base_uri": "https://localhost:8080/"
        },
        "id": "NRLofavDGw8O",
        "outputId": "d296235b-cd90-40fe-c885-5208cf84d271"
      },
      "outputs": [
        {
          "output_type": "stream",
          "name": "stdout",
          "text": [
            "Low Stock Alerts: ['Oranges', 'Milk']\n"
          ]
        }
      ],
      "source": [
        "def generate_low_stock_alerts(inventory, low_stock_threshold):\n",
        "    low_stock_items = []\n",
        "    for item, quantity in inventory.items():\n",
        "        if quantity < low_stock_threshold:\n",
        "            low_stock_items.append(item)\n",
        "    return low_stock_items\n",
        "\n",
        "inventory = {\n",
        "    \"Apples\": 50,\n",
        "    \"Bananas\": 20,\n",
        "    \"Oranges\": 10,\n",
        "    \"Milk\": 5,\n",
        "    \"Bread\": 25\n",
        "}\n",
        "\n",
        "low_stock_threshold = 20\n",
        "\n",
        "low_stock_list = generate_low_stock_alerts(inventory, low_stock_threshold)\n",
        "print(\"Low Stock Alerts:\", low_stock_list)"
      ]
    },
    {
      "cell_type": "markdown",
      "source": [
        "**2. Ans:**"
      ],
      "metadata": {
        "id": "nADq9ye-aNWX"
      }
    },
    {
      "cell_type": "code",
      "source": [
        "def identify_poor_attendance_employees(attendance_data, attendance_threshold):\n",
        "    poor_attendance_employees = []\n",
        "\n",
        "    for employee, attendance_record in attendance_data.items():\n",
        "        total_days = len(attendance_record)\n",
        "        total_attendance = sum(attendance_record)\n",
        "        attendance_percentage = (total_attendance / total_days) * 100\n",
        "\n",
        "        if attendance_percentage < attendance_threshold:\n",
        "            poor_attendance_employees.append(employee)\n",
        "\n",
        "    return poor_attendance_employees\n",
        "\n",
        "attendance_data = {\n",
        "    \"Alice\": [True, True, True, False, True],\n",
        "    \"Bob\": [True, False, True, False, False],\n",
        "    \"Charlie\": [True, True, True, True, True]\n",
        "}\n",
        "\n",
        "attendance_threshold = 80\n",
        "\n",
        "poor_attendance_list = identify_poor_attendance_employees(attendance_data, attendance_threshold)\n",
        "print(\"Poor Attendance Employees:\", poor_attendance_list)"
      ],
      "metadata": {
        "colab": {
          "base_uri": "https://localhost:8080/"
        },
        "id": "OcJ5nAVDHx-K",
        "outputId": "33440e4c-3ebc-4fe5-c486-5699a06f1d97"
      },
      "execution_count": null,
      "outputs": [
        {
          "output_type": "stream",
          "name": "stdout",
          "text": [
            "Poor Attendance Employees: ['Bob']\n"
          ]
        }
      ]
    }
  ]
}
