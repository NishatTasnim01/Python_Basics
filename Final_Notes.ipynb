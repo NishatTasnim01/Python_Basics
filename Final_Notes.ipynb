{
  "nbformat": 4,
  "nbformat_minor": 0,
  "metadata": {
    "colab": {
      "provenance": []
    },
    "kernelspec": {
      "name": "python3",
      "display_name": "Python 3"
    },
    "language_info": {
      "name": "python"
    }
  },
  "cells": [
    {
      "cell_type": "markdown",
      "source": [
        "# **Python Fundamentals**"
      ],
      "metadata": {
        "id": "rDsOAyZPyLPt"
      }
    },
    {
      "cell_type": "markdown",
      "source": [
        "# **Basics (Variables, Data Types, Basic Operations)**"
      ],
      "metadata": {
        "id": "-uieQM4vyTzx"
      }
    },
    {
      "cell_type": "markdown",
      "source": [
        "1. Print"
      ],
      "metadata": {
        "id": "u1e9pVXWyFbj"
      }
    },
    {
      "cell_type": "code",
      "source": [
        "print('Hello World!')\n",
        "print(\"Hello World!\")"
      ],
      "metadata": {
        "colab": {
          "base_uri": "https://localhost:8080/"
        },
        "id": "WA83e54MyHs1",
        "outputId": "206614cd-e991-4c2c-d4c2-18171368ad60"
      },
      "execution_count": null,
      "outputs": [
        {
          "output_type": "stream",
          "name": "stdout",
          "text": [
            "Hello World!\n",
            "Hello World!\n"
          ]
        }
      ]
    },
    {
      "cell_type": "code",
      "source": [
        "print(\"Hello, World!\",end =' ')"
      ],
      "metadata": {
        "colab": {
          "base_uri": "https://localhost:8080/"
        },
        "id": "mQGfC3GOyrc_",
        "outputId": "224c7c07-6bd1-40e3-c689-671db51feecd"
      },
      "execution_count": null,
      "outputs": [
        {
          "output_type": "stream",
          "name": "stdout",
          "text": [
            "Hello, World! "
          ]
        }
      ]
    },
    {
      "cell_type": "code",
      "source": [
        "'It\\'s me, Nishat!'\n",
        "\"It's me, Nishat!\""
      ],
      "metadata": {
        "colab": {
          "base_uri": "https://localhost:8080/",
          "height": 36
        },
        "id": "g5vwME0RHGKj",
        "outputId": "9a913940-3146-4a4e-bf7f-c5d6eebc0b7a"
      },
      "execution_count": null,
      "outputs": [
        {
          "output_type": "execute_result",
          "data": {
            "text/plain": [
              "\"It's me, Nishat!\""
            ],
            "application/vnd.google.colaboratory.intrinsic+json": {
              "type": "string"
            }
          },
          "metadata": {},
          "execution_count": 116
        }
      ]
    },
    {
      "cell_type": "code",
      "source": [
        "m = 4\n",
        "print(m)\n",
        "m\n",
        "\n",
        "n = \"I'm Angry!\"\n",
        "print(n)\n",
        "n"
      ],
      "metadata": {
        "colab": {
          "base_uri": "https://localhost:8080/",
          "height": 72
        },
        "id": "Esw8MhjZ_sGQ",
        "outputId": "e98f9dc4-8be7-4e8c-a893-671ce153b4f1"
      },
      "execution_count": null,
      "outputs": [
        {
          "output_type": "stream",
          "name": "stdout",
          "text": [
            "4\n",
            "I'm Angry!\n"
          ]
        },
        {
          "output_type": "execute_result",
          "data": {
            "text/plain": [
              "\"I'm Angry!\""
            ],
            "application/vnd.google.colaboratory.intrinsic+json": {
              "type": "string"
            }
          },
          "metadata": {},
          "execution_count": 80
        }
      ]
    },
    {
      "cell_type": "markdown",
      "source": [
        "2. Comments"
      ],
      "metadata": {
        "id": "rgIY13M1yoHG"
      }
    },
    {
      "cell_type": "code",
      "source": [
        "# This is a single-line comment\n",
        "\n",
        "\"\"\"\n",
        "This is a\n",
        "multi-line comment\n",
        "\"\"\""
      ],
      "metadata": {
        "colab": {
          "base_uri": "https://localhost:8080/",
          "height": 36
        },
        "id": "P2GdtoTGy1N3",
        "outputId": "813c13be-d6d9-4b81-8e7c-6a867279b12f"
      },
      "execution_count": null,
      "outputs": [
        {
          "output_type": "execute_result",
          "data": {
            "text/plain": [
              "'\\nThis is a\\nmulti-line comment\\n'"
            ],
            "application/vnd.google.colaboratory.intrinsic+json": {
              "type": "string"
            }
          },
          "metadata": {},
          "execution_count": 3
        }
      ]
    },
    {
      "cell_type": "markdown",
      "source": [
        "3. Variables"
      ],
      "metadata": {
        "id": "1jj1DYh1zF-E"
      }
    },
    {
      "cell_type": "code",
      "source": [
        "name = \"John\"\n",
        "age = 25"
      ],
      "metadata": {
        "id": "fy9bz4VPzT3a"
      },
      "execution_count": null,
      "outputs": []
    },
    {
      "cell_type": "markdown",
      "source": [
        "4. Data Types"
      ],
      "metadata": {
        "id": "GVS8rvntzWOU"
      }
    },
    {
      "cell_type": "code",
      "source": [
        "type(2)"
      ],
      "metadata": {
        "colab": {
          "base_uri": "https://localhost:8080/"
        },
        "id": "tmipItd8EvNY",
        "outputId": "c237097f-fd46-4e3e-baa7-fb2cf06b9938"
      },
      "execution_count": null,
      "outputs": [
        {
          "output_type": "execute_result",
          "data": {
            "text/plain": [
              "int"
            ]
          },
          "metadata": {},
          "execution_count": 89
        }
      ]
    },
    {
      "cell_type": "code",
      "source": [
        "type(4.6)"
      ],
      "metadata": {
        "colab": {
          "base_uri": "https://localhost:8080/"
        },
        "id": "WW9bm7naExzW",
        "outputId": "5b389795-a327-4268-d197-dc5c5104b7bf"
      },
      "execution_count": null,
      "outputs": [
        {
          "output_type": "execute_result",
          "data": {
            "text/plain": [
              "float"
            ]
          },
          "metadata": {},
          "execution_count": 90
        }
      ]
    },
    {
      "cell_type": "code",
      "source": [
        "hello = 8\n",
        "type(hello)"
      ],
      "metadata": {
        "colab": {
          "base_uri": "https://localhost:8080/"
        },
        "id": "vKSKxUQzE4nL",
        "outputId": "22222f01-193d-47dc-9778-0dab3c4f28c5"
      },
      "execution_count": null,
      "outputs": [
        {
          "output_type": "execute_result",
          "data": {
            "text/plain": [
              "int"
            ]
          },
          "metadata": {},
          "execution_count": 91
        }
      ]
    },
    {
      "cell_type": "code",
      "source": [
        "type(\"hello\")"
      ],
      "metadata": {
        "colab": {
          "base_uri": "https://localhost:8080/"
        },
        "id": "Y38-PamnE9WA",
        "outputId": "866ee53c-b53b-4c5f-f5d6-de3852d725ff"
      },
      "execution_count": null,
      "outputs": [
        {
          "output_type": "execute_result",
          "data": {
            "text/plain": [
              "str"
            ]
          },
          "metadata": {},
          "execution_count": 92
        }
      ]
    },
    {
      "cell_type": "code",
      "source": [
        "type('class')"
      ],
      "metadata": {
        "colab": {
          "base_uri": "https://localhost:8080/"
        },
        "id": "TsmYVWjaE_fP",
        "outputId": "99892d28-18be-4313-83da-b2cd3a52b298"
      },
      "execution_count": null,
      "outputs": [
        {
          "output_type": "execute_result",
          "data": {
            "text/plain": [
              "str"
            ]
          },
          "metadata": {},
          "execution_count": 93
        }
      ]
    },
    {
      "cell_type": "code",
      "source": [
        "integer_number = 42        #Integer\n",
        "decimal_number = 3.14      #Float\n",
        "text = '\"Hello, World!\"'   #String\n",
        "is_python_fun = True       #Boolean"
      ],
      "metadata": {
        "id": "9_1ftXVEzYXM"
      },
      "execution_count": null,
      "outputs": []
    },
    {
      "cell_type": "code",
      "source": [
        "print(type(integer_number))     #Check Type\n",
        "print(type(decimal_number))\n",
        "print(type(text))\n",
        "print(type(is_python_fun))"
      ],
      "metadata": {
        "colab": {
          "base_uri": "https://localhost:8080/"
        },
        "id": "fXcuHZsSz7iE",
        "outputId": "4dedc902-4867-4dd8-a5fc-9ee987e9fe04"
      },
      "execution_count": null,
      "outputs": [
        {
          "output_type": "stream",
          "name": "stdout",
          "text": [
            "<class 'int'>\n",
            "<class 'float'>\n",
            "<class 'str'>\n",
            "<class 'bool'>\n"
          ]
        }
      ]
    },
    {
      "cell_type": "code",
      "source": [
        "integer_number #Print"
      ],
      "metadata": {
        "colab": {
          "base_uri": "https://localhost:8080/"
        },
        "id": "XsXUhKoP0P_8",
        "outputId": "11969ddb-1db0-4917-a03c-0d70e5f57529"
      },
      "execution_count": null,
      "outputs": [
        {
          "output_type": "execute_result",
          "data": {
            "text/plain": [
              "42"
            ]
          },
          "metadata": {},
          "execution_count": 13
        }
      ]
    },
    {
      "cell_type": "code",
      "source": [
        "decimal_number  #If we try to print multiple it will print only last one.\n",
        "is_python_fun\n",
        "text"
      ],
      "metadata": {
        "colab": {
          "base_uri": "https://localhost:8080/",
          "height": 36
        },
        "id": "FGtxnDL_0b7G",
        "outputId": "930b681a-1f7a-4722-d382-3eed894fc25e"
      },
      "execution_count": null,
      "outputs": [
        {
          "output_type": "execute_result",
          "data": {
            "text/plain": [
              "'\"Hello, World!\"'"
            ],
            "application/vnd.google.colaboratory.intrinsic+json": {
              "type": "string"
            }
          },
          "metadata": {},
          "execution_count": 14
        }
      ]
    },
    {
      "cell_type": "markdown",
      "source": [
        "5. Numbers"
      ],
      "metadata": {
        "id": "9aln6Aof0yXS"
      }
    },
    {
      "cell_type": "code",
      "source": [
        "# Integers\n",
        "x = 5\n",
        "\n",
        "# Floats\n",
        "y = 3.14"
      ],
      "metadata": {
        "id": "owSg2n0o0smN"
      },
      "execution_count": null,
      "outputs": []
    },
    {
      "cell_type": "markdown",
      "source": [
        "6. Type Casting"
      ],
      "metadata": {
        "id": "W24kY23t08Tt"
      }
    },
    {
      "cell_type": "code",
      "source": [
        "# Initial value as a float\n",
        "a = 5.6\n",
        "print(type(a), a)\n",
        "\n",
        "# Casting to integer, then to string\n",
        "a = str(int(a))  # First convert to int (5), then to string (\"5\")\n",
        "print(type(a), a)\n",
        "\n",
        "# Casting to float\n",
        "b = float(3)  # b will be 3.0\n",
        "print(type(b), b)\n",
        "\n",
        "# Casting to string\n",
        "c = str(42)  # c will be \"42\"\n",
        "print(type(c), c)"
      ],
      "metadata": {
        "colab": {
          "base_uri": "https://localhost:8080/"
        },
        "id": "ei-vqGOy0_3Q",
        "outputId": "b59c45b2-358a-45df-c5a8-3cdfaa65b8d0"
      },
      "execution_count": null,
      "outputs": [
        {
          "output_type": "stream",
          "name": "stdout",
          "text": [
            "<class 'float'> 5.6\n",
            "<class 'str'> 5\n",
            "<class 'float'> 3.0\n",
            "<class 'str'> 42\n"
          ]
        }
      ]
    },
    {
      "cell_type": "code",
      "source": [
        "d = 4.5\n",
        "print(type(d), d)\n",
        "\n",
        "d = int(d)\n",
        "print(type(d), d)\n",
        "\n",
        "d = str(d)\n",
        "print(type(d), d)"
      ],
      "metadata": {
        "colab": {
          "base_uri": "https://localhost:8080/"
        },
        "id": "r2Lk42qw2PaY",
        "outputId": "70fa24b8-4952-4e20-d187-ca1c9f85e0f3"
      },
      "execution_count": null,
      "outputs": [
        {
          "output_type": "stream",
          "name": "stdout",
          "text": [
            "<class 'float'> 4.5\n",
            "<class 'int'> 4\n",
            "<class 'str'> 4\n"
          ]
        }
      ]
    },
    {
      "cell_type": "code",
      "source": [
        "e = int(2.0009)\n",
        "print(type(e), e)\n",
        "\n",
        "f = float(4)\n",
        "print(type(f), f)"
      ],
      "metadata": {
        "colab": {
          "base_uri": "https://localhost:8080/"
        },
        "id": "c6EnzaYh3EaM",
        "outputId": "83e81a75-5ace-47a8-8716-337d4ed83148"
      },
      "execution_count": null,
      "outputs": [
        {
          "output_type": "stream",
          "name": "stdout",
          "text": [
            "<class 'int'> 2\n",
            "<class 'float'> 4.0\n"
          ]
        }
      ]
    },
    {
      "cell_type": "markdown",
      "source": [
        "7. String Basics"
      ],
      "metadata": {
        "id": "qsTuUHmu3e7R"
      }
    },
    {
      "cell_type": "code",
      "source": [
        "a = 'Hello I\\'m Nishat!'\n",
        "print(a)"
      ],
      "metadata": {
        "colab": {
          "base_uri": "https://localhost:8080/"
        },
        "id": "4fWFQXSu3huW",
        "outputId": "8e758923-dd9c-449b-f304-f694234d2f50"
      },
      "execution_count": null,
      "outputs": [
        {
          "output_type": "stream",
          "name": "stdout",
          "text": [
            "Hello I'm Nishat!\n"
          ]
        }
      ]
    },
    {
      "cell_type": "code",
      "source": [
        "b = 'I\\'m 100% positive about life!'\n",
        "print(b)"
      ],
      "metadata": {
        "colab": {
          "base_uri": "https://localhost:8080/"
        },
        "id": "9-UvtF6M21y5",
        "outputId": "14ee4d71-ea7f-43f3-ed61-da8c3c726e0a"
      },
      "execution_count": null,
      "outputs": [
        {
          "output_type": "stream",
          "name": "stdout",
          "text": [
            "I'm 100% positive about life!\n"
          ]
        }
      ]
    },
    {
      "cell_type": "code",
      "source": [
        "print(len(a))\n",
        "print(len(b))"
      ],
      "metadata": {
        "colab": {
          "base_uri": "https://localhost:8080/"
        },
        "id": "3IKE-VyR37cD",
        "outputId": "fa6e1858-8f3e-43ed-ae50-4048dc0ec3db"
      },
      "execution_count": null,
      "outputs": [
        {
          "output_type": "stream",
          "name": "stdout",
          "text": [
            "17\n",
            "29\n"
          ]
        }
      ]
    },
    {
      "cell_type": "code",
      "source": [
        "c = \"\"\"Lorem ipsum dolor sit amet,\n",
        "consectetur adipiscing elit,\n",
        "\n",
        "\n",
        "\n",
        "sed do eiusmod tempor incididunt\n",
        "ut labore et dolore magna aliqua.\"\"\"\n",
        "print(c)\n",
        "print(\" \")\n",
        "print(len(c))"
      ],
      "metadata": {
        "colab": {
          "base_uri": "https://localhost:8080/"
        },
        "id": "HLv9nntb4_5g",
        "outputId": "004d55d4-f1ae-465a-f14a-d9d0344bf962"
      },
      "execution_count": null,
      "outputs": [
        {
          "output_type": "stream",
          "name": "stdout",
          "text": [
            "Lorem ipsum dolor sit amet,\n",
            "consectetur adipiscing elit,\n",
            "\n",
            "\n",
            "\n",
            "sed do eiusmod tempor incididunt\n",
            "ut labore et dolore magna aliqua.\n",
            " \n",
            "126\n"
          ]
        }
      ]
    },
    {
      "cell_type": "markdown",
      "source": [
        "8. Slicing"
      ],
      "metadata": {
        "id": "CWgfqfpS5fWZ"
      }
    },
    {
      "cell_type": "code",
      "source": [
        "b = \"ABCDEFGHIJKLMNOPQRSTUVWXYZ\"\n",
        "print(b[-10:-4])"
      ],
      "metadata": {
        "colab": {
          "base_uri": "https://localhost:8080/"
        },
        "id": "qTXTU7425c6Z",
        "outputId": "7a387229-3e78-4986-a64d-810ac77f8d0e"
      },
      "execution_count": null,
      "outputs": [
        {
          "output_type": "stream",
          "name": "stdout",
          "text": [
            "QRSTUV\n"
          ]
        }
      ]
    },
    {
      "cell_type": "code",
      "source": [
        "print(b[-26:-1])"
      ],
      "metadata": {
        "colab": {
          "base_uri": "https://localhost:8080/"
        },
        "id": "vOWk3wYs5yl6",
        "outputId": "1d81756c-4cf5-4797-c9d1-0d156f3de4c2"
      },
      "execution_count": null,
      "outputs": [
        {
          "output_type": "stream",
          "name": "stdout",
          "text": [
            "ABCDEFGHIJKLMNOPQRSTUVWXY\n"
          ]
        }
      ]
    },
    {
      "cell_type": "code",
      "source": [
        "c = \"Hello, World!_ap CSE \"\n",
        "print(len(c))\n",
        "print(len(c[-10:-7]))\n",
        "print((c[-10:-7]))"
      ],
      "metadata": {
        "colab": {
          "base_uri": "https://localhost:8080/"
        },
        "id": "i_tE8bJa6wif",
        "outputId": "1edd34a7-11b3-4927-d8ce-96977f8cfdaf"
      },
      "execution_count": null,
      "outputs": [
        {
          "output_type": "stream",
          "name": "stdout",
          "text": [
            "21\n",
            "3\n",
            "d!_\n"
          ]
        }
      ]
    },
    {
      "cell_type": "code",
      "source": [
        "d = \"    \"       #Type 4 Space\n",
        "print(len(d))"
      ],
      "metadata": {
        "colab": {
          "base_uri": "https://localhost:8080/"
        },
        "id": "g_SYW-2T7PEQ",
        "outputId": "09f8bd00-1c19-4865-878f-231f3fcdcafa"
      },
      "execution_count": null,
      "outputs": [
        {
          "output_type": "stream",
          "name": "stdout",
          "text": [
            "4\n"
          ]
        }
      ]
    },
    {
      "cell_type": "code",
      "source": [
        "d = \"    12345 67890\"       #Type 4 Space then Digits with Space\n",
        "print(len(d[-11:-1]))\n",
        "print(d[-11:-1])"
      ],
      "metadata": {
        "colab": {
          "base_uri": "https://localhost:8080/"
        },
        "id": "z9dFHsPf7ngK",
        "outputId": "fcc97785-12d7-4307-f7c8-a8d7a78b0459"
      },
      "execution_count": null,
      "outputs": [
        {
          "output_type": "stream",
          "name": "stdout",
          "text": [
            "10\n",
            "12345 6789\n"
          ]
        }
      ]
    },
    {
      "cell_type": "markdown",
      "source": [
        "9. Modify String"
      ],
      "metadata": {
        "id": "fWn8_oUU8cy8"
      }
    },
    {
      "cell_type": "code",
      "source": [
        "a = \"Hello, World!\"\n",
        "print(a.upper())"
      ],
      "metadata": {
        "colab": {
          "base_uri": "https://localhost:8080/"
        },
        "id": "zSA2wE2z8fY6",
        "outputId": "55746d53-9d83-4209-e6f1-47c6cbaa859e"
      },
      "execution_count": null,
      "outputs": [
        {
          "output_type": "stream",
          "name": "stdout",
          "text": [
            "HELLO, WORLD!\n"
          ]
        }
      ]
    },
    {
      "cell_type": "code",
      "source": [
        "a = \"Hello, World!\"\n",
        "print(a.lower())"
      ],
      "metadata": {
        "colab": {
          "base_uri": "https://localhost:8080/"
        },
        "id": "nNY26JwG8ni5",
        "outputId": "309a6dc2-f103-48e2-e92a-a1ce707ece1b"
      },
      "execution_count": null,
      "outputs": [
        {
          "output_type": "stream",
          "name": "stdout",
          "text": [
            "hello, world!\n"
          ]
        }
      ]
    },
    {
      "cell_type": "code",
      "source": [
        "text = \"I'm Nishat Tasnim.\"\n",
        "upper_text = text.upper()\n",
        "lower_text = text.lower()\n",
        "print(upper_text)\n",
        "print(lower_text)"
      ],
      "metadata": {
        "colab": {
          "base_uri": "https://localhost:8080/"
        },
        "id": "07WAB4orJf9x",
        "outputId": "760e2cbc-9ddf-47db-9fa7-00d6c12dbd64"
      },
      "execution_count": null,
      "outputs": [
        {
          "output_type": "stream",
          "name": "stdout",
          "text": [
            "I'M NISHAT TASNIM.\n",
            "i'm nishat tasnim.\n"
          ]
        }
      ]
    },
    {
      "cell_type": "code",
      "source": [
        "text = \"are you a cat?\"\n",
        "capitalized_text = text.capitalize()\n",
        "print(capitalized_text)"
      ],
      "metadata": {
        "colab": {
          "base_uri": "https://localhost:8080/"
        },
        "id": "kgIe-vNVJWV3",
        "outputId": "107e40d8-61d2-4922-f4d4-522563a340e0"
      },
      "execution_count": null,
      "outputs": [
        {
          "output_type": "stream",
          "name": "stdout",
          "text": [
            "Are you a cat?\n"
          ]
        }
      ]
    },
    {
      "cell_type": "code",
      "source": [
        "text = \"Hello, Python\"\n",
        "print(text.startswith(\"Hello\"))    #These methods check if the string starts or ends with a specified prefix or suffix and return a boolean value.\n",
        "print(text.endswith(\"Python\"))"
      ],
      "metadata": {
        "colab": {
          "base_uri": "https://localhost:8080/"
        },
        "id": "ux4FeSY8J3VI",
        "outputId": "b9d292e4-8072-4703-ae7a-5c9425243cf6"
      },
      "execution_count": null,
      "outputs": [
        {
          "output_type": "stream",
          "name": "stdout",
          "text": [
            "True\n",
            "True\n"
          ]
        }
      ]
    },
    {
      "cell_type": "code",
      "source": [
        "text = \"Cat screams meow meow\"\n",
        "print(text.startswith(\"Cat\"))\n",
        "print(text.endswith(\"roar\"))"
      ],
      "metadata": {
        "colab": {
          "base_uri": "https://localhost:8080/"
        },
        "id": "Z0vMY6c9J9N7",
        "outputId": "5c883a4f-55d1-4946-bcd0-f95f756e68c6"
      },
      "execution_count": null,
      "outputs": [
        {
          "output_type": "stream",
          "name": "stdout",
          "text": [
            "True\n",
            "False\n"
          ]
        }
      ]
    },
    {
      "cell_type": "code",
      "source": [
        "#strip() method removes any leading and trailing whitespace characters from the string a.\n",
        "a = \"              Hello, World!          \"\n",
        "print(a.strip())"
      ],
      "metadata": {
        "colab": {
          "base_uri": "https://localhost:8080/"
        },
        "id": "NeK75Vsa8p9n",
        "outputId": "0ae42a54-998b-4aeb-a70e-062f4d8b707b"
      },
      "execution_count": null,
      "outputs": [
        {
          "output_type": "stream",
          "name": "stdout",
          "text": [
            "Hello, World!\n"
          ]
        }
      ]
    },
    {
      "cell_type": "code",
      "source": [
        "#This method splits the string into a list of substrings based on the specified separator.\n",
        "text = \"apple,orange,banana\"\n",
        "fruits = text.split(\",\")    # , = Separator\n",
        "print(fruits)"
      ],
      "metadata": {
        "colab": {
          "base_uri": "https://localhost:8080/"
        },
        "id": "vYbi6cy4Kd_-",
        "outputId": "2cf7f4b4-bb2e-47f3-99a5-4be4343d31a7"
      },
      "execution_count": null,
      "outputs": [
        {
          "output_type": "stream",
          "name": "stdout",
          "text": [
            "['apple', 'orange', 'banana']\n"
          ]
        }
      ]
    },
    {
      "cell_type": "code",
      "source": [
        "text = \"apple orange banana\"\n",
        "fruits = text.split(\" \")    # Space = Separator\n",
        "print(fruits)"
      ],
      "metadata": {
        "colab": {
          "base_uri": "https://localhost:8080/"
        },
        "id": "njyqqONTLD2l",
        "outputId": "880e74f4-2ea8-48a3-a21f-72d00a9655d3"
      },
      "execution_count": null,
      "outputs": [
        {
          "output_type": "stream",
          "name": "stdout",
          "text": [
            "['apple', 'orange', 'banana']\n"
          ]
        }
      ]
    },
    {
      "cell_type": "code",
      "source": [
        "#This method concatenates elements of an iterable into a single string, using the original string as a separator.\n",
        "country = ['Ban' 'gla' 'desh']\n",
        "text = \" \".join(country)\n",
        "print(text)\n",
        "\n",
        "fruits = ['Apple', 'Orange', 'Banana']\n",
        "text1 = \",\".join(fruits)\n",
        "print(text1)"
      ],
      "metadata": {
        "colab": {
          "base_uri": "https://localhost:8080/"
        },
        "id": "L6yN84r3LU0n",
        "outputId": "cdede4c1-e503-4f1e-a4d9-6d7622752d6d"
      },
      "execution_count": null,
      "outputs": [
        {
          "output_type": "stream",
          "name": "stdout",
          "text": [
            "Bangladesh\n",
            "Apple,Orange,Banana\n"
          ]
        }
      ]
    },
    {
      "cell_type": "code",
      "source": [
        "# Replace 'H' with 'J' in the string\n",
        "a = \"Hello! How are you?\"\n",
        "print(a.replace(\"H\", \"J\"))      # returns \"Jello! Jow are you?\"\n",
        "\n",
        "b = \"Meow Meow Meow! I'm a Bat!\"\n",
        "replaced = b.replace(\"B\", \"C\")  # Replace 'B' with 'C' in the string\n",
        "print(replaced)"
      ],
      "metadata": {
        "colab": {
          "base_uri": "https://localhost:8080/"
        },
        "id": "o6kKZcVo9B9K",
        "outputId": "34ec1310-ed38-49e6-e01d-706e028259dc"
      },
      "execution_count": null,
      "outputs": [
        {
          "output_type": "stream",
          "name": "stdout",
          "text": [
            "Jello! Jow are you?\n",
            "Meow Meow Meow! I'm a Cat!\n"
          ]
        }
      ]
    },
    {
      "cell_type": "code",
      "source": [
        "text = \"Hello World\"\n",
        "new_text = text.replace(\"World\", \"Python\")   # str.replace(old, new)\n",
        "print(new_text)"
      ],
      "metadata": {
        "colab": {
          "base_uri": "https://localhost:8080/"
        },
        "id": "R2bE5vwSMBGQ",
        "outputId": "9cc70bc6-fc05-4038-f4f2-d4e9fd2d4201"
      },
      "execution_count": null,
      "outputs": [
        {
          "output_type": "stream",
          "name": "stdout",
          "text": [
            "Hello Python\n"
          ]
        }
      ]
    },
    {
      "cell_type": "code",
      "source": [
        "# Concatenate strings and an integer\n",
        "a = \"Hello\"\n",
        "b = \"Iphone\"\n",
        "c = a + \" From My \" + b + \" \" + str(14) + \"!!!\"\n",
        "print(c)"
      ],
      "metadata": {
        "colab": {
          "base_uri": "https://localhost:8080/"
        },
        "id": "fQiqpKfs-ATX",
        "outputId": "255a45f2-1a68-465d-ce6e-512a30b95992"
      },
      "execution_count": null,
      "outputs": [
        {
          "output_type": "stream",
          "name": "stdout",
          "text": [
            "Hello From My Iphone 14!!!\n"
          ]
        }
      ]
    },
    {
      "cell_type": "code",
      "source": [
        "x = \"The temperature today is\"\n",
        "y = \"Degrees Celsius\"\n",
        "z = 25\n",
        "result = x + \" \" + str(z) + \" \" + y + \".\"\n",
        "print(result)"
      ],
      "metadata": {
        "colab": {
          "base_uri": "https://localhost:8080/"
        },
        "id": "cIVFh8V3-StU",
        "outputId": "a3ef8410-f5c1-4990-a946-ceba56f04361"
      },
      "execution_count": null,
      "outputs": [
        {
          "output_type": "stream",
          "name": "stdout",
          "text": [
            "The temperature today is 25 Degrees Celsius.\n"
          ]
        }
      ]
    },
    {
      "cell_type": "code",
      "source": [
        "name = \"Nishat\"\n",
        "age = 22\n",
        "message = \"My name is \" + name + \" and I am \" + str(age) + \" years old.\"\n",
        "print(message)"
      ],
      "metadata": {
        "colab": {
          "base_uri": "https://localhost:8080/"
        },
        "id": "lelmg5IIIKFr",
        "outputId": "3d434d66-fb92-4af4-bc8f-368782347bc8"
      },
      "execution_count": null,
      "outputs": [
        {
          "output_type": "stream",
          "name": "stdout",
          "text": [
            "My name is Nishat and I am 22 years old.\n"
          ]
        }
      ]
    },
    {
      "cell_type": "code",
      "source": [
        "# Convert integers to strings and concatenate them with another string\n",
        "a = 20\n",
        "c = 24\n",
        "d = ' Bye Bye ' + str(a) + str(c) + '!!'\n",
        "print(d)"
      ],
      "metadata": {
        "colab": {
          "base_uri": "https://localhost:8080/"
        },
        "id": "tmPuB4TM_RAs",
        "outputId": "2c7cb4e7-24cf-44bd-bdca-62260168d754"
      },
      "execution_count": 8,
      "outputs": [
        {
          "output_type": "stream",
          "name": "stdout",
          "text": [
            " Bye Bye 2024!!\n"
          ]
        }
      ]
    },
    {
      "cell_type": "code",
      "source": [
        "# Extract a substring, replace characters, and print the length\n",
        "a = 'hello world '\n",
        "b = a[-7:-1]  # Extract substring from index -7 to -2 (excluding the last index)\n",
        "print(b)\n",
        "b = b.replace('o', 'k')  # Replace 'o' with 'k' in the substring\n",
        "print(b)\n",
        "print(len(b))"
      ],
      "metadata": {
        "colab": {
          "base_uri": "https://localhost:8080/"
        },
        "id": "s2Ij29dT_nxZ",
        "outputId": "ab14e2f9-29d0-4abe-b8b0-a3d56df82cba"
      },
      "execution_count": null,
      "outputs": [
        {
          "output_type": "stream",
          "name": "stdout",
          "text": [
            " world\n",
            " wkrld\n",
            "6\n"
          ]
        }
      ]
    },
    {
      "cell_type": "code",
      "source": [
        "name = \"Nishat\"\n",
        "age = 22\n",
        "message = \"My name is %s and I am %d years old.\" % (name, age)\n",
        "print(message)\n",
        "\n",
        "\n",
        "# %s is a placeholder for a string.\n",
        "# %d is a placeholder for an integer.\n",
        "# The values to be inserted into the string are provided in a tuple (name, age) after the % operator."
      ],
      "metadata": {
        "colab": {
          "base_uri": "https://localhost:8080/"
        },
        "id": "bvNwLR3gIRmy",
        "outputId": "a1e49913-4a8c-4797-e464-86d69747ea11"
      },
      "execution_count": null,
      "outputs": [
        {
          "output_type": "stream",
          "name": "stdout",
          "text": [
            "My name is Nishat and I am 22 years old.\n"
          ]
        }
      ]
    },
    {
      "cell_type": "code",
      "source": [
        "name = \"Tasnim\"\n",
        "age = 22\n",
        "message = f\"My name is {name} and I am {age} years old.\"   # f-strings\n",
        "print(message)"
      ],
      "metadata": {
        "colab": {
          "base_uri": "https://localhost:8080/"
        },
        "id": "y8QVKl3rIjUz",
        "outputId": "8ca510e6-f5ff-46d6-d295-b240cb361506"
      },
      "execution_count": null,
      "outputs": [
        {
          "output_type": "stream",
          "name": "stdout",
          "text": [
            "My name is Tasnim and I am 22 years old.\n"
          ]
        }
      ]
    },
    {
      "cell_type": "markdown",
      "source": [
        "10. Arithmetic Operators:"
      ],
      "metadata": {
        "id": "Q6yObtGkEPXJ"
      }
    },
    {
      "cell_type": "code",
      "source": [
        "2+3"
      ],
      "metadata": {
        "colab": {
          "base_uri": "https://localhost:8080/"
        },
        "id": "5qFY3Ag3EUU2",
        "outputId": "90516264-1c08-43b9-bf0e-1a203a4d4d34"
      },
      "execution_count": null,
      "outputs": [
        {
          "output_type": "execute_result",
          "data": {
            "text/plain": [
              "5"
            ]
          },
          "metadata": {},
          "execution_count": 86
        }
      ]
    },
    {
      "cell_type": "code",
      "source": [
        "2+3.0009"
      ],
      "metadata": {
        "colab": {
          "base_uri": "https://localhost:8080/"
        },
        "id": "LiXs2bCkEgu6",
        "outputId": "830c9764-d887-4598-d40c-7661f80bf200"
      },
      "execution_count": null,
      "outputs": [
        {
          "output_type": "execute_result",
          "data": {
            "text/plain": [
              "5.0009"
            ]
          },
          "metadata": {},
          "execution_count": 87
        }
      ]
    },
    {
      "cell_type": "code",
      "source": [
        "3.9+2.776"
      ],
      "metadata": {
        "colab": {
          "base_uri": "https://localhost:8080/"
        },
        "id": "F8jkYoatEiaX",
        "outputId": "7193e462-bedc-407a-a8d3-5ab28d964243"
      },
      "execution_count": null,
      "outputs": [
        {
          "output_type": "execute_result",
          "data": {
            "text/plain": [
              "6.676"
            ]
          },
          "metadata": {},
          "execution_count": 88
        }
      ]
    },
    {
      "cell_type": "code",
      "source": [
        "50 - 3.4*2"
      ],
      "metadata": {
        "colab": {
          "base_uri": "https://localhost:8080/"
        },
        "id": "vselj93UEnGn",
        "outputId": "d47045d7-205e-4da9-f0bf-681cf437405e"
      },
      "execution_count": null,
      "outputs": [
        {
          "output_type": "execute_result",
          "data": {
            "text/plain": [
              "43.2"
            ]
          },
          "metadata": {},
          "execution_count": 94
        }
      ]
    },
    {
      "cell_type": "code",
      "source": [
        "6/4"
      ],
      "metadata": {
        "colab": {
          "base_uri": "https://localhost:8080/"
        },
        "id": "Z8x-tw0OFGro",
        "outputId": "7dd7dad5-6cca-47ca-e865-902573236b25"
      },
      "execution_count": null,
      "outputs": [
        {
          "output_type": "execute_result",
          "data": {
            "text/plain": [
              "1.5"
            ]
          },
          "metadata": {},
          "execution_count": 95
        }
      ]
    },
    {
      "cell_type": "code",
      "source": [
        "6//4"
      ],
      "metadata": {
        "colab": {
          "base_uri": "https://localhost:8080/"
        },
        "id": "atXqyWfsFIkT",
        "outputId": "e759dbfa-7c1f-4eba-c50e-4485a6effa93"
      },
      "execution_count": null,
      "outputs": [
        {
          "output_type": "execute_result",
          "data": {
            "text/plain": [
              "1"
            ]
          },
          "metadata": {},
          "execution_count": 96
        }
      ]
    },
    {
      "cell_type": "code",
      "source": [
        "6%4"
      ],
      "metadata": {
        "colab": {
          "base_uri": "https://localhost:8080/"
        },
        "id": "KHzmXDPoFLF-",
        "outputId": "8f1be944-18a5-45f8-ceb3-14979d2faf73"
      },
      "execution_count": null,
      "outputs": [
        {
          "output_type": "execute_result",
          "data": {
            "text/plain": [
              "2"
            ]
          },
          "metadata": {},
          "execution_count": 97
        }
      ]
    },
    {
      "cell_type": "code",
      "source": [
        "6**2  # 6^2"
      ],
      "metadata": {
        "colab": {
          "base_uri": "https://localhost:8080/"
        },
        "id": "9fh6JCnnFNa0",
        "outputId": "1b61d522-d1c4-4196-f6c4-fb67de148b94"
      },
      "execution_count": null,
      "outputs": [
        {
          "output_type": "execute_result",
          "data": {
            "text/plain": [
              "36"
            ]
          },
          "metadata": {},
          "execution_count": 98
        }
      ]
    },
    {
      "cell_type": "code",
      "source": [
        "7**7  # 7^7"
      ],
      "metadata": {
        "colab": {
          "base_uri": "https://localhost:8080/"
        },
        "id": "1qk6ZHz3FQEv",
        "outputId": "a8a44bff-8598-43b7-f23f-195ed5203f53"
      },
      "execution_count": null,
      "outputs": [
        {
          "output_type": "execute_result",
          "data": {
            "text/plain": [
              "823543"
            ]
          },
          "metadata": {},
          "execution_count": 99
        }
      ]
    },
    {
      "cell_type": "code",
      "source": [
        "height = 3.2\n",
        "base = 5.2\n",
        "area = height * base\n",
        "print(area)"
      ],
      "metadata": {
        "colab": {
          "base_uri": "https://localhost:8080/"
        },
        "id": "Q9Q61iXXFXCF",
        "outputId": "aa7266c4-b190-4354-df88-43197994c877"
      },
      "execution_count": 12,
      "outputs": [
        {
          "output_type": "stream",
          "name": "stdout",
          "text": [
            "16.64\n"
          ]
        }
      ]
    },
    {
      "cell_type": "code",
      "source": [
        "a = 10\n",
        "b = 3\n",
        "\n",
        "print(a + b)  # Addition: 13\n",
        "print(a - b)  # Subtraction: 7\n",
        "print(a * b)  # Multiplication: 30\n",
        "print(a / b)  # Division: 3.3333333333333335\n",
        "print(a // b) # Floor Division: 3\n",
        "print(a % b)  # Modulus/Remainder: 1\n",
        "print(a ** b) # Exponentiation: 1000"
      ],
      "metadata": {
        "colab": {
          "base_uri": "https://localhost:8080/"
        },
        "id": "qZxs2kETM068",
        "outputId": "ffcfda28-2aac-4d6a-fb3f-4e8ccb45ed42"
      },
      "execution_count": 9,
      "outputs": [
        {
          "output_type": "stream",
          "name": "stdout",
          "text": [
            "13\n",
            "7\n",
            "30\n",
            "3.3333333333333335\n",
            "3\n",
            "1\n",
            "1000\n"
          ]
        }
      ]
    },
    {
      "cell_type": "code",
      "source": [
        "area"
      ],
      "metadata": {
        "colab": {
          "base_uri": "https://localhost:8080/"
        },
        "id": "vJ0jCdRcFtN7",
        "outputId": "efa3f8cf-8876-41a2-b33b-540f97540032"
      },
      "execution_count": 13,
      "outputs": [
        {
          "output_type": "execute_result",
          "data": {
            "text/plain": [
              "16.64"
            ]
          },
          "metadata": {},
          "execution_count": 13
        }
      ]
    },
    {
      "cell_type": "code",
      "source": [
        "area_2 = _ /2   #Rounding\n",
        "area_2"
      ],
      "metadata": {
        "colab": {
          "base_uri": "https://localhost:8080/"
        },
        "id": "lJkSOxKbFaqe",
        "outputId": "2bce4bb3-dd06-424f-f141-19ee93fdd294"
      },
      "execution_count": 14,
      "outputs": [
        {
          "output_type": "execute_result",
          "data": {
            "text/plain": [
              "8.32"
            ]
          },
          "metadata": {},
          "execution_count": 14
        }
      ]
    },
    {
      "cell_type": "code",
      "source": [
        "round(area_2,1)"
      ],
      "metadata": {
        "colab": {
          "base_uri": "https://localhost:8080/"
        },
        "id": "kHWHaYexF2GC",
        "outputId": "be04bd72-b190-46d5-efc6-6c23a0040464"
      },
      "execution_count": 15,
      "outputs": [
        {
          "output_type": "execute_result",
          "data": {
            "text/plain": [
              "8.3"
            ]
          },
          "metadata": {},
          "execution_count": 15
        }
      ]
    },
    {
      "cell_type": "code",
      "source": [
        "round(3.65656,3)"
      ],
      "metadata": {
        "colab": {
          "base_uri": "https://localhost:8080/"
        },
        "id": "5WTuUFlFF5SQ",
        "outputId": "b9730af4-0a83-49e1-fe3d-39d3e9c59091"
      },
      "execution_count": null,
      "outputs": [
        {
          "output_type": "execute_result",
          "data": {
            "text/plain": [
              "3.657"
            ]
          },
          "metadata": {},
          "execution_count": 109
        }
      ]
    },
    {
      "cell_type": "markdown",
      "source": [
        "11. Comparison Operators:"
      ],
      "metadata": {
        "id": "zxSovH-YMhTL"
      }
    },
    {
      "cell_type": "code",
      "source": [
        "x = 5\n",
        "y = 10\n",
        "\n",
        "print(x == y)  # Equal to: False\n",
        "print(x != y)  # Not equal to: True\n",
        "print(x > y)   # Greater than: False\n",
        "print(x < y)   # Less than: True\n",
        "print(x >= y)  # Greater than or equal to: False\n",
        "print(x <= y)  # Less than or equal to: True"
      ],
      "metadata": {
        "colab": {
          "base_uri": "https://localhost:8080/"
        },
        "id": "1EME6UxUMgqr",
        "outputId": "cffb1104-806b-4da8-c7c5-82bda53a8b14"
      },
      "execution_count": null,
      "outputs": [
        {
          "output_type": "stream",
          "name": "stdout",
          "text": [
            "False\n",
            "True\n",
            "False\n",
            "True\n",
            "False\n",
            "True\n"
          ]
        }
      ]
    },
    {
      "cell_type": "markdown",
      "source": [
        "12. Logical Operators:"
      ],
      "metadata": {
        "id": "-N4AfBDFNPB-"
      }
    },
    {
      "cell_type": "code",
      "source": [
        "p = True  # 0\n",
        "q = False # 1\n",
        "\n",
        "print(p and q)  # Logical AND: 0\n",
        "print(p or q)   # Logical OR: 1\n",
        "print(not p)    # Logical NOT: 0"
      ],
      "metadata": {
        "colab": {
          "base_uri": "https://localhost:8080/"
        },
        "id": "X3_nZm3bNRxx",
        "outputId": "aeda60e2-c65d-4255-a529-891a9b7efcab"
      },
      "execution_count": null,
      "outputs": [
        {
          "output_type": "stream",
          "name": "stdout",
          "text": [
            "False\n",
            "True\n",
            "False\n"
          ]
        }
      ]
    },
    {
      "cell_type": "code",
      "source": [
        "p = 0\n",
        "q = 1\n",
        "\n",
        "print(p and q)  # Logical AND: 0\n",
        "print(p or q)   # Logical OR: 1\n",
        "print(not p)    # Logical NOT: 1"
      ],
      "metadata": {
        "colab": {
          "base_uri": "https://localhost:8080/"
        },
        "id": "ywlYghR0No72",
        "outputId": "3f648aad-1206-434c-d2e9-7ca8c26f2190"
      },
      "execution_count": null,
      "outputs": [
        {
          "output_type": "stream",
          "name": "stdout",
          "text": [
            "0\n",
            "1\n",
            "True\n"
          ]
        }
      ]
    },
    {
      "cell_type": "markdown",
      "source": [
        "13. Assignment Operators:"
      ],
      "metadata": {
        "id": "Vp9pBeiMN-up"
      }
    },
    {
      "cell_type": "code",
      "source": [
        "a = 5\n",
        "b = 2\n",
        "\n",
        "a += b  # Equivalent to: a = a + b\n",
        "print(a)  # Output: 7\n",
        "\n",
        "a -= b  # Equivalent to: a = a - b\n",
        "print(a)  # Output: 5\n",
        "\n",
        "a *= b  # Equivalent to: a = a * b\n",
        "print(a)  # Output: 10"
      ],
      "metadata": {
        "colab": {
          "base_uri": "https://localhost:8080/"
        },
        "id": "e6oEe63XOBus",
        "outputId": "2bdb601f-5e5d-43de-b4b0-713fdbbce84d"
      },
      "execution_count": null,
      "outputs": [
        {
          "output_type": "stream",
          "name": "stdout",
          "text": [
            "7\n",
            "5\n",
            "10\n"
          ]
        }
      ]
    },
    {
      "cell_type": "markdown",
      "source": [
        "14. Identify Operator :"
      ],
      "metadata": {
        "id": "l3CjtwaJOGjW"
      }
    },
    {
      "cell_type": "code",
      "source": [
        "x = 1\n",
        "y = 1\n",
        "\n",
        "print(x is y)\n",
        "print(x is not y)"
      ],
      "metadata": {
        "colab": {
          "base_uri": "https://localhost:8080/"
        },
        "id": "ld4hPjXEOY6Q",
        "outputId": "18ad96bb-e7a5-4877-c178-4d9f5e17e994"
      },
      "execution_count": null,
      "outputs": [
        {
          "output_type": "stream",
          "name": "stdout",
          "text": [
            "True\n",
            "False\n"
          ]
        }
      ]
    },
    {
      "cell_type": "code",
      "source": [
        "x = [1, 2, 3]\n",
        "y = [1, 2, 3]\n",
        "\n",
        "print(x is y)     # True if the same object: False\n",
        "print(x is not y)  # True if not the same object: True"
      ],
      "metadata": {
        "colab": {
          "base_uri": "https://localhost:8080/"
        },
        "id": "u37RbBtbOJNx",
        "outputId": "b02db4d0-9d84-4818-c39d-cd5380042921"
      },
      "execution_count": null,
      "outputs": [
        {
          "output_type": "stream",
          "name": "stdout",
          "text": [
            "False\n",
            "True\n"
          ]
        }
      ]
    },
    {
      "cell_type": "markdown",
      "source": [
        "15. Membership Operator :"
      ],
      "metadata": {
        "id": "XlrDPSPdOjN6"
      }
    },
    {
      "cell_type": "code",
      "source": [
        "fruits = ['apple', 'banana', 'orange']\n",
        "\n",
        "print('banana' in fruits)      # True\n",
        "print('grape' not in fruits)   # True\n",
        "print('cherry' in fruits)      # False"
      ],
      "metadata": {
        "colab": {
          "base_uri": "https://localhost:8080/"
        },
        "id": "vF73q94bOl11",
        "outputId": "3e115f02-7ab8-4d1f-9ce2-dc04acc1dfc2"
      },
      "execution_count": null,
      "outputs": [
        {
          "output_type": "stream",
          "name": "stdout",
          "text": [
            "True\n",
            "True\n",
            "False\n"
          ]
        }
      ]
    },
    {
      "cell_type": "markdown",
      "source": [
        "16. Input From User :"
      ],
      "metadata": {
        "id": "NoahRITBGBEz"
      }
    },
    {
      "cell_type": "code",
      "source": [
        "Input = input(\"Enter Input: \")"
      ],
      "metadata": {
        "colab": {
          "base_uri": "https://localhost:8080/"
        },
        "id": "ufT5FnSbGsw9",
        "outputId": "c8009bc4-adb3-4dfd-a132-a911ee50c1ee"
      },
      "execution_count": null,
      "outputs": [
        {
          "name": "stdout",
          "output_type": "stream",
          "text": [
            "Enter Input: 7\n"
          ]
        }
      ]
    },
    {
      "cell_type": "code",
      "source": [
        "value = input(\"Enter your value: \")\n",
        "print(value)\n",
        "type(value)"
      ],
      "metadata": {
        "colab": {
          "base_uri": "https://localhost:8080/"
        },
        "id": "TPe2o7oUF7rz",
        "outputId": "8ed87fd2-a8f0-45ec-d640-a701802619b4"
      },
      "execution_count": null,
      "outputs": [
        {
          "output_type": "stream",
          "name": "stdout",
          "text": [
            "Enter your value: 9\n",
            "9\n"
          ]
        },
        {
          "output_type": "execute_result",
          "data": {
            "text/plain": [
              "str"
            ]
          },
          "metadata": {},
          "execution_count": 112
        }
      ]
    },
    {
      "cell_type": "code",
      "source": [
        "value = input(\"Enter your value: \")\n",
        "print(value)\n",
        "value = int(value)\n",
        "type(value)"
      ],
      "metadata": {
        "colab": {
          "base_uri": "https://localhost:8080/"
        },
        "id": "WxQGXHsFGQHi",
        "outputId": "19949cf2-d211-4a22-f3ec-360f30c40f71"
      },
      "execution_count": null,
      "outputs": [
        {
          "output_type": "stream",
          "name": "stdout",
          "text": [
            "Enter your value: 3\n",
            "3\n"
          ]
        },
        {
          "output_type": "execute_result",
          "data": {
            "text/plain": [
              "int"
            ]
          },
          "metadata": {},
          "execution_count": 113
        }
      ]
    },
    {
      "cell_type": "markdown",
      "source": [
        "# **Data Structures (List, Tuple, Set, Dictionary)**"
      ],
      "metadata": {
        "id": "VV4zH1yzHm6l"
      }
    },
    {
      "cell_type": "markdown",
      "source": [
        "# **Lists**\n",
        "\n",
        "Lists in Python are a versatile data structure that allows you to store and manipulate a collection of items.\n",
        "\n",
        "* Python Lists Creation\n",
        "* Access List Items\n",
        "* Change List Items\n",
        "* Add List Items\n",
        "* Remove List Items\n",
        "* Loop Lists\n",
        "* List Comprehension\n",
        "* Sort Lists\n",
        "* Copy Lists\n",
        "* Join Lists\n",
        "* List Methods\n",
        "\n",
        "\n",
        "\n",
        "\n",
        "\n"
      ],
      "metadata": {
        "id": "Q5SfF5APHyuY"
      }
    },
    {
      "cell_type": "markdown",
      "source": [
        "1. Create Lists:"
      ],
      "metadata": {
        "id": "tOKKaWHDPqcK"
      }
    },
    {
      "cell_type": "code",
      "source": [
        "# Creating a list\n",
        "my_list = [1, 2, 3, 'apple', 'banana']\n",
        "print(my_list)"
      ],
      "metadata": {
        "colab": {
          "base_uri": "https://localhost:8080/"
        },
        "id": "pR14jGz2PQJr",
        "outputId": "1a73423a-bee2-4654-e044-af945cd1cf2b"
      },
      "execution_count": null,
      "outputs": [
        {
          "output_type": "stream",
          "name": "stdout",
          "text": [
            "[1, 2, 3, 'apple', 'banana']\n"
          ]
        }
      ]
    },
    {
      "cell_type": "markdown",
      "source": [
        "2. Access List Items:"
      ],
      "metadata": {
        "id": "oJqMbmZ9P1sx"
      }
    },
    {
      "cell_type": "code",
      "source": [
        "# List indexing starts from 0, and negative indexing represents elements from the end of the list.\n",
        "\n",
        "print(my_list[0])\n",
        "print(my_list[3])\n",
        "print(my_list[4])\n",
        "\n",
        "print(my_list[-1])\n",
        "print(my_list[-3])\n",
        "print(my_list[-5])"
      ],
      "metadata": {
        "colab": {
          "base_uri": "https://localhost:8080/"
        },
        "id": "yUjXgGyOP4Fj",
        "outputId": "37672004-0f7d-4e8a-fc49-ea3ced2b480c"
      },
      "execution_count": null,
      "outputs": [
        {
          "output_type": "stream",
          "name": "stdout",
          "text": [
            "1\n",
            "apple\n",
            "banana\n",
            "banana\n",
            "3\n",
            "1\n"
          ]
        }
      ]
    },
    {
      "cell_type": "markdown",
      "source": [
        "3. Change List Items:"
      ],
      "metadata": {
        "id": "4Fyfit7qQy4s"
      }
    },
    {
      "cell_type": "code",
      "source": [
        "#You can modify the content of a list by assigning new values to specific indices.\n",
        "\n",
        "my_list[1] = 'orange'\n",
        "print(my_list)\n",
        "\n",
        "my_list[2] = 'cherry'\n",
        "print(my_list)\n",
        "\n",
        "my_list[0] = 'jackfruit'\n",
        "print(my_list)"
      ],
      "metadata": {
        "colab": {
          "base_uri": "https://localhost:8080/"
        },
        "id": "J2Qc2wegQ1ft",
        "outputId": "4ee1816f-df9e-452c-d6a0-a00d17452ae0"
      },
      "execution_count": null,
      "outputs": [
        {
          "output_type": "stream",
          "name": "stdout",
          "text": [
            "[1, 'orange', 3, 'apple', 'banana']\n",
            "[1, 'orange', 'cherry', 'apple', 'banana']\n",
            "['jackfruit', 'orange', 'cherry', 'apple', 'banana']\n"
          ]
        }
      ]
    },
    {
      "cell_type": "markdown",
      "source": [
        "4. Add List Items :"
      ],
      "metadata": {
        "id": "sgRmeg-KRc9v"
      }
    },
    {
      "cell_type": "markdown",
      "source": [
        "4.1. Append :"
      ],
      "metadata": {
        "id": "g5x5e9yjR4kK"
      }
    },
    {
      "cell_type": "code",
      "source": [
        "#Adds an element to the end of the list.\n",
        "\n",
        "my_list.append('grape')\n",
        "print(my_list)"
      ],
      "metadata": {
        "colab": {
          "base_uri": "https://localhost:8080/"
        },
        "id": "nKCf_ZiRRfIT",
        "outputId": "5c6163e6-64e6-4dd7-e7a8-da660723a9b2"
      },
      "execution_count": null,
      "outputs": [
        {
          "output_type": "stream",
          "name": "stdout",
          "text": [
            "['jackfruit', 'orange', 'cherry', 'apple', 'banana', 'grape']\n"
          ]
        }
      ]
    },
    {
      "cell_type": "markdown",
      "source": [
        "4.2 Insert:"
      ],
      "metadata": {
        "id": "UyOvQIW0SPsT"
      }
    },
    {
      "cell_type": "code",
      "source": [
        "# Inserts an element at a specified position.\n",
        "\n",
        "my_list.insert(2, 'avocado')\n",
        "print(my_list)"
      ],
      "metadata": {
        "colab": {
          "base_uri": "https://localhost:8080/"
        },
        "id": "W2GY6NiCSR_Q",
        "outputId": "cc767237-9bba-44f8-c33d-65fec9758604"
      },
      "execution_count": null,
      "outputs": [
        {
          "output_type": "stream",
          "name": "stdout",
          "text": [
            "['jackfruit', 'orange', 'avocado', 'cherry', 'apple', 'banana', 'grape']\n"
          ]
        }
      ]
    },
    {
      "cell_type": "markdown",
      "source": [
        "5. Remove List Items :"
      ],
      "metadata": {
        "id": "FDg7UBO9SmMu"
      }
    },
    {
      "cell_type": "markdown",
      "source": [
        "5.1 Remove :"
      ],
      "metadata": {
        "id": "BAVJ9aX4SpnY"
      }
    },
    {
      "cell_type": "code",
      "source": [
        "#Removes the first occurrence of a specified value.\n",
        "\n",
        "my_list.append('apple')   #Add Apple to the end of the list.\n",
        "print(my_list)\n",
        "\n",
        "my_list.remove('apple')   #Remove First Occurance of Apple.\n",
        "print(my_list)"
      ],
      "metadata": {
        "colab": {
          "base_uri": "https://localhost:8080/"
        },
        "id": "q_nPCM42St9T",
        "outputId": "ec910af4-9a30-44aa-a05a-06e778f8b070"
      },
      "execution_count": null,
      "outputs": [
        {
          "output_type": "stream",
          "name": "stdout",
          "text": [
            "['jackfruit', 'orange', 'avocado', 'cherry', 'apple', 'banana', 'grape', 'apple']\n",
            "['jackfruit', 'orange', 'avocado', 'cherry', 'banana', 'grape', 'apple']\n"
          ]
        }
      ]
    },
    {
      "cell_type": "markdown",
      "source": [
        "5.2 Pop :"
      ],
      "metadata": {
        "id": "RKAl75WKTOBK"
      }
    },
    {
      "cell_type": "code",
      "source": [
        "# Removes the element at a specified index or the last element if no index is specified.\n",
        "\n",
        "popped_item = my_list.pop(2)\n",
        "print(popped_item)\n",
        "print(my_list)"
      ],
      "metadata": {
        "colab": {
          "base_uri": "https://localhost:8080/"
        },
        "id": "jlGxNGWpTPzO",
        "outputId": "00f18724-b448-47c7-f188-15a3d184f62b"
      },
      "execution_count": null,
      "outputs": [
        {
          "output_type": "stream",
          "name": "stdout",
          "text": [
            "avocado\n",
            "['jackfruit', 'orange', 'cherry', 'banana', 'grape', 'apple']\n"
          ]
        }
      ]
    },
    {
      "cell_type": "markdown",
      "source": [
        "6. Loop Lists:"
      ],
      "metadata": {
        "id": "PQ1DWAFsT8tB"
      }
    },
    {
      "cell_type": "code",
      "source": [
        "# You can iterate over the elements of a list using a loop.\n",
        "\n",
        "for item in my_list:\n",
        "    print(item)"
      ],
      "metadata": {
        "colab": {
          "base_uri": "https://localhost:8080/"
        },
        "id": "O71556pmT__R",
        "outputId": "ab33812c-ce76-42e4-ef48-2436c3a82b5f"
      },
      "execution_count": null,
      "outputs": [
        {
          "output_type": "stream",
          "name": "stdout",
          "text": [
            "jackfruit\n",
            "orange\n",
            "cherry\n",
            "banana\n",
            "grape\n",
            "apple\n"
          ]
        }
      ]
    },
    {
      "cell_type": "markdown",
      "source": [
        "7. List Comprehension :"
      ],
      "metadata": {
        "id": "73FBRimGUNo9"
      }
    },
    {
      "cell_type": "code",
      "source": [
        "squares = []\n",
        "for x in range(10):\n",
        "    squares.append(x**2)\n",
        "\n",
        "squares"
      ],
      "metadata": {
        "colab": {
          "base_uri": "https://localhost:8080/"
        },
        "id": "z6lof8eDZivq",
        "outputId": "faa53a7c-f0da-4850-8fff-a401b3e24db8"
      },
      "execution_count": null,
      "outputs": [
        {
          "output_type": "execute_result",
          "data": {
            "text/plain": [
              "[0, 1, 4, 9, 16, 25, 36, 49, 64, 81]"
            ]
          },
          "metadata": {},
          "execution_count": 212
        }
      ]
    },
    {
      "cell_type": "code",
      "source": [
        "squares = list(map(lambda x: x**2, range(10)))\n",
        "squares"
      ],
      "metadata": {
        "colab": {
          "base_uri": "https://localhost:8080/"
        },
        "id": "eYmB_UobZtEB",
        "outputId": "9da7a3c9-b827-400f-a4dd-a19eefc4c38b"
      },
      "execution_count": null,
      "outputs": [
        {
          "output_type": "execute_result",
          "data": {
            "text/plain": [
              "[0, 1, 4, 9, 16, 25, 36, 49, 64, 81]"
            ]
          },
          "metadata": {},
          "execution_count": 213
        }
      ]
    },
    {
      "cell_type": "code",
      "source": [
        "squares1 = [x**2 for x in range(10)]\n",
        "squares1"
      ],
      "metadata": {
        "colab": {
          "base_uri": "https://localhost:8080/"
        },
        "id": "gqM0yVjIaBgA",
        "outputId": "877977d4-0af2-46f9-e9bf-337abfd99d32"
      },
      "execution_count": null,
      "outputs": [
        {
          "output_type": "execute_result",
          "data": {
            "text/plain": [
              "[0, 1, 4, 9, 16, 25, 36, 49, 64, 81]"
            ]
          },
          "metadata": {},
          "execution_count": 214
        }
      ]
    },
    {
      "cell_type": "code",
      "source": [
        "# List comprehension to create a list of squared numbers\n",
        "# Iterate over numbers from 0 to 4 (inclusive)\n",
        "squared_numbers = [x**2 for x in range(5)]\n",
        "\n",
        "# Print the list of squared numbers\n",
        "print(squared_numbers)"
      ],
      "metadata": {
        "colab": {
          "base_uri": "https://localhost:8080/"
        },
        "id": "-PSV_d7sUX0_",
        "outputId": "3e462940-3d69-4852-9e9d-dabd5298ff30"
      },
      "execution_count": null,
      "outputs": [
        {
          "output_type": "stream",
          "name": "stdout",
          "text": [
            "[0, 1, 4, 9, 16]\n"
          ]
        }
      ]
    },
    {
      "cell_type": "code",
      "source": [
        "# List comprehension to create a list of cubes\n",
        "# Iterate over numbers from 1 to 5 (inclusive)\n",
        "cubed_numbers = [x**3 for x in range(1, 6)]\n",
        "\n",
        "# Print the list of cubed numbers\n",
        "print(cubed_numbers)"
      ],
      "metadata": {
        "colab": {
          "base_uri": "https://localhost:8080/"
        },
        "id": "NxGM46tLUzQY",
        "outputId": "5620d5f6-f890-4798-c678-2d5d9b66b328"
      },
      "execution_count": null,
      "outputs": [
        {
          "output_type": "stream",
          "name": "stdout",
          "text": [
            "[1, 8, 27, 64, 125]\n"
          ]
        }
      ]
    },
    {
      "cell_type": "code",
      "source": [
        "# List comprehension to create a list of numbers greater than 5\n",
        "# Iterate over numbers from 1 to 10 (inclusive)\n",
        "numbers_greater_than_5 = [x for x in range(1, 11) if x > 5]\n",
        "\n",
        "# Print the list of numbers greater than 5\n",
        "print(numbers_greater_than_5)"
      ],
      "metadata": {
        "colab": {
          "base_uri": "https://localhost:8080/"
        },
        "id": "wuZI9OrSVtJE",
        "outputId": "d4336715-5ecf-4353-8f56-1a405d9f1a11"
      },
      "execution_count": null,
      "outputs": [
        {
          "output_type": "stream",
          "name": "stdout",
          "text": [
            "[6, 7, 8, 9, 10]\n"
          ]
        }
      ]
    },
    {
      "cell_type": "code",
      "source": [
        "# List comprehension to create a list of even numbers\n",
        "# Iterate over numbers from 0 to 9 (inclusive)\n",
        "even_numbers = [x for x in range(10) if x % 2 == 0]\n",
        "\n",
        "# Print the list of even numbers\n",
        "print(even_numbers)"
      ],
      "metadata": {
        "colab": {
          "base_uri": "https://localhost:8080/"
        },
        "id": "cpORsyrCVSDi",
        "outputId": "caea29a8-410d-45f8-993b-1e4f7c7ddb74"
      },
      "execution_count": null,
      "outputs": [
        {
          "output_type": "stream",
          "name": "stdout",
          "text": [
            "[0, 2, 4, 6, 8]\n"
          ]
        }
      ]
    },
    {
      "cell_type": "markdown",
      "source": [
        "8. Sort Lists :"
      ],
      "metadata": {
        "id": "jaRuGM5LVz5q"
      }
    },
    {
      "cell_type": "code",
      "source": [
        "numbers = [3, 1, 4, 1, 5, 9, 2, 6, 5]\n",
        "numbers.sort()\n",
        "print(numbers)"
      ],
      "metadata": {
        "colab": {
          "base_uri": "https://localhost:8080/"
        },
        "id": "YxjrCE_wV2Rx",
        "outputId": "57bc94d4-6cbf-4433-decb-db304b8f731f"
      },
      "execution_count": null,
      "outputs": [
        {
          "output_type": "stream",
          "name": "stdout",
          "text": [
            "[1, 1, 2, 3, 4, 5, 5, 6, 9]\n"
          ]
        }
      ]
    },
    {
      "cell_type": "markdown",
      "source": [
        "9. Copy Lists :"
      ],
      "metadata": {
        "id": "65an60NpV7iu"
      }
    },
    {
      "cell_type": "markdown",
      "source": [
        "9.1 Shallow Copy :"
      ],
      "metadata": {
        "id": "hsqA5--6V_Vt"
      }
    },
    {
      "cell_type": "code",
      "source": [
        "my_list = [1, 2, 3]\n",
        "copy_list = my_list.copy()\n",
        "copy_list"
      ],
      "metadata": {
        "colab": {
          "base_uri": "https://localhost:8080/"
        },
        "id": "74R77jjeWBRT",
        "outputId": "a4ed2ceb-f44a-4394-a229-ef72f95eabe7"
      },
      "execution_count": null,
      "outputs": [
        {
          "output_type": "execute_result",
          "data": {
            "text/plain": [
              "[1, 2, 3]"
            ]
          },
          "metadata": {},
          "execution_count": 191
        }
      ]
    },
    {
      "cell_type": "markdown",
      "source": [
        "9.2 Deep Copy :"
      ],
      "metadata": {
        "id": "XcszGNdvWcUQ"
      }
    },
    {
      "cell_type": "code",
      "source": [
        "import copy\n",
        "deep_copy_list = copy.deepcopy(my_list)\n",
        "deep_copy_list"
      ],
      "metadata": {
        "colab": {
          "base_uri": "https://localhost:8080/"
        },
        "id": "m35WxKUkV9t2",
        "outputId": "0bdd63fe-f88e-43ec-d7e0-56adebc43462"
      },
      "execution_count": null,
      "outputs": [
        {
          "output_type": "execute_result",
          "data": {
            "text/plain": [
              "[1, 2, 3]"
            ]
          },
          "metadata": {},
          "execution_count": 192
        }
      ]
    },
    {
      "cell_type": "markdown",
      "source": [
        "9.3 copy.copy() (Shallow Copy):"
      ],
      "metadata": {
        "id": "i1_CWNZUWoWT"
      }
    },
    {
      "cell_type": "code",
      "source": [
        "import copy\n",
        "\n",
        "original_list = [1, [2, 3], 4]\n",
        "shallow_copy = copy.copy(original_list)\n",
        "\n",
        "print(original_list)\n",
        "print(shallow_copy)\n",
        "\n",
        "# Modifying the original list affects the shallow copy\n",
        "original_list[1][0] = 'X'\n",
        "print(original_list)\n",
        "print(shallow_copy)"
      ],
      "metadata": {
        "colab": {
          "base_uri": "https://localhost:8080/"
        },
        "id": "2lY06_u6WsWB",
        "outputId": "4472ebde-fda8-4da7-8d50-83a255e096ee"
      },
      "execution_count": null,
      "outputs": [
        {
          "output_type": "stream",
          "name": "stdout",
          "text": [
            "[1, [2, 3], 4]\n",
            "[1, [2, 3], 4]\n",
            "[1, ['X', 3], 4]\n",
            "[1, ['X', 3], 4]\n"
          ]
        }
      ]
    },
    {
      "cell_type": "markdown",
      "source": [
        "9.4 copy.deepcopy() (Deep Copy):"
      ],
      "metadata": {
        "id": "ez0J-9hrW-iR"
      }
    },
    {
      "cell_type": "code",
      "source": [
        "import copy\n",
        "\n",
        "original_list = [1, [2, 3], 4]\n",
        "deep_copy = copy.deepcopy(original_list)\n",
        "\n",
        "print(original_list)\n",
        "print(deep_copy)\n",
        "\n",
        "# Modifying the original list does not affect the deep copy\n",
        "original_list[1][1] = 'Y'\n",
        "print(original_list)\n",
        "print(deep_copy)\n",
        "\n",
        "original_list[2] = 'Z'\n",
        "print(original_list)\n",
        "print(deep_copy)"
      ],
      "metadata": {
        "colab": {
          "base_uri": "https://localhost:8080/"
        },
        "id": "s-_t_5DcXC1W",
        "outputId": "cbc2976a-acdc-475e-da64-a25e920c3307"
      },
      "execution_count": null,
      "outputs": [
        {
          "output_type": "stream",
          "name": "stdout",
          "text": [
            "[1, [2, 3], 4]\n",
            "[1, [2, 3], 4]\n",
            "[1, [2, 'Y'], 4]\n",
            "[1, [2, 3], 4]\n",
            "[1, [2, 'Y'], 'Z']\n",
            "[1, [2, 3], 4]\n"
          ]
        }
      ]
    },
    {
      "cell_type": "markdown",
      "source": [
        "10. Join Lists :"
      ],
      "metadata": {
        "id": "liZ-YKhHX-Lw"
      }
    },
    {
      "cell_type": "code",
      "source": [
        "#Concatenate two or more lists.\n",
        "\n",
        "list1 = [1, 2, 3]\n",
        "list2 = ['a', 'b', 'c']\n",
        "joined_list = list1 + list2\n",
        "print(joined_list)"
      ],
      "metadata": {
        "colab": {
          "base_uri": "https://localhost:8080/"
        },
        "id": "pbS56pJCYARF",
        "outputId": "57ff7f8b-0dcf-4e07-ff0e-dd43494b7423"
      },
      "execution_count": null,
      "outputs": [
        {
          "output_type": "stream",
          "name": "stdout",
          "text": [
            "[1, 2, 3, 'a', 'b', 'c']\n"
          ]
        }
      ]
    },
    {
      "cell_type": "markdown",
      "source": [
        "11. List Methods :"
      ],
      "metadata": {
        "id": "baNnHmlKYUuo"
      }
    },
    {
      "cell_type": "code",
      "source": [
        "fruits = ['orange', 'apple', 'pear', 'banana', 'kiwi', 'apple', 'banana']\n",
        "fruits.count('apple')"
      ],
      "metadata": {
        "colab": {
          "base_uri": "https://localhost:8080/"
        },
        "id": "Xv5uTqMvYWr7",
        "outputId": "3ba1b35b-be9b-4913-d8d8-b4e20b1a1c55"
      },
      "execution_count": null,
      "outputs": [
        {
          "output_type": "execute_result",
          "data": {
            "text/plain": [
              "2"
            ]
          },
          "metadata": {},
          "execution_count": 198
        }
      ]
    },
    {
      "cell_type": "code",
      "source": [
        "fruits.count('tangerine')"
      ],
      "metadata": {
        "colab": {
          "base_uri": "https://localhost:8080/"
        },
        "id": "Y41PQ2RqY0g0",
        "outputId": "82b7c250-2795-4281-d420-a881ccdb1cb0"
      },
      "execution_count": null,
      "outputs": [
        {
          "output_type": "execute_result",
          "data": {
            "text/plain": [
              "0"
            ]
          },
          "metadata": {},
          "execution_count": 199
        }
      ]
    },
    {
      "cell_type": "code",
      "source": [
        "fruits.index('banana')"
      ],
      "metadata": {
        "colab": {
          "base_uri": "https://localhost:8080/"
        },
        "id": "xylZkAPxY3OF",
        "outputId": "175a0a56-a47a-4962-85d7-c6099b21ab1e"
      },
      "execution_count": null,
      "outputs": [
        {
          "output_type": "execute_result",
          "data": {
            "text/plain": [
              "3"
            ]
          },
          "metadata": {},
          "execution_count": 200
        }
      ]
    },
    {
      "cell_type": "code",
      "source": [
        "fruits.index('banana', 4)  # Find next banana starting at position 4"
      ],
      "metadata": {
        "colab": {
          "base_uri": "https://localhost:8080/"
        },
        "id": "zWpeWEIkY840",
        "outputId": "2ef7d172-7d87-4ecf-81d7-a15be1c61533"
      },
      "execution_count": null,
      "outputs": [
        {
          "output_type": "execute_result",
          "data": {
            "text/plain": [
              "6"
            ]
          },
          "metadata": {},
          "execution_count": 201
        }
      ]
    },
    {
      "cell_type": "code",
      "source": [
        "fruits.reverse()\n",
        "fruits"
      ],
      "metadata": {
        "colab": {
          "base_uri": "https://localhost:8080/"
        },
        "id": "Q-xgdPhzZCO_",
        "outputId": "e75dab6f-2cce-4507-8388-ac2903b55594"
      },
      "execution_count": null,
      "outputs": [
        {
          "output_type": "execute_result",
          "data": {
            "text/plain": [
              "['banana', 'apple', 'kiwi', 'banana', 'pear', 'apple', 'orange']"
            ]
          },
          "metadata": {},
          "execution_count": 202
        }
      ]
    },
    {
      "cell_type": "code",
      "source": [
        "fruits.append('grape')\n",
        "fruits"
      ],
      "metadata": {
        "colab": {
          "base_uri": "https://localhost:8080/"
        },
        "id": "x995YPX4ZGhl",
        "outputId": "1d06c84b-6e03-4b5e-e4a0-e065da04045a"
      },
      "execution_count": null,
      "outputs": [
        {
          "output_type": "execute_result",
          "data": {
            "text/plain": [
              "['banana', 'apple', 'kiwi', 'banana', 'pear', 'apple', 'orange', 'grape']"
            ]
          },
          "metadata": {},
          "execution_count": 203
        }
      ]
    },
    {
      "cell_type": "code",
      "source": [
        "fruits.sort()\n",
        "fruits"
      ],
      "metadata": {
        "colab": {
          "base_uri": "https://localhost:8080/"
        },
        "id": "DngCB9TqZJ0s",
        "outputId": "0e095edd-1019-4592-81a7-8efae235b65f"
      },
      "execution_count": null,
      "outputs": [
        {
          "output_type": "execute_result",
          "data": {
            "text/plain": [
              "['apple', 'apple', 'banana', 'banana', 'grape', 'kiwi', 'orange', 'pear']"
            ]
          },
          "metadata": {},
          "execution_count": 204
        }
      ]
    },
    {
      "cell_type": "code",
      "source": [
        "fruits.pop()"
      ],
      "metadata": {
        "colab": {
          "base_uri": "https://localhost:8080/",
          "height": 36
        },
        "id": "c8E9RuHaZL3x",
        "outputId": "001e323e-4ab4-4319-c4ae-551b00446b04"
      },
      "execution_count": null,
      "outputs": [
        {
          "output_type": "execute_result",
          "data": {
            "text/plain": [
              "'pear'"
            ],
            "application/vnd.google.colaboratory.intrinsic+json": {
              "type": "string"
            }
          },
          "metadata": {},
          "execution_count": 205
        }
      ]
    },
    {
      "cell_type": "markdown",
      "source": [
        "Nested List :"
      ],
      "metadata": {
        "id": "nrol4HZBY7-1"
      }
    },
    {
      "cell_type": "code",
      "source": [
        "# A list can contain other lists.\n",
        "\n",
        "nested_list = [[1, 2, 3], ['a', 'b', 'c']]\n",
        "print(nested_list[0][0])\n",
        "print(nested_list[1][0])\n",
        "print(nested_list[0][1])\n",
        "print(nested_list[0][2])\n",
        "print(nested_list[1][1])\n",
        "print(nested_list[1][2])"
      ],
      "metadata": {
        "colab": {
          "base_uri": "https://localhost:8080/"
        },
        "id": "WvXtgdN8bN_P",
        "outputId": "f790c46b-9f48-43b0-f26d-a06817c37a78"
      },
      "execution_count": null,
      "outputs": [
        {
          "output_type": "stream",
          "name": "stdout",
          "text": [
            "1\n",
            "a\n",
            "2\n",
            "3\n",
            "b\n",
            "c\n",
            "1\n",
            "a\n",
            "2\n",
            "3\n",
            "b\n",
            "c\n"
          ]
        }
      ]
    },
    {
      "cell_type": "markdown",
      "source": [
        "# **Tuples** :\n",
        "Tuples in Python are similar to lists, but they are immutable, meaning their values cannot be changed after creation.\n",
        "\n",
        "* Python Tuples\n",
        "* Access Tuples\n",
        "* Update Tuples\n",
        "* Unpack Tuples\n",
        "* Loop Tuples\n",
        "* Join Tuples\n",
        "* Tuple Methods\n",
        "\n"
      ],
      "metadata": {
        "id": "UlBEZRa2b1Qp"
      }
    },
    {
      "cell_type": "markdown",
      "source": [
        "1. Creating Tuples :"
      ],
      "metadata": {
        "id": "R-8oznf4chJt"
      }
    },
    {
      "cell_type": "code",
      "source": [
        "# Creating a tuple\n",
        "my_tuple = (1, 2, 3, 'apple', 'banana')\n",
        "print(my_tuple)"
      ],
      "metadata": {
        "colab": {
          "base_uri": "https://localhost:8080/"
        },
        "id": "iPaXW0M9clTT",
        "outputId": "d01024aa-4952-40ea-8602-25a7b58be732"
      },
      "execution_count": null,
      "outputs": [
        {
          "output_type": "stream",
          "name": "stdout",
          "text": [
            "(1, 2, 3, 'apple', 'banana')\n"
          ]
        }
      ]
    },
    {
      "cell_type": "markdown",
      "source": [
        "2. Access Tuple :"
      ],
      "metadata": {
        "id": "kp36guvucrAG"
      }
    },
    {
      "cell_type": "code",
      "source": [
        "# Tuple indexing and negative indexing work the same way as with lists.\n",
        "\n",
        "print(my_tuple[0])\n",
        "print(my_tuple[-1])"
      ],
      "metadata": {
        "colab": {
          "base_uri": "https://localhost:8080/"
        },
        "id": "osyKTmOHcSVH",
        "outputId": "0c7b3799-e1de-4f9c-cc17-843b5832d4b1"
      },
      "execution_count": null,
      "outputs": [
        {
          "output_type": "stream",
          "name": "stdout",
          "text": [
            "1\n",
            "banana\n"
          ]
        }
      ]
    },
    {
      "cell_type": "markdown",
      "source": [
        "3. Update Tuple :"
      ],
      "metadata": {
        "id": "mr_yuCs3c5mq"
      }
    },
    {
      "cell_type": "code",
      "source": [
        "# Since tuples are immutable, you cannot change their values directly. However, you can create a new tuple with the desired changes.\n",
        "\n",
        "new_tuple = my_tuple + ('grape',)\n",
        "print(new_tuple)"
      ],
      "metadata": {
        "colab": {
          "base_uri": "https://localhost:8080/"
        },
        "id": "7gPtBKmLc7Z3",
        "outputId": "b25f9a76-27c2-4c79-d00d-7903601046dd"
      },
      "execution_count": null,
      "outputs": [
        {
          "output_type": "stream",
          "name": "stdout",
          "text": [
            "(1, 2, 3, 'apple', 'banana', 'grape')\n"
          ]
        }
      ]
    },
    {
      "cell_type": "markdown",
      "source": [
        "4. Unpack Tuple :"
      ],
      "metadata": {
        "id": "4LvxGnrPdFlN"
      }
    },
    {
      "cell_type": "code",
      "source": [
        "# Assigning tuple values to multiple variables.\n",
        "\n",
        "a, b, c, *rest = my_tuple\n",
        "print(a, b, c)\n",
        "print(rest)\n",
        "print(my_tuple)"
      ],
      "metadata": {
        "colab": {
          "base_uri": "https://localhost:8080/"
        },
        "id": "-cAkhOSldHz1",
        "outputId": "4b8a4510-6289-4200-edbe-bb96029db576"
      },
      "execution_count": null,
      "outputs": [
        {
          "output_type": "stream",
          "name": "stdout",
          "text": [
            "1 2 3\n",
            "['apple', 'banana']\n",
            "(1, 2, 3, 'apple', 'banana')\n"
          ]
        }
      ]
    },
    {
      "cell_type": "markdown",
      "source": [
        "5. Loop Tuple :"
      ],
      "metadata": {
        "id": "GE3O6mztdp3D"
      }
    },
    {
      "cell_type": "code",
      "source": [
        "# Iterate over tuple elements using a loop.\n",
        "\n",
        "for item in my_tuple:\n",
        "    print(item)"
      ],
      "metadata": {
        "colab": {
          "base_uri": "https://localhost:8080/"
        },
        "id": "Xqj2va7JdKXv",
        "outputId": "4eedf98f-3dfb-4ff5-c6ea-61154dae0a9d"
      },
      "execution_count": null,
      "outputs": [
        {
          "output_type": "stream",
          "name": "stdout",
          "text": [
            "1\n",
            "2\n",
            "3\n",
            "apple\n",
            "banana\n"
          ]
        }
      ]
    },
    {
      "cell_type": "markdown",
      "source": [
        "6. Join Tuple :"
      ],
      "metadata": {
        "id": "6gLIxbGyd5nJ"
      }
    },
    {
      "cell_type": "code",
      "source": [
        "# Concatenate two or more tuples.\n",
        "\n",
        "tuple1 = (1, 2, 3)\n",
        "tuple2 = ('a', 'b', 'c')\n",
        "joined_tuple = tuple1 + tuple2\n",
        "print(joined_tuple)"
      ],
      "metadata": {
        "colab": {
          "base_uri": "https://localhost:8080/"
        },
        "id": "Ch9k8VB5d7kr",
        "outputId": "18c8c042-e33d-4f78-c0ee-e8f09d0e6d23"
      },
      "execution_count": null,
      "outputs": [
        {
          "output_type": "stream",
          "name": "stdout",
          "text": [
            "(1, 2, 3, 'a', 'b', 'c')\n"
          ]
        }
      ]
    },
    {
      "cell_type": "markdown",
      "source": [
        "7. Tuple Methods :"
      ],
      "metadata": {
        "id": "aWf0gUeZeGL8"
      }
    },
    {
      "cell_type": "markdown",
      "source": [
        "count()"
      ],
      "metadata": {
        "id": "pGzTBFw7eRFZ"
      }
    },
    {
      "cell_type": "code",
      "source": [
        "#Counts the number of occurrences of a specified value.\n",
        "\n",
        "my_tuple = (1, 2, 2, 3, 2, 4)\n",
        "count_2 = my_tuple.count(2)\n",
        "print(count_2)"
      ],
      "metadata": {
        "colab": {
          "base_uri": "https://localhost:8080/"
        },
        "id": "F-jOi6iUeJJa",
        "outputId": "0e800708-2c89-468b-8e3f-53a923e73288"
      },
      "execution_count": null,
      "outputs": [
        {
          "output_type": "stream",
          "name": "stdout",
          "text": [
            "3\n"
          ]
        }
      ]
    },
    {
      "cell_type": "markdown",
      "source": [
        "index()"
      ],
      "metadata": {
        "id": "jrMAVhxDeZJd"
      }
    },
    {
      "cell_type": "code",
      "source": [
        "#Returns the index of the first occurrence of a specified value.\n",
        "\n",
        "index_3 = my_tuple.index(3)\n",
        "print(index_3)"
      ],
      "metadata": {
        "colab": {
          "base_uri": "https://localhost:8080/"
        },
        "id": "nL4pNcDjeO5G",
        "outputId": "1f9ac4ae-cd0f-44e5-e97f-695cf31fb75a"
      },
      "execution_count": null,
      "outputs": [
        {
          "output_type": "stream",
          "name": "stdout",
          "text": [
            "3\n"
          ]
        }
      ]
    },
    {
      "cell_type": "markdown",
      "source": [
        "# **Sets :**\n",
        "\n",
        "Sets in Python are unordered collections of unique elements. They are useful when you want to store multiple items, but you don't need to care about the order or duplicates.\n",
        "\n",
        "* Python Sets\n",
        "* Access Set Items\n",
        "* Add Set Items\n",
        "* Remove Set Items\n",
        "* Loop Sets\n",
        "* Join Sets\n",
        "* Set Methods"
      ],
      "metadata": {
        "id": "wx-b8F-keoD-"
      }
    },
    {
      "cell_type": "markdown",
      "source": [
        "1. Creating Sets:"
      ],
      "metadata": {
        "id": "RiXYjBB5fZJW"
      }
    },
    {
      "cell_type": "code",
      "source": [
        "# Creating a set\n",
        "my_set = {1, 2, 3, 'apple', 'banana'}\n",
        "print(my_set)"
      ],
      "metadata": {
        "colab": {
          "base_uri": "https://localhost:8080/"
        },
        "id": "OcWAqtNhfYNe",
        "outputId": "88fd71f1-02a5-4ff0-cb39-8c12670c1d69"
      },
      "execution_count": null,
      "outputs": [
        {
          "output_type": "stream",
          "name": "stdout",
          "text": [
            "{1, 2, 3, 'apple', 'banana'}\n"
          ]
        }
      ]
    },
    {
      "cell_type": "markdown",
      "source": [
        "2. Access Set Items :"
      ],
      "metadata": {
        "id": "mny8g-zFfh2y"
      }
    },
    {
      "cell_type": "code",
      "source": [
        "# Sets are unordered, so you can't access items using an index. However, you can check for membership.\n",
        "\n",
        "print('apple' in my_set)\n",
        "print('orange' in my_set)"
      ],
      "metadata": {
        "colab": {
          "base_uri": "https://localhost:8080/"
        },
        "id": "HfsNxk5IgqtH",
        "outputId": "3edbfe98-0c58-4285-c10e-8405c46e726e"
      },
      "execution_count": null,
      "outputs": [
        {
          "output_type": "stream",
          "name": "stdout",
          "text": [
            "True\n",
            "False\n"
          ]
        }
      ]
    },
    {
      "cell_type": "markdown",
      "source": [
        "3. Add Set Items:"
      ],
      "metadata": {
        "id": "aLLGka5Ug1dK"
      }
    },
    {
      "cell_type": "markdown",
      "source": [
        "add()"
      ],
      "metadata": {
        "id": "65euraYtg5S_"
      }
    },
    {
      "cell_type": "code",
      "source": [
        "# Adds a single element to the set.\n",
        "\n",
        "my_set.add('grape')\n",
        "print(my_set)"
      ],
      "metadata": {
        "colab": {
          "base_uri": "https://localhost:8080/"
        },
        "id": "eZyTVmHng3yT",
        "outputId": "be2265c1-5fc5-4a84-a4bb-7ba1f8150377"
      },
      "execution_count": null,
      "outputs": [
        {
          "output_type": "stream",
          "name": "stdout",
          "text": [
            "{1, 2, 3, 'apple', 'banana', 'grape'}\n"
          ]
        }
      ]
    },
    {
      "cell_type": "markdown",
      "source": [
        "update()"
      ],
      "metadata": {
        "id": "CJJ782hchLMt"
      }
    },
    {
      "cell_type": "code",
      "source": [
        "# Adds multiple elements to the set.\n",
        "\n",
        "my_set.update({'orange', 'kiwi'})\n",
        "print(my_set)"
      ],
      "metadata": {
        "colab": {
          "base_uri": "https://localhost:8080/"
        },
        "id": "xMVT87CuhNhN",
        "outputId": "d7648fcd-9989-4736-b45f-8edf4949c178"
      },
      "execution_count": null,
      "outputs": [
        {
          "output_type": "stream",
          "name": "stdout",
          "text": [
            "{1, 2, 3, 'apple', 'banana', 'grape', 'orange', 'kiwi'}\n"
          ]
        }
      ]
    },
    {
      "cell_type": "markdown",
      "source": [
        "4. Remove Set Items:"
      ],
      "metadata": {
        "id": "vwtlzPszhZrW"
      }
    },
    {
      "cell_type": "markdown",
      "source": [
        "remove()"
      ],
      "metadata": {
        "id": "vctvML7qhdeh"
      }
    },
    {
      "cell_type": "code",
      "source": [
        "# Removes a specified element. Raises an error if the element is not present.\n",
        "\n",
        "my_set.remove('apple')\n",
        "print(my_set)"
      ],
      "metadata": {
        "colab": {
          "base_uri": "https://localhost:8080/"
        },
        "id": "0Z1kb_6KhfCX",
        "outputId": "ebedf5d9-24c2-43b3-9ef3-7bb1f0b1376d"
      },
      "execution_count": null,
      "outputs": [
        {
          "output_type": "stream",
          "name": "stdout",
          "text": [
            "{1, 2, 3, 'banana', 'grape', 'orange', 'kiwi'}\n"
          ]
        }
      ]
    },
    {
      "cell_type": "markdown",
      "source": [
        "discard()"
      ],
      "metadata": {
        "id": "MAtLLXGohupK"
      }
    },
    {
      "cell_type": "code",
      "source": [
        "# Removes a specified element. Does nothing if the element is not present.\n",
        "\n",
        "my_set.discard('orange')\n",
        "print(my_set)"
      ],
      "metadata": {
        "colab": {
          "base_uri": "https://localhost:8080/"
        },
        "id": "lJnpSib8hwqs",
        "outputId": "1c097edd-aa55-4e46-b4fd-b9c0604785a5"
      },
      "execution_count": null,
      "outputs": [
        {
          "output_type": "stream",
          "name": "stdout",
          "text": [
            "{1, 2, 3, 'banana', 'grape', 'kiwi'}\n"
          ]
        }
      ]
    },
    {
      "cell_type": "markdown",
      "source": [
        "pop()"
      ],
      "metadata": {
        "id": "DLwEr_J4h7Ph"
      }
    },
    {
      "cell_type": "code",
      "source": [
        "# Removes and returns a random element from the set.\n",
        "\n",
        "popped_item = my_set.pop()\n",
        "print(popped_item)\n",
        "print(my_set)"
      ],
      "metadata": {
        "colab": {
          "base_uri": "https://localhost:8080/"
        },
        "id": "fA2JLtZiiBUN",
        "outputId": "67dee04d-5096-426f-b34a-13b23809879c"
      },
      "execution_count": null,
      "outputs": [
        {
          "output_type": "stream",
          "name": "stdout",
          "text": [
            "1\n",
            "{2, 3, 'banana', 'grape', 'kiwi'}\n"
          ]
        }
      ]
    },
    {
      "cell_type": "code",
      "source": [
        "popped_item = my_set.pop()\n",
        "print(popped_item)\n",
        "print(my_set)"
      ],
      "metadata": {
        "colab": {
          "base_uri": "https://localhost:8080/"
        },
        "id": "6gdsC-tKibVk",
        "outputId": "d00fe806-da09-4076-a408-438ce563d4cb"
      },
      "execution_count": null,
      "outputs": [
        {
          "output_type": "stream",
          "name": "stdout",
          "text": [
            "2\n",
            "{3, 'banana', 'grape', 'kiwi'}\n"
          ]
        }
      ]
    },
    {
      "cell_type": "code",
      "source": [
        "popped_item = my_set.pop()\n",
        "print(popped_item)\n",
        "print(my_set)"
      ],
      "metadata": {
        "colab": {
          "base_uri": "https://localhost:8080/"
        },
        "id": "oE2xNJOsidPQ",
        "outputId": "ec02fd9e-707c-4f2e-ead9-3fd680631b87"
      },
      "execution_count": null,
      "outputs": [
        {
          "output_type": "stream",
          "name": "stdout",
          "text": [
            "3\n",
            "{'banana', 'grape', 'kiwi'}\n"
          ]
        }
      ]
    },
    {
      "cell_type": "markdown",
      "source": [
        "5. Loop Sets :"
      ],
      "metadata": {
        "id": "dIEL8EvaigJ3"
      }
    },
    {
      "cell_type": "code",
      "source": [
        "# Iterate over set elements using a loop.\n",
        "\n",
        "for item in my_set:\n",
        "    print(item)"
      ],
      "metadata": {
        "colab": {
          "base_uri": "https://localhost:8080/"
        },
        "id": "7uHQ5uINih9Q",
        "outputId": "7bbf6913-9fd8-42e1-e02e-188091a41281"
      },
      "execution_count": null,
      "outputs": [
        {
          "output_type": "stream",
          "name": "stdout",
          "text": [
            "banana\n",
            "grape\n",
            "kiwi\n"
          ]
        }
      ]
    },
    {
      "cell_type": "markdown",
      "source": [
        "6. Join Sets:"
      ],
      "metadata": {
        "id": "8s8OPtmUiuAG"
      }
    },
    {
      "cell_type": "code",
      "source": [
        "# You can use set operations like union (|) or intersection (&) to combine or find common elements between sets.\n",
        "\n",
        "set1 = {1, 2, 3}\n",
        "set2 = {3, 4, 5}\n",
        "union_set = set1 | set2  # Union\n",
        "intersection_set = set1 & set2  # Intersection\n",
        "print(union_set)\n",
        "print(intersection_set)"
      ],
      "metadata": {
        "colab": {
          "base_uri": "https://localhost:8080/"
        },
        "id": "9ve_DCXIi0QN",
        "outputId": "96ebf527-b7b6-4f47-8ef4-7559ab35a158"
      },
      "execution_count": null,
      "outputs": [
        {
          "output_type": "stream",
          "name": "stdout",
          "text": [
            "{1, 2, 3, 4, 5}\n",
            "{3}\n"
          ]
        }
      ]
    },
    {
      "cell_type": "markdown",
      "source": [
        "7. Set Methods:"
      ],
      "metadata": {
        "id": "Nf5Ol54Qizmg"
      }
    },
    {
      "cell_type": "code",
      "source": [
        "print(my_set)"
      ],
      "metadata": {
        "colab": {
          "base_uri": "https://localhost:8080/"
        },
        "id": "K3k6_ir0jV61",
        "outputId": "59f301c5-5c68-4d8f-bf90-1d5848cca619"
      },
      "execution_count": null,
      "outputs": [
        {
          "output_type": "stream",
          "name": "stdout",
          "text": [
            "{'banana', 'grape', 'kiwi'}\n"
          ]
        }
      ]
    },
    {
      "cell_type": "markdown",
      "source": [
        "copy()"
      ],
      "metadata": {
        "id": "DGXTXc_6ji9D"
      }
    },
    {
      "cell_type": "code",
      "source": [
        "#Creates a shallow copy of the set if there are no elements in set.\n",
        "\n",
        "new_set= my_set.copy()\n",
        "print(new_set)"
      ],
      "metadata": {
        "colab": {
          "base_uri": "https://localhost:8080/"
        },
        "id": "f_98wx9-jkeg",
        "outputId": "38626c5f-c691-432b-97a5-6d3f869bf0df"
      },
      "execution_count": null,
      "outputs": [
        {
          "output_type": "stream",
          "name": "stdout",
          "text": [
            "{'banana', 'grape', 'kiwi'}\n"
          ]
        }
      ]
    },
    {
      "cell_type": "markdown",
      "source": [
        "clear()"
      ],
      "metadata": {
        "id": "2JSEcHEFjMBl"
      }
    },
    {
      "cell_type": "code",
      "source": [
        "# Removes all elements from the set, does not affect copy of set.\n",
        "\n",
        "my_set.clear()\n",
        "print(my_set)\n",
        "print(new_set)"
      ],
      "metadata": {
        "colab": {
          "base_uri": "https://localhost:8080/"
        },
        "id": "T476yvFSjJkn",
        "outputId": "842bca9d-ee0a-4ca7-d6ff-6ad3d4ab62f2"
      },
      "execution_count": null,
      "outputs": [
        {
          "output_type": "stream",
          "name": "stdout",
          "text": [
            "set()\n",
            "{'banana', 'grape', 'kiwi'}\n"
          ]
        }
      ]
    },
    {
      "cell_type": "markdown",
      "source": [
        "# **Dictionaries**\n",
        "\n",
        "Python dictionaries are collections of key-value pairs, where each key must be unique. They provide a flexible way to store and retrieve data.\n",
        "\n",
        "* Python Dictionaries\n",
        "* Access Items\n",
        "* Change Items\n",
        "* Add Items\n",
        "* Remove Items\n",
        "* Loop Dictionaries\n",
        "* Copy Dictionaries\n",
        "* Nested Dictionaries\n",
        "* Dictionary Methods"
      ],
      "metadata": {
        "id": "cZqM9NRWkQUS"
      }
    },
    {
      "cell_type": "markdown",
      "source": [
        "1. Creating Dictionaries:"
      ],
      "metadata": {
        "id": "9e_r8YeGkqlN"
      }
    },
    {
      "cell_type": "code",
      "source": [
        "# Creating a dictionary\n",
        "my_dict = {'name': 'Nishat', 'age': 22, 'city': 'Dhaka'}     # 'key': 'Value'\n",
        "print(my_dict)"
      ],
      "metadata": {
        "colab": {
          "base_uri": "https://localhost:8080/"
        },
        "id": "8EDSZyKxkl2u",
        "outputId": "d06c71e6-50aa-45e8-8cee-23452ab333a6"
      },
      "execution_count": null,
      "outputs": [
        {
          "output_type": "stream",
          "name": "stdout",
          "text": [
            "{'name': 'Nishat', 'age': 22, 'city': 'Dhaka'}\n"
          ]
        }
      ]
    },
    {
      "cell_type": "markdown",
      "source": [
        "2. Access Items :"
      ],
      "metadata": {
        "id": "RQUs9GfBk0wc"
      }
    },
    {
      "cell_type": "code",
      "source": [
        "# You can access the values in a dictionary using their keys.\n",
        "\n",
        "print(my_dict['name'])\n",
        "print(my_dict['age'])"
      ],
      "metadata": {
        "colab": {
          "base_uri": "https://localhost:8080/"
        },
        "id": "DOXuWKZ-k515",
        "outputId": "dd707cd2-972c-4984-951c-f92f4539bd2f"
      },
      "execution_count": null,
      "outputs": [
        {
          "output_type": "stream",
          "name": "stdout",
          "text": [
            "Nishat\n",
            "22\n"
          ]
        }
      ]
    },
    {
      "cell_type": "markdown",
      "source": [
        "3. Change Items:"
      ],
      "metadata": {
        "id": "sPbCezivlCBh"
      }
    },
    {
      "cell_type": "code",
      "source": [
        "# You can modify the value associated with a key.\n",
        "\n",
        "my_dict['age'] = 20\n",
        "print(my_dict['age'])"
      ],
      "metadata": {
        "colab": {
          "base_uri": "https://localhost:8080/"
        },
        "id": "S7_09pqflFr7",
        "outputId": "8637f8fe-ce8c-43bd-87dd-f3fe8a85171d"
      },
      "execution_count": null,
      "outputs": [
        {
          "output_type": "stream",
          "name": "stdout",
          "text": [
            "20\n"
          ]
        }
      ]
    },
    {
      "cell_type": "markdown",
      "source": [
        "4. Add Items :"
      ],
      "metadata": {
        "id": "kzoLWDfClgrI"
      }
    },
    {
      "cell_type": "code",
      "source": [
        "# You can add new key-value pairs to the dictionary.\n",
        "\n",
        "my_dict['occupation'] = 'Engineer'\n",
        "print(my_dict)"
      ],
      "metadata": {
        "colab": {
          "base_uri": "https://localhost:8080/"
        },
        "id": "2u9LFSh8li5j",
        "outputId": "1d92d8e3-f9be-499e-cdc1-fbb10555b88c"
      },
      "execution_count": null,
      "outputs": [
        {
          "output_type": "stream",
          "name": "stdout",
          "text": [
            "{'name': 'Nishat', 'age': 20, 'city': 'Dhaka', 'occupation': 'Engineer'}\n"
          ]
        }
      ]
    },
    {
      "cell_type": "markdown",
      "source": [
        "5. Remove Elements :"
      ],
      "metadata": {
        "id": "IZC6c2Psl4cg"
      }
    },
    {
      "cell_type": "code",
      "source": [
        "print(my_dict)"
      ],
      "metadata": {
        "colab": {
          "base_uri": "https://localhost:8080/"
        },
        "id": "AnM_ae76mHlk",
        "outputId": "30c44fec-63b3-49a3-de20-e178e5e77051"
      },
      "execution_count": null,
      "outputs": [
        {
          "output_type": "stream",
          "name": "stdout",
          "text": [
            "{'name': 'Nishat', 'city': 'Dhaka', 'occupation': 'Engineer'}\n"
          ]
        }
      ]
    },
    {
      "cell_type": "markdown",
      "source": [
        "pop()"
      ],
      "metadata": {
        "id": "U2kk7reSl7fQ"
      }
    },
    {
      "cell_type": "code",
      "source": [
        "# Removes the item with the specified key and returns its value.\n",
        "\n",
        "removed_age = my_dict.pop('age')\n",
        "print(removed_age)\n",
        "print(my_dict)"
      ],
      "metadata": {
        "colab": {
          "base_uri": "https://localhost:8080/"
        },
        "id": "7oO9i_hTl6m5",
        "outputId": "e599bebd-f4db-4dfe-dfb3-27f6a214c2d5"
      },
      "execution_count": null,
      "outputs": [
        {
          "output_type": "stream",
          "name": "stdout",
          "text": [
            "20\n",
            "{'name': 'Nishat', 'city': 'Dhaka', 'occupation': 'Engineer'}\n"
          ]
        }
      ]
    },
    {
      "cell_type": "markdown",
      "source": [
        "popitem()"
      ],
      "metadata": {
        "id": "ZmdkPcJvmNYH"
      }
    },
    {
      "cell_type": "code",
      "source": [
        "# Removes and returns the last inserted key-value pair.\n",
        "\n",
        "removed_item = my_dict.popitem()\n",
        "print(removed_item)\n",
        "print(my_dict)"
      ],
      "metadata": {
        "colab": {
          "base_uri": "https://localhost:8080/"
        },
        "id": "oSQiLwCbmPiF",
        "outputId": "c3eb7bf7-292c-4285-8b3f-e86dc5614248"
      },
      "execution_count": null,
      "outputs": [
        {
          "output_type": "stream",
          "name": "stdout",
          "text": [
            "('occupation', 'Engineer')\n",
            "{'name': 'Nishat', 'city': 'Dhaka'}\n"
          ]
        }
      ]
    },
    {
      "cell_type": "markdown",
      "source": [
        "6. Loop Dictionaries :"
      ],
      "metadata": {
        "id": "1h-iGnncmjNZ"
      }
    },
    {
      "cell_type": "code",
      "source": [
        "# Lets add some key-value first\n",
        "\n",
        "my_dict['city'] = 'New York'\n",
        "my_dict['occupation'] = 'Data Scientist'\n",
        "my_dict['car owned'] = 'Porsche, BMW, Kia, Rolls Royce'\n",
        "print(my_dict)"
      ],
      "metadata": {
        "colab": {
          "base_uri": "https://localhost:8080/"
        },
        "id": "C1urHQ1Amz0F",
        "outputId": "ab408c0a-b76b-4e30-b396-ec4b10c8f64a"
      },
      "execution_count": null,
      "outputs": [
        {
          "output_type": "stream",
          "name": "stdout",
          "text": [
            "{'name': 'Nishat', 'city': 'New York', 'occupation': 'Data Scientist', 'car owned': 'Porsche, BMW, Kia, Rolls Royce'}\n"
          ]
        }
      ]
    },
    {
      "cell_type": "code",
      "source": [
        "# You can iterate over keys, values, or key-value pairs in a dictionary.\n",
        "\n",
        "# Iterate over keys\n",
        "for key in my_dict:\n",
        "    print(key)\n",
        "\n",
        "# Iterate over values\n",
        "for value in my_dict.values():\n",
        "    print(value)\n",
        "\n",
        "# Iterate over key-value pairs\n",
        "for key, value in my_dict.items():\n",
        "    print(key, value)"
      ],
      "metadata": {
        "colab": {
          "base_uri": "https://localhost:8080/"
        },
        "id": "RR5Ri4UfmmC8",
        "outputId": "6547175c-81f1-49db-c8aa-cc30a2e244d4"
      },
      "execution_count": null,
      "outputs": [
        {
          "output_type": "stream",
          "name": "stdout",
          "text": [
            "name\n",
            "city\n",
            "occupation\n",
            "car owned\n",
            "Nishat\n",
            "New York\n",
            "Data Scientist\n",
            "Porsche, BMW, Kia, Rolls Royce\n",
            "name Nishat\n",
            "city New York\n",
            "occupation Data Scientist\n",
            "car owned Porsche, BMW, Kia, Rolls Royce\n"
          ]
        }
      ]
    },
    {
      "cell_type": "markdown",
      "source": [
        "7. Copy Dictionaries:"
      ],
      "metadata": {
        "id": "RUKHHcLeoLtx"
      }
    },
    {
      "cell_type": "markdown",
      "source": [
        "7.1 Shallow Copy:"
      ],
      "metadata": {
        "id": "sLSiNK2ZoVAt"
      }
    },
    {
      "cell_type": "code",
      "source": [
        "copy_dict = my_dict.copy()\n",
        "print(copy_dict)"
      ],
      "metadata": {
        "colab": {
          "base_uri": "https://localhost:8080/"
        },
        "id": "usK8Y9S6oN-y",
        "outputId": "44b9fa79-be89-4e3e-d5d7-31642737b391"
      },
      "execution_count": null,
      "outputs": [
        {
          "output_type": "stream",
          "name": "stdout",
          "text": [
            "{'name': 'Nishat', 'city': 'New York', 'occupation': 'Data Scientist', 'car owned': 'Porsche, BMW, Kia, Rolls Royce'}\n"
          ]
        }
      ]
    },
    {
      "cell_type": "markdown",
      "source": [
        "7.2 Deep Copy:"
      ],
      "metadata": {
        "id": "cwVs4oKKof1n"
      }
    },
    {
      "cell_type": "code",
      "source": [
        "import copy\n",
        "deep_copy_dict = copy.deepcopy(my_dict)\n",
        "print(deep_copy_dict)"
      ],
      "metadata": {
        "colab": {
          "base_uri": "https://localhost:8080/"
        },
        "id": "M4BOUJeVoR4J",
        "outputId": "f888fe95-0f78-4182-ccf3-98695a41e2ae"
      },
      "execution_count": null,
      "outputs": [
        {
          "output_type": "stream",
          "name": "stdout",
          "text": [
            "{'name': 'Nishat', 'city': 'New York', 'occupation': 'Data Scientist', 'car owned': 'Porsche, BMW, Kia, Rolls Royce'}\n"
          ]
        }
      ]
    },
    {
      "cell_type": "markdown",
      "source": [
        "8. Nested Dictionaries:"
      ],
      "metadata": {
        "id": "uHjIC-qmo0ff"
      }
    },
    {
      "cell_type": "code",
      "source": [
        "# Dictionaries can contain other dictionaries as values.\n",
        "\n",
        "nested_dict = {'person': {'name': 'Tasnim', 'age': 22, 'city': 'Paris'}}\n",
        "print(nested_dict['person']['name'])\n",
        "print(nested_dict['person']['city'])"
      ],
      "metadata": {
        "colab": {
          "base_uri": "https://localhost:8080/"
        },
        "id": "d0lFuPWco3d-",
        "outputId": "88b020e8-8b50-45bf-e495-ceed7a1047b4"
      },
      "execution_count": null,
      "outputs": [
        {
          "output_type": "stream",
          "name": "stdout",
          "text": [
            "Tasnim\n",
            "Paris\n"
          ]
        }
      ]
    },
    {
      "cell_type": "markdown",
      "source": [
        "9. Dictionary Methods:"
      ],
      "metadata": {
        "id": "kwFJ2kwppOBV"
      }
    },
    {
      "cell_type": "code",
      "source": [
        "print(my_dict)"
      ],
      "metadata": {
        "colab": {
          "base_uri": "https://localhost:8080/"
        },
        "id": "Ch75Xg7-pfhW",
        "outputId": "a527458b-4c89-4116-ee23-b29cc7e80d8e"
      },
      "execution_count": null,
      "outputs": [
        {
          "output_type": "stream",
          "name": "stdout",
          "text": [
            "{'name': 'Nishat', 'city': 'New York', 'occupation': 'Data Scientist', 'car owned': 'Porsche, BMW, Kia, Rolls Royce'}\n"
          ]
        }
      ]
    },
    {
      "cell_type": "markdown",
      "source": [
        "keys()"
      ],
      "metadata": {
        "id": "iOhmr6aLpQTQ"
      }
    },
    {
      "cell_type": "code",
      "source": [
        "# Returns a list of all the keys in the dictionary.\n",
        "\n",
        "keys_list = my_dict.keys()\n",
        "print(keys_list)"
      ],
      "metadata": {
        "colab": {
          "base_uri": "https://localhost:8080/"
        },
        "id": "y0Kq3zmWpQ_L",
        "outputId": "993bc517-a414-4124-f0e1-9113a355868a"
      },
      "execution_count": null,
      "outputs": [
        {
          "output_type": "stream",
          "name": "stdout",
          "text": [
            "dict_keys(['name', 'city', 'occupation', 'car owned'])\n"
          ]
        }
      ]
    },
    {
      "cell_type": "markdown",
      "source": [
        "values()"
      ],
      "metadata": {
        "id": "XzWA9aNcpl8U"
      }
    },
    {
      "cell_type": "code",
      "source": [
        "# Returns a list of all the values in the dictionary.\n",
        "\n",
        "values_list = my_dict.values()\n",
        "print(values_list)"
      ],
      "metadata": {
        "colab": {
          "base_uri": "https://localhost:8080/"
        },
        "id": "jhJPcCEOpnoh",
        "outputId": "89ec5243-f584-4e62-d545-c26e593946ee"
      },
      "execution_count": null,
      "outputs": [
        {
          "output_type": "stream",
          "name": "stdout",
          "text": [
            "dict_values(['Nishat', 'New York', 'Data Scientist', 'Porsche, BMW, Kia, Rolls Royce'])\n"
          ]
        }
      ]
    },
    {
      "cell_type": "markdown",
      "source": [
        "items()"
      ],
      "metadata": {
        "id": "HyGGXjevpviX"
      }
    },
    {
      "cell_type": "code",
      "source": [
        "# Returns a list of key-value tuples.\n",
        "\n",
        "items_list = my_dict.items()\n",
        "print(items_list)"
      ],
      "metadata": {
        "colab": {
          "base_uri": "https://localhost:8080/"
        },
        "id": "FkMadx28pxkj",
        "outputId": "e65f24ba-6c5a-4876-dd29-5b4ae00412c6"
      },
      "execution_count": null,
      "outputs": [
        {
          "output_type": "stream",
          "name": "stdout",
          "text": [
            "dict_items([('name', 'Nishat'), ('city', 'New York'), ('occupation', 'Data Scientist'), ('car owned', 'Porsche, BMW, Kia, Rolls Royce')])\n"
          ]
        }
      ]
    },
    {
      "cell_type": "markdown",
      "source": [
        "# **Functions (Definition, Arguments, Lambda Functions)**"
      ],
      "metadata": {
        "id": "NAr4QITTqq4D"
      }
    },
    {
      "cell_type": "markdown",
      "source": [
        "* A function is a block of reusable code that performs a specific task.\n",
        "* Functions help in organizing code, making it more readable, and promoting code reusability."
      ],
      "metadata": {
        "id": "xjd6E0NereWG"
      }
    },
    {
      "cell_type": "markdown",
      "source": [
        "**1. Defining a Function:**"
      ],
      "metadata": {
        "id": "PZf2iOeCLaSG"
      }
    },
    {
      "cell_type": "code",
      "source": [
        "def greet(name):                     # def function_name(parameters)\n",
        "    print(f\"Hello {name}!\")\n",
        "\n",
        "# Calling the function\n",
        "greet(\"Nishat\")"
      ],
      "metadata": {
        "id": "l0dxNdjhLVFl",
        "colab": {
          "base_uri": "https://localhost:8080/"
        },
        "outputId": "96bb6f3f-d086-4ef7-d087-3d35a1095a54"
      },
      "execution_count": 1,
      "outputs": [
        {
          "output_type": "stream",
          "name": "stdout",
          "text": [
            "Hello Nishat!\n"
          ]
        }
      ]
    },
    {
      "cell_type": "code",
      "source": [
        "def greet(name):\n",
        "    pass                           # used pass keyword to define a function without implementing\n",
        "\n",
        "# Calling the function\n",
        "greet(\"Nishat\")"
      ],
      "metadata": {
        "id": "U98KRv_aLxQL"
      },
      "execution_count": 2,
      "outputs": []
    },
    {
      "cell_type": "markdown",
      "source": [
        "**2. Parameters and Arguments:**\n",
        "* Parameters are variables that you include in the function definition.\n",
        "* Arguments are the values passed into the function when calling it."
      ],
      "metadata": {
        "id": "JqmQmaH1MVKv"
      }
    },
    {
      "cell_type": "code",
      "source": [
        "def add_numbers(a, b):\n",
        "  sum_result = a + b\n",
        "  print(f\"The sum is: {sum_result}\")\n",
        "\n",
        "# Calling the function with arguments\n",
        "add_numbers(5, 3)"
      ],
      "metadata": {
        "id": "oaZHElZ2Mex1",
        "colab": {
          "base_uri": "https://localhost:8080/"
        },
        "outputId": "7efd6759-43fe-4242-9857-5f7659cd9a74"
      },
      "execution_count": 3,
      "outputs": [
        {
          "output_type": "stream",
          "name": "stdout",
          "text": [
            "The sum is: 8\n"
          ]
        }
      ]
    },
    {
      "cell_type": "markdown",
      "source": [
        "**3. Return Statement:**\n",
        "* Use the return statement to send a result back from the function.\n",
        "* A function can return multiple values as a tuple."
      ],
      "metadata": {
        "id": "pPy4ccimNPtq"
      }
    },
    {
      "cell_type": "code",
      "source": [
        "def square(number):\n",
        "    return number ** 2\n",
        "\n",
        "result = square(4)\n",
        "print(f\"The square is: {result}\")"
      ],
      "metadata": {
        "id": "oTfzMhYhNkkV",
        "colab": {
          "base_uri": "https://localhost:8080/"
        },
        "outputId": "5090ae83-401c-42fb-d27b-ea59594a276f"
      },
      "execution_count": 4,
      "outputs": [
        {
          "output_type": "stream",
          "name": "stdout",
          "text": [
            "The square is: 16\n"
          ]
        }
      ]
    },
    {
      "cell_type": "markdown",
      "source": [
        "**4. Default Values:**\n",
        "* You can provide default values for function parameters."
      ],
      "metadata": {
        "id": "LiQPHupmNzE4"
      }
    },
    {
      "cell_type": "code",
      "source": [
        "def power(base, exponent=2):\n",
        "    return base ** exponent\n",
        "\n",
        "print(power(3))     # Uses default exponent (2)\n",
        "print(power(3, 3))  # Uses provided exponent (3)"
      ],
      "metadata": {
        "id": "r4YkmJPuOA4u",
        "colab": {
          "base_uri": "https://localhost:8080/"
        },
        "outputId": "9b8e5503-e825-4cf6-bd0b-846691a06c87"
      },
      "execution_count": 5,
      "outputs": [
        {
          "output_type": "stream",
          "name": "stdout",
          "text": [
            "9\n",
            "27\n"
          ]
        }
      ]
    },
    {
      "cell_type": "markdown",
      "source": [
        "**5. Variable Scope :**\n",
        "* Variables defined inside a function have local scope.\n",
        "* Variables defined outside functions have global scope."
      ],
      "metadata": {
        "id": "qFP4U7_bOqKi"
      }
    },
    {
      "cell_type": "code",
      "source": [
        "global_var = 10\n",
        "\n",
        "def my_function():\n",
        "    local_var = 5\n",
        "    global global_var                 # to changes values it must be accessd by  global keyword\n",
        "    global_var += 10\n",
        "    print(f\"Global variable: {global_var}\")\n",
        "    print(f\"Local variable: {local_var}\")\n",
        "\n",
        "my_function()"
      ],
      "metadata": {
        "colab": {
          "base_uri": "https://localhost:8080/"
        },
        "id": "SQXLI0UlO2cL",
        "outputId": "7af74006-7c6a-4752-846b-13319d930809"
      },
      "execution_count": 6,
      "outputs": [
        {
          "output_type": "stream",
          "name": "stdout",
          "text": [
            "Global variable: 20\n",
            "Local variable: 5\n"
          ]
        }
      ]
    },
    {
      "cell_type": "markdown",
      "source": [
        "**6. Passing Lists and Dictionaries:**\n",
        "* Functions can accept lists or dictionaries as arguments."
      ],
      "metadata": {
        "id": "6HV9qO0DPP4u"
      }
    },
    {
      "cell_type": "code",
      "source": [
        "def process_list(my_list):\n",
        "    for item in my_list:\n",
        "        print(item)\n",
        "\n",
        "my_items = [1, 2, 3, 4]\n",
        "process_list(my_items)"
      ],
      "metadata": {
        "colab": {
          "base_uri": "https://localhost:8080/"
        },
        "id": "KejSC_EPPojA",
        "outputId": "122e4b96-a7ca-49c6-dad8-e2cb8284eff2"
      },
      "execution_count": 9,
      "outputs": [
        {
          "output_type": "stream",
          "name": "stdout",
          "text": [
            "1\n",
            "2\n",
            "3\n",
            "4\n"
          ]
        }
      ]
    },
    {
      "cell_type": "markdown",
      "source": [
        "**7. Lambda Functions (Anonymous Functions):**\n",
        "* Lambda functions are small, one-line anonymous functions."
      ],
      "metadata": {
        "id": "kM3W2H6vQjou"
      }
    },
    {
      "cell_type": "code",
      "source": [
        "multiply = lambda x, y: x * y    # Defines a lambda function named multiply that takes two parameters x and y and returns their product (x * y).\n",
        "print(multiply(3, 4))"
      ],
      "metadata": {
        "colab": {
          "base_uri": "https://localhost:8080/"
        },
        "id": "9TrZtA3xQpKU",
        "outputId": "82ee69d6-2bd6-4e19-f61c-5d55e4433d2d"
      },
      "execution_count": 10,
      "outputs": [
        {
          "output_type": "stream",
          "name": "stdout",
          "text": [
            "12\n"
          ]
        }
      ]
    },
    {
      "cell_type": "code",
      "source": [
        "add = lambda x, y : x + y\n",
        "print(add(10, 2))"
      ],
      "metadata": {
        "colab": {
          "base_uri": "https://localhost:8080/"
        },
        "id": "iLHSni-SSBhk",
        "outputId": "df44a47f-1a7b-4283-843e-5123d7a3b9e9"
      },
      "execution_count": 12,
      "outputs": [
        {
          "output_type": "stream",
          "name": "stdout",
          "text": [
            "12\n"
          ]
        }
      ]
    },
    {
      "cell_type": "markdown",
      "source": [
        "**8. Docstrings:**\n",
        "* Document your functions using docstrings to provide documentation."
      ],
      "metadata": {
        "id": "hc2gx6VARLtq"
      }
    },
    {
      "cell_type": "code",
      "source": [
        "def multiply(a, b):\n",
        "    \"\"\"\n",
        "    This function multiplies two numbers.\n",
        "    :param a: The first number\n",
        "    :param b: The second number\n",
        "    :return: The product of a and b\n",
        "    \"\"\"\n",
        "    return a * b"
      ],
      "metadata": {
        "id": "4gQ0G2QCRWX6"
      },
      "execution_count": 11,
      "outputs": []
    },
    {
      "cell_type": "markdown",
      "source": [
        "**10. Recursive Functions:**\n",
        "* Functions can call themselves, creating a recursive structure."
      ],
      "metadata": {
        "id": "W_hjgfQyRs-j"
      }
    },
    {
      "cell_type": "code",
      "source": [
        "def factorial(n):\n",
        "    if n == 0 or n == 1:              # Base Case\n",
        "        return 1\n",
        "    else:\n",
        "        return n * factorial(n - 1)   # Recursive case: n * factorial of (n-1)\n",
        "\n",
        "fact = factorial(10)\n",
        "print(fact)"
      ],
      "metadata": {
        "colab": {
          "base_uri": "https://localhost:8080/"
        },
        "id": "Fz3xdqmJRxx_",
        "outputId": "9e1150f3-02e3-4f85-8562-919d808d9143"
      },
      "execution_count": 14,
      "outputs": [
        {
          "output_type": "stream",
          "name": "stdout",
          "text": [
            "3628800\n"
          ]
        }
      ]
    },
    {
      "cell_type": "code",
      "source": [
        "def fibonacci(n):\n",
        "  if n == 0 :\n",
        "    return 0\n",
        "\n",
        "  elif n == 1:\n",
        "    return 1\n",
        "\n",
        "  else:\n",
        "    return fibonacci(n-1) + fibonacci (n-2)     # Recursive case: sum of the two preceding numbers\n",
        "\n",
        "fib = fibonacci(10)\n",
        "print(fib)"
      ],
      "metadata": {
        "colab": {
          "base_uri": "https://localhost:8080/"
        },
        "id": "O7afztQtS086",
        "outputId": "86aafb96-ff4b-4189-9540-14463c072fba"
      },
      "execution_count": 15,
      "outputs": [
        {
          "output_type": "stream",
          "name": "stdout",
          "text": [
            "55\n"
          ]
        }
      ]
    },
    {
      "cell_type": "markdown",
      "source": [
        "### **Positional vs Keword Arguments**\n",
        "\n",
        "In Python, when you call a function, you can pass arguments in two main ways: positional arguments and keyword arguments."
      ],
      "metadata": {
        "id": "vXmOFUFmTnnz"
      }
    },
    {
      "cell_type": "markdown",
      "source": [
        "**Positional Arguments:**\n",
        "* Positional arguments are passed to a function based on their position or order in the function's parameter list."
      ],
      "metadata": {
        "id": "uJ0BGTNATtko"
      }
    },
    {
      "cell_type": "code",
      "source": [
        "def greet(name, age):\n",
        "    print(f\"Hello, {name}! You are {age} years old.\")\n",
        "\n",
        "# Using positional arguments\n",
        "greet(\"Nishat\", 22)"
      ],
      "metadata": {
        "colab": {
          "base_uri": "https://localhost:8080/"
        },
        "id": "s4aN4exqT_bB",
        "outputId": "0536f464-c662-49e4-a8b6-60fa6e891328"
      },
      "execution_count": 17,
      "outputs": [
        {
          "output_type": "stream",
          "name": "stdout",
          "text": [
            "Hello, Nishat! You are 22 years old.\n"
          ]
        }
      ]
    },
    {
      "cell_type": "markdown",
      "source": [
        "**Keyword Arguments:**\n",
        "* Keyword arguments are passed to a function using the parameter names. This allows you to explicitly specify which argument corresponds to which parameter, regardless of their order"
      ],
      "metadata": {
        "id": "WV0uKi0PURRz"
      }
    },
    {
      "cell_type": "code",
      "source": [
        "def greet(name, age):\n",
        "    print(f\"Hello, {name}! You are {age} years old.\")\n",
        "\n",
        "# Using keyword arguments\n",
        "greet(age=22, name=\"Tasnim\")"
      ],
      "metadata": {
        "colab": {
          "base_uri": "https://localhost:8080/"
        },
        "id": "C_JWYLSNUNHl",
        "outputId": "6f0c1ab1-3ca4-48a5-a03f-23c2bc487ac6"
      },
      "execution_count": 20,
      "outputs": [
        {
          "output_type": "stream",
          "name": "stdout",
          "text": [
            "Hello, Tasnim! You are 22 years old.\n"
          ]
        }
      ]
    },
    {
      "cell_type": "markdown",
      "source": [
        "**Mixing Positional and Keyword Arguments:**\n",
        "* You can mix positional and keyword arguments in a function call. However, positional arguments must come before keyword arguments."
      ],
      "metadata": {
        "id": "X2d2a-mZUx1V"
      }
    },
    {
      "cell_type": "code",
      "source": [
        "def greet(name, age, location):\n",
        "    print(f\"Hello, {name}! You are {age} years old. You are a cat from {location}.\")\n",
        "\n",
        "# Mixing positional and keyword arguments\n",
        "greet(\"Meow\", location=\"New York\", age=22)"
      ],
      "metadata": {
        "colab": {
          "base_uri": "https://localhost:8080/"
        },
        "id": "sQFYVb2wU03x",
        "outputId": "8f25aadd-2df0-4391-f493-613d3f436552"
      },
      "execution_count": 22,
      "outputs": [
        {
          "output_type": "stream",
          "name": "stdout",
          "text": [
            "Hello, Meow! You are 22 years old. You are a cat from New York.\n"
          ]
        }
      ]
    },
    {
      "cell_type": "markdown",
      "source": [
        "**Default Values:**\n",
        "* You can provide default values for function parameters, making them optional. If an argument is not provided, the default value is used."
      ],
      "metadata": {
        "id": "3OzUqLi8VKxW"
      }
    },
    {
      "cell_type": "code",
      "source": [
        "def greet(name, age=2):\n",
        "    print(f\"Hello, {name}! You are {age} years old.\")\n",
        "\n",
        "# Using default values\n",
        "greet(\"Meow\")              # age defaults to 25\n",
        "greet(\"Fur Ball\", age=5)  # age is explicitly provided"
      ],
      "metadata": {
        "colab": {
          "base_uri": "https://localhost:8080/"
        },
        "id": "7AEgO9Z8VWEd",
        "outputId": "c448a218-c8d1-4ab8-a96a-c3dc5939b79e"
      },
      "execution_count": 24,
      "outputs": [
        {
          "output_type": "stream",
          "name": "stdout",
          "text": [
            "Hello, Meow! You are 2 years old.\n",
            "Hello, Fur Ball! You are 5 years old.\n"
          ]
        }
      ]
    },
    {
      "cell_type": "markdown",
      "source": [
        "**Positional-Only Arguments (Before /):**\n",
        "* You can use **/** in the function definition to indicate that all the parameters before it must be specified as positional arguments."
      ],
      "metadata": {
        "id": "PElPEESbV7GM"
      }
    },
    {
      "cell_type": "code",
      "source": [
        "def example_function(a, b, /, c, d):\n",
        "    print(a, b, c, d)\n",
        "\n",
        "# Valid usage\n",
        "example_function(1, 2, c = 3, d = 4)\n",
        "example_function(1, 2, 3, 4)"
      ],
      "metadata": {
        "colab": {
          "base_uri": "https://localhost:8080/"
        },
        "id": "3Uw_AT1_WLdt",
        "outputId": "72ebb63c-e15c-402f-e444-fac370b0bb4b"
      },
      "execution_count": 26,
      "outputs": [
        {
          "output_type": "stream",
          "name": "stdout",
          "text": [
            "1 2 3 4\n",
            "1 2 3 4\n"
          ]
        }
      ]
    },
    {
      "cell_type": "code",
      "source": [],
      "metadata": {
        "id": "161AtaSHWlFr"
      },
      "execution_count": null,
      "outputs": []
    },
    {
      "cell_type": "markdown",
      "source": [
        "**Keyword-Only Arguments** **(After** *):\n",
        "* You can use * in the function definition to indicate that all the parameters after it must be specified as keyword arguments."
      ],
      "metadata": {
        "id": "54MCEOTNW_OE"
      }
    },
    {
      "cell_type": "code",
      "source": [
        "def example_function(a, b, *, c, d):\n",
        "    print(a, b, c, d)\n",
        "\n",
        "# Valid usage\n",
        "example_function(1, 2, c=3, d=4)"
      ],
      "metadata": {
        "colab": {
          "base_uri": "https://localhost:8080/"
        },
        "id": "Y7ZD-1gFXMU0",
        "outputId": "778bb624-032d-4a8b-ca9a-bba7437799bb"
      },
      "execution_count": 27,
      "outputs": [
        {
          "output_type": "stream",
          "name": "stdout",
          "text": [
            "1 2 3 4\n"
          ]
        }
      ]
    },
    {
      "cell_type": "markdown",
      "source": [
        "**Combination of Both:**\n",
        "* You can use **/** and * together to enforce a combination of positional-only, positional-or-keyword, and keyword-only arguments."
      ],
      "metadata": {
        "id": "JQLf20GaXTAL"
      }
    },
    {
      "cell_type": "code",
      "source": [
        "def example_function(a, b, /, x, y, *, c, d):\n",
        "    print(a, b, x, y, c, d)\n",
        "\n",
        "# Valid usage\n",
        "example_function(1, 2, 3, 4, c=5, d=6)"
      ],
      "metadata": {
        "colab": {
          "base_uri": "https://localhost:8080/"
        },
        "id": "KZiLbsNJXcTS",
        "outputId": "94e60428-826a-48f7-dfd3-e9509b01e9da"
      },
      "execution_count": 31,
      "outputs": [
        {
          "output_type": "stream",
          "name": "stdout",
          "text": [
            "1 2 3 4 5 6\n"
          ]
        }
      ]
    },
    {
      "cell_type": "code",
      "source": [
        "def example_function(a, b, /, x, y, *, c, d):\n",
        "    print(a, b, x, y, c, d)\n",
        "\n",
        "# Valid usage\n",
        "example_function(1, 2, x=3, y=4, c=5, d=6)  # All keyword arguments after positional-only\n",
        "example_function(1, 2, 3, y=4, c=5, d=6)    # Mixed usage with keyword-only arguments"
      ],
      "metadata": {
        "colab": {
          "base_uri": "https://localhost:8080/"
        },
        "id": "J13t4XwGYCD-",
        "outputId": "556856f2-06e5-4429-8f9f-022bab24a991"
      },
      "execution_count": 32,
      "outputs": [
        {
          "output_type": "stream",
          "name": "stdout",
          "text": [
            "1 2 3 4 5 6\n",
            "1 2 3 4 5 6\n"
          ]
        }
      ]
    },
    {
      "cell_type": "markdown",
      "source": [
        "# **Control Structures (if-else, loops)**"
      ],
      "metadata": {
        "id": "7Bzqk0wHYyYh"
      }
    },
    {
      "cell_type": "markdown",
      "source": [
        "# **If-else**\n",
        "* if else\n",
        "* nested if else\n",
        "* star print"
      ],
      "metadata": {
        "id": "K-5oAoD8Y8LW"
      }
    },
    {
      "cell_type": "markdown",
      "source": [
        "**1. Basic If-Else Statements:**"
      ],
      "metadata": {
        "id": "28aycPRUZV1o"
      }
    },
    {
      "cell_type": "code",
      "source": [
        "# Example 1\n",
        "x = 10\n",
        "\n",
        "if x > 5:\n",
        "    print(\"x is greater than 5\")\n",
        "else:\n",
        "    print(\"x is not greater than 5\")"
      ],
      "metadata": {
        "colab": {
          "base_uri": "https://localhost:8080/"
        },
        "id": "WP95OsTMY2Tn",
        "outputId": "5c803e55-0221-4063-a7fc-109c6cc912b7"
      },
      "execution_count": 33,
      "outputs": [
        {
          "output_type": "stream",
          "name": "stdout",
          "text": [
            "x is greater than 5\n"
          ]
        }
      ]
    },
    {
      "cell_type": "markdown",
      "source": [
        "**2. Elif Statements:**"
      ],
      "metadata": {
        "id": "zsIWl5-uZd6v"
      }
    },
    {
      "cell_type": "code",
      "source": [
        "# Example 2\n",
        "y = 20\n",
        "\n",
        "if y > 15:\n",
        "    print(\"y is greater than 15\")\n",
        "elif y == 15:\n",
        "    print(\"y is equal to 15\")\n",
        "else:\n",
        "    print(\"y is less than 15\")"
      ],
      "metadata": {
        "colab": {
          "base_uri": "https://localhost:8080/"
        },
        "id": "ZG3pqEEjZj27",
        "outputId": "51563b31-7e92-429d-d05a-63f848f1e2e7"
      },
      "execution_count": 34,
      "outputs": [
        {
          "output_type": "stream",
          "name": "stdout",
          "text": [
            "y is greater than 15\n"
          ]
        }
      ]
    },
    {
      "cell_type": "markdown",
      "source": [
        "**3. Nested If-Else Statements:**"
      ],
      "metadata": {
        "id": "J8G7A_dnZvBI"
      }
    },
    {
      "cell_type": "code",
      "source": [
        "# Example 3\n",
        "a = 5\n",
        "b = -7\n",
        "\n",
        "if a > 0:\n",
        "    if b > 0:\n",
        "        print(\"Both a and b are positive\")\n",
        "    else:\n",
        "        print(\"a is positive, but b is not\")\n",
        "else:\n",
        "    print(\"a is not positive\")"
      ],
      "metadata": {
        "colab": {
          "base_uri": "https://localhost:8080/"
        },
        "id": "jGXcdgvnZzt2",
        "outputId": "d278e566-fa79-4bfc-ee58-069014cdcb19"
      },
      "execution_count": 35,
      "outputs": [
        {
          "output_type": "stream",
          "name": "stdout",
          "text": [
            "a is positive, but b is not\n"
          ]
        }
      ]
    },
    {
      "cell_type": "markdown",
      "source": [
        "**4. Ternary Operator:**"
      ],
      "metadata": {
        "id": "UAwh3IIpaAah"
      }
    },
    {
      "cell_type": "code",
      "source": [
        "# Example 4\n",
        "condition = True\n",
        "result = \"Yes\" if condition else \"No\"\n",
        "print(result)"
      ],
      "metadata": {
        "colab": {
          "base_uri": "https://localhost:8080/"
        },
        "id": "-CyOPUkRaDwo",
        "outputId": "ef173483-d4a2-4aac-9e52-27e98a455240"
      },
      "execution_count": 36,
      "outputs": [
        {
          "output_type": "stream",
          "name": "stdout",
          "text": [
            "Yes\n"
          ]
        }
      ]
    },
    {
      "cell_type": "code",
      "source": [
        "condition = False\n",
        "result = \"Yes\" if condition else \"No\"\n",
        "print(result)"
      ],
      "metadata": {
        "colab": {
          "base_uri": "https://localhost:8080/"
        },
        "id": "rRL6oylOabcD",
        "outputId": "cb7a8da2-9c7f-4afd-dabe-b6bb155eaa78"
      },
      "execution_count": 39,
      "outputs": [
        {
          "output_type": "stream",
          "name": "stdout",
          "text": [
            "No\n"
          ]
        }
      ]
    },
    {
      "cell_type": "markdown",
      "source": [
        "**5. Multiple Conditions:**"
      ],
      "metadata": {
        "id": "Nwfs-xzdamCt"
      }
    },
    {
      "cell_type": "code",
      "source": [
        "# Example 5\n",
        "num = 8\n",
        "\n",
        "if 5 < num < 10:\n",
        "    print(\"The number is between 5 and 10\")"
      ],
      "metadata": {
        "colab": {
          "base_uri": "https://localhost:8080/"
        },
        "id": "uWw0_MrSaosa",
        "outputId": "b8a9c8d0-cdd6-44fc-8f09-65948c94e17f"
      },
      "execution_count": 40,
      "outputs": [
        {
          "output_type": "stream",
          "name": "stdout",
          "text": [
            "The number is between 5 and 10\n"
          ]
        }
      ]
    },
    {
      "cell_type": "markdown",
      "source": [
        "**6. Short-Circuiting:**"
      ],
      "metadata": {
        "id": "Q5uxwmeka4VJ"
      }
    },
    {
      "cell_type": "code",
      "source": [
        "# Example 6\n",
        "x = 5\n",
        "\n",
        "if x > 0 and (10 / x) > 1:\n",
        "    print(\"Both conditions are true\")\n",
        "else:\n",
        "    print(\"At least one condition is false\")"
      ],
      "metadata": {
        "colab": {
          "base_uri": "https://localhost:8080/"
        },
        "id": "cLXuyzDza62U",
        "outputId": "95bc2c49-2d41-4e3e-b065-5eb709a5cda8"
      },
      "execution_count": 41,
      "outputs": [
        {
          "output_type": "stream",
          "name": "stdout",
          "text": [
            "Both conditions are true\n"
          ]
        }
      ]
    },
    {
      "cell_type": "markdown",
      "source": [
        "**7. Using Functions:**"
      ],
      "metadata": {
        "id": "-BKSC0kUbIJb"
      }
    },
    {
      "cell_type": "code",
      "source": [
        "# Example 7\n",
        "def check_number(num):\n",
        "    if num % 2 == 0:\n",
        "        return \"Even\"\n",
        "    else:\n",
        "        return \"Odd\"\n",
        "\n",
        "result = check_number(7)\n",
        "print(result)"
      ],
      "metadata": {
        "colab": {
          "base_uri": "https://localhost:8080/"
        },
        "id": "oZq1e4-IbJvM",
        "outputId": "05d512b9-6071-4a7c-a86f-1601f165cd99"
      },
      "execution_count": 42,
      "outputs": [
        {
          "output_type": "stream",
          "name": "stdout",
          "text": [
            "Odd\n"
          ]
        }
      ]
    },
    {
      "cell_type": "markdown",
      "source": [
        "**8. Advanced Concepts - The pass Statement:**"
      ],
      "metadata": {
        "id": "ZJwF_SgrbSqT"
      }
    },
    {
      "cell_type": "code",
      "source": [
        "# Example 8\n",
        "x = 12\n",
        "\n",
        "if x > 10:\n",
        "    pass  # Do nothing\n",
        "else:\n",
        "    print(\"x is not greater than 10\")"
      ],
      "metadata": {
        "id": "8EfZmi-qbV8J"
      },
      "execution_count": 43,
      "outputs": []
    },
    {
      "cell_type": "markdown",
      "source": [
        "**9. Exception Handling (Try-Except):**"
      ],
      "metadata": {
        "id": "mKEcPCpebZ80"
      }
    },
    {
      "cell_type": "code",
      "source": [
        "# Example 9\n",
        "try:\n",
        "    age = int(input(\"Enter your age: \"))\n",
        "    if age < 0:\n",
        "        raise ValueError(\"Age cannot be negative\")\n",
        "    print(f\"Your age is {age}\")\n",
        "except ValueError as ve:\n",
        "    print(f\"Error: {ve}\")"
      ],
      "metadata": {
        "colab": {
          "base_uri": "https://localhost:8080/"
        },
        "id": "_4-WkZrIbdxb",
        "outputId": "47e319ec-bcb1-40a5-8644-bbbc323dfa68"
      },
      "execution_count": 44,
      "outputs": [
        {
          "output_type": "stream",
          "name": "stdout",
          "text": [
            "Enter your age: -4\n",
            "Error: Age cannot be negative\n"
          ]
        }
      ]
    },
    {
      "cell_type": "code",
      "source": [
        "try:\n",
        "    age = int(input(\"Enter your age: \"))\n",
        "    if age < 0:\n",
        "        raise ValueError(\"Age cannot be negative\")\n",
        "    print(f\"Your age is {age}\")\n",
        "except ValueError as ve:\n",
        "    print(f\"Error: {ve}\")"
      ],
      "metadata": {
        "colab": {
          "base_uri": "https://localhost:8080/"
        },
        "id": "qKjSrHvabxl-",
        "outputId": "bf399302-2b1c-4702-835a-6be706b0d134"
      },
      "execution_count": 45,
      "outputs": [
        {
          "output_type": "stream",
          "name": "stdout",
          "text": [
            "Enter your age: 22\n",
            "Your age is 22\n"
          ]
        }
      ]
    },
    {
      "cell_type": "code",
      "source": [
        "try:\n",
        "    age = int(input(\"Enter your age: \"))\n",
        "    if age < 0:\n",
        "        raise ValueError(\"Age cannot be negative\")\n",
        "    print(f\"Your age is {age}\")\n",
        "except ValueError as ve:\n",
        "    print(f\"Error: {ve}\")"
      ],
      "metadata": {
        "colab": {
          "base_uri": "https://localhost:8080/"
        },
        "id": "ZFh5MSOob2Cn",
        "outputId": "d17b5177-b7ec-4bbc-927c-f73e6849335f"
      },
      "execution_count": 46,
      "outputs": [
        {
          "output_type": "stream",
          "name": "stdout",
          "text": [
            "Enter your age: Twenty Two\n",
            "Error: invalid literal for int() with base 10: 'Twenty Two'\n"
          ]
        }
      ]
    },
    {
      "cell_type": "markdown",
      "source": [
        "### **Nested if-else extended :**"
      ],
      "metadata": {
        "id": "ytUrjC0GcPBP"
      }
    },
    {
      "cell_type": "code",
      "source": [
        "# Beginner Example\n",
        "\n",
        "number = int(input(\"Enter a number: \"))\n",
        "\n",
        "if number > 0:\n",
        "    print(\"The number is positive.\")\n",
        "else:\n",
        "    if number < 0:\n",
        "        print(\"The number is negative.\")\n",
        "    else:\n",
        "        print(\"The number is zero.\")"
      ],
      "metadata": {
        "colab": {
          "base_uri": "https://localhost:8080/"
        },
        "id": "0l4oItNscZaZ",
        "outputId": "8d178ec2-0472-42f3-b54e-8410699d40e3"
      },
      "execution_count": 47,
      "outputs": [
        {
          "output_type": "stream",
          "name": "stdout",
          "text": [
            "Enter a number: 0\n",
            "The number is zero.\n"
          ]
        }
      ]
    },
    {
      "cell_type": "code",
      "source": [
        "# Intermediate Example : Checking Parity and Magnitude\n",
        "\n",
        "number = int(input(\"Enter a number: \"))\n",
        "\n",
        "if number > 0:\n",
        "    print(\"The number is positive.\")\n",
        "    if number % 2 == 0:\n",
        "        print(\"The positive number is even.\")\n",
        "    else:\n",
        "        print(\"The positive number is odd.\")\n",
        "else:\n",
        "    if number < 0:\n",
        "        print(\"The number is negative.\")\n",
        "    else:\n",
        "        print(\"The number is zero.\")"
      ],
      "metadata": {
        "colab": {
          "base_uri": "https://localhost:8080/"
        },
        "id": "vfd1q7LhcokE",
        "outputId": "d3512a9d-82db-4d88-e754-37e8628413b5"
      },
      "execution_count": 48,
      "outputs": [
        {
          "output_type": "stream",
          "name": "stdout",
          "text": [
            "Enter a number: 100\n",
            "The number is positive.\n",
            "The positive number is even.\n"
          ]
        }
      ]
    },
    {
      "cell_type": "code",
      "source": [
        "# Advanced Example : Grading System\n",
        "\n",
        "score = int(input(\"Enter your score: \"))\n",
        "\n",
        "if score >= 90:\n",
        "    print(\"Grade: A\")\n",
        "elif 80 <= score < 90:\n",
        "    print(\"Grade: B\")\n",
        "elif 70 <= score < 80:\n",
        "    print(\"Grade: C\")\n",
        "else:\n",
        "    print(\"Grade: D\")\n",
        "\n",
        "    if score < 60:\n",
        "        print(\"You failed.\")\n",
        "    else:\n",
        "        print(\"You passed.\")"
      ],
      "metadata": {
        "colab": {
          "base_uri": "https://localhost:8080/"
        },
        "id": "zQQVLCaidCbf",
        "outputId": "538e8f1d-7dd0-40c1-e0d0-f2aaac1abfb3"
      },
      "execution_count": 49,
      "outputs": [
        {
          "output_type": "stream",
          "name": "stdout",
          "text": [
            "Enter your score: 90\n",
            "Grade: A\n"
          ]
        }
      ]
    },
    {
      "cell_type": "code",
      "source": [
        "# Expert Level: Nested Conditions for a Triangle\n",
        "\n",
        "side1 = float(input(\"Enter the length of the first side: \"))\n",
        "side2 = float(input(\"Enter the length of the second side: \"))\n",
        "side3 = float(input(\"Enter the length of the third side: \"))\n",
        "\n",
        "if side1 + side2 > side3 and side1 + side3 > side2 and side2 + side3 > side1:\n",
        "    print(\"It's a valid triangle.\")\n",
        "\n",
        "    if side1 == side2 == side3:\n",
        "        print(\"It's an equilateral triangle.\")\n",
        "    elif side1 == side2 or side1 == side3 or side2 == side3:\n",
        "        print(\"It's an isosceles triangle.\")\n",
        "    else:\n",
        "        print(\"It's a scalene triangle.\")\n",
        "else:\n",
        "    print(\"It's not a valid triangle.\")"
      ],
      "metadata": {
        "colab": {
          "base_uri": "https://localhost:8080/"
        },
        "id": "eazq1_kbddxl",
        "outputId": "dc45601f-3eb5-43b8-d88c-b1c7069b9ee9"
      },
      "execution_count": 50,
      "outputs": [
        {
          "output_type": "stream",
          "name": "stdout",
          "text": [
            "Enter the length of the first side: 2\n",
            "Enter the length of the second side: 2\n",
            "Enter the length of the third side: 3\n",
            "It's a valid triangle.\n",
            "It's an isosceles triangle.\n"
          ]
        }
      ]
    },
    {
      "cell_type": "markdown",
      "source": [
        "### **Star Print : (LOOP)**"
      ],
      "metadata": {
        "id": "MrtSI9BYc8wd"
      }
    },
    {
      "cell_type": "code",
      "source": [
        "#Print a Single Star:\n",
        "\n",
        "print(\"*\")"
      ],
      "metadata": {
        "colab": {
          "base_uri": "https://localhost:8080/"
        },
        "id": "IwPsY01ieqox",
        "outputId": "e4339725-9f3a-45e4-9a57-47d286758b74"
      },
      "execution_count": 51,
      "outputs": [
        {
          "output_type": "stream",
          "name": "stdout",
          "text": [
            "*\n"
          ]
        }
      ]
    },
    {
      "cell_type": "code",
      "source": [
        "# Print a Line of Stars:\n",
        "\n",
        "size = 5\n",
        "\n",
        "for i in range(size):\n",
        "    print('*')"
      ],
      "metadata": {
        "colab": {
          "base_uri": "https://localhost:8080/"
        },
        "id": "WF-h8otGfXvq",
        "outputId": "cd1fca99-31cf-42e3-858b-46e2f1abc98f"
      },
      "execution_count": 55,
      "outputs": [
        {
          "output_type": "stream",
          "name": "stdout",
          "text": [
            "*\n",
            "*\n",
            "*\n",
            "*\n",
            "*\n"
          ]
        }
      ]
    },
    {
      "cell_type": "code",
      "source": [
        "# Print a Square of Stars:\n",
        "\n",
        "size = 6\n",
        "\n",
        "for _ in range(size):\n",
        "    print('* ' * size)"
      ],
      "metadata": {
        "colab": {
          "base_uri": "https://localhost:8080/"
        },
        "id": "1y3sld4peeqN",
        "outputId": "3f54f60a-b47c-4988-c496-159a8381cecc"
      },
      "execution_count": 56,
      "outputs": [
        {
          "output_type": "stream",
          "name": "stdout",
          "text": [
            "* * * * * * \n",
            "* * * * * * \n",
            "* * * * * * \n",
            "* * * * * * \n",
            "* * * * * * \n",
            "* * * * * * \n"
          ]
        }
      ]
    },
    {
      "cell_type": "code",
      "source": [
        "#Print a Right Triangle of Stars:\n",
        "\n",
        "size = 5\n",
        "\n",
        "for i in range(1, size + 1):\n",
        "    print('* ' * i)"
      ],
      "metadata": {
        "colab": {
          "base_uri": "https://localhost:8080/"
        },
        "id": "xjh4pIwzfjsw",
        "outputId": "72b1be27-69b4-4a91-e497-7f1df06b73f3"
      },
      "execution_count": 57,
      "outputs": [
        {
          "output_type": "stream",
          "name": "stdout",
          "text": [
            "* \n",
            "* * \n",
            "* * * \n",
            "* * * * \n",
            "* * * * * \n"
          ]
        }
      ]
    },
    {
      "cell_type": "code",
      "source": [
        "# Print an Inverted Right Triangle of Stars:\n",
        "\n",
        "size = 5\n",
        "\n",
        "for i in range(size, 0, -1):\n",
        "    print('* ' * i)"
      ],
      "metadata": {
        "colab": {
          "base_uri": "https://localhost:8080/"
        },
        "id": "cKnpahVBgc-o",
        "outputId": "c0440578-8a5c-43a7-8d07-fa2926e63e6b"
      },
      "execution_count": 58,
      "outputs": [
        {
          "output_type": "stream",
          "name": "stdout",
          "text": [
            "* * * * * \n",
            "* * * * \n",
            "* * * \n",
            "* * \n",
            "* \n"
          ]
        }
      ]
    },
    {
      "cell_type": "code",
      "source": [
        "# Print a Pyramid of Stars:\n",
        "\n",
        "size = 5\n",
        "\n",
        "for i in range(1, size + 1):\n",
        "    print(' ' * (size - i) + '* ' * i)"
      ],
      "metadata": {
        "colab": {
          "base_uri": "https://localhost:8080/"
        },
        "id": "1QwgTgoFgqm_",
        "outputId": "275d64ae-3acb-4e52-febf-81be64f4f842"
      },
      "execution_count": 59,
      "outputs": [
        {
          "output_type": "stream",
          "name": "stdout",
          "text": [
            "    * \n",
            "   * * \n",
            "  * * * \n",
            " * * * * \n",
            "* * * * * \n"
          ]
        }
      ]
    },
    {
      "cell_type": "code",
      "source": [
        "#Print a Diamond of Stars:\n",
        "\n",
        "size = 5\n",
        "\n",
        "for i in range(1, size + 1):\n",
        "    print(' ' * (size - i) + '* ' * i)\n",
        "\n",
        "for i in range(size - 1, 0, -1):\n",
        "    print(' ' * (size - i) + '* ' * i)"
      ],
      "metadata": {
        "colab": {
          "base_uri": "https://localhost:8080/"
        },
        "id": "vfzUz_zUhQkZ",
        "outputId": "9b34428e-a505-413f-ab7b-cb997c5fb064"
      },
      "execution_count": 60,
      "outputs": [
        {
          "output_type": "stream",
          "name": "stdout",
          "text": [
            "    * \n",
            "   * * \n",
            "  * * * \n",
            " * * * * \n",
            "* * * * * \n",
            " * * * * \n",
            "  * * * \n",
            "   * * \n",
            "    * \n"
          ]
        }
      ]
    },
    {
      "cell_type": "code",
      "source": [
        "#Print a Hollow Square of Stars:\n",
        "\n",
        "size = 5\n",
        "\n",
        "for i in range(size):\n",
        "    if i == 0 or i == size - 1:\n",
        "        print('* ' * size)\n",
        "    else:\n",
        "        print('* ' + '  ' * (size - 2) + '* ')"
      ],
      "metadata": {
        "colab": {
          "base_uri": "https://localhost:8080/"
        },
        "id": "N1IOwo3Ghb3M",
        "outputId": "45bd441f-e5af-4966-f3e9-2dab053c99be"
      },
      "execution_count": 61,
      "outputs": [
        {
          "output_type": "stream",
          "name": "stdout",
          "text": [
            "* * * * * \n",
            "*       * \n",
            "*       * \n",
            "*       * \n",
            "* * * * * \n"
          ]
        }
      ]
    },
    {
      "cell_type": "markdown",
      "source": [
        "# **OOP - Object-Oriented Programming**"
      ],
      "metadata": {
        "id": "yBlDdCkNp7Ls"
      }
    },
    {
      "cell_type": "markdown",
      "source": [
        "* Classes, abc, Objects, Inheritance, Polymorphism, Access Modifiers"
      ],
      "metadata": {
        "id": "SAcg5RPRp_38"
      }
    },
    {
      "cell_type": "markdown",
      "source": [
        "# **Class & Object**\n",
        "\n",
        "* Class : Properties of an Object\n",
        "* Object : Example of Class"
      ],
      "metadata": {
        "id": "2YhRIuo5gcWH"
      }
    },
    {
      "cell_type": "code",
      "source": [
        "class Car:\n",
        "  def __init__(self, make, model, year, color):\n",
        "    self.make = make\n",
        "    self.model = model\n",
        "    self.year = year\n",
        "    self.color = color\n",
        "    self.speed = 0\n",
        "\n",
        "car1 = Car(\"Tesla\", \"X\", 2022, \"White\")"
      ],
      "metadata": {
        "id": "R9tWk8IOqPm8"
      },
      "execution_count": 62,
      "outputs": []
    },
    {
      "cell_type": "markdown",
      "source": [
        "**Classes:** A class is a blueprint for creating objects. It defines a data structure that includes attributes (variables) and methods (functions). To create a class in Python, you use the **class** keyword."
      ],
      "metadata": {
        "id": "7TELO-kUrQiX"
      }
    },
    {
      "cell_type": "code",
      "source": [
        "class Car:\n",
        "    def __init__(self, make, model, year):     # Car class with three attributes (make, model, and year)\n",
        "        self.make = make\n",
        "        self.model = model\n",
        "        self.year = year\n",
        "\n",
        "    def display_info(self):                    # method (display_info)\n",
        "        print(f\"Year : {self.year}, Made On : {self.make}, Model : {self.model}\")"
      ],
      "metadata": {
        "id": "0qLDlKN8rJO8"
      },
      "execution_count": 1,
      "outputs": []
    },
    {
      "cell_type": "markdown",
      "source": [
        "**Objects:** An object is an instance of a class. You can create multiple objects from the same class, each with its own set of attributes and methods."
      ],
      "metadata": {
        "id": "IOlz40UxsFAV"
      }
    },
    {
      "cell_type": "code",
      "source": [
        "# Creating objects of the Car class\n",
        "car1 = Car(\"Toyota\", \"Camry\", 2022)\n",
        "car2 = Car(\"Honda\", \"Civic\", 2023)\n",
        "\n",
        "# Accessing attributes\n",
        "print(car1.make)\n",
        "print(car2.year)\n",
        "\n",
        "# Calling methods\n",
        "car1.display_info()\n",
        "car2.display_info()"
      ],
      "metadata": {
        "colab": {
          "base_uri": "https://localhost:8080/"
        },
        "id": "iFYCOcSksHUP",
        "outputId": "c76632cf-629b-441f-9376-b8818089b746"
      },
      "execution_count": 2,
      "outputs": [
        {
          "output_type": "stream",
          "name": "stdout",
          "text": [
            "Toyota\n",
            "2023\n",
            "Year : 2022, Made On : Toyota, Model : Camry\n",
            "Year : 2023, Made On : Honda, Model : Civic\n"
          ]
        }
      ]
    },
    {
      "cell_type": "markdown",
      "source": [
        "**Constructor (_ _ init _ _ method):** The _ _ init _ _ method is a special method in a class that is called when an object is created. It is used to initialize the attributes of the object."
      ],
      "metadata": {
        "id": "oEWcly2_ukDf"
      }
    },
    {
      "cell_type": "code",
      "source": [
        "def __init__(self, make, model, year):   #The self parameter is a reference to the instance of the class and is used to access its attributes and methods.\n",
        "    self.make = make\n",
        "    self.model = model\n",
        "    self.year = year"
      ],
      "metadata": {
        "id": "2uBjk6Y0uWEz"
      },
      "execution_count": 65,
      "outputs": []
    },
    {
      "cell_type": "markdown",
      "source": [
        "**Accessing Attributes and Calling Methods:** You can access the attributes of an object using dot notation (object.attribute). Similarly, you can call the methods of an object using dot notation (object.method())."
      ],
      "metadata": {
        "id": "zkpwcugOu6tg"
      }
    },
    {
      "cell_type": "code",
      "source": [
        "print(car1.make)      # Accessing attribute\n",
        "car2.display_info()   # Calling method"
      ],
      "metadata": {
        "colab": {
          "base_uri": "https://localhost:8080/"
        },
        "id": "xa2iXvnSvJNL",
        "outputId": "e3c99592-5478-4584-a2d4-81dc8de5c6dc"
      },
      "execution_count": 66,
      "outputs": [
        {
          "output_type": "stream",
          "name": "stdout",
          "text": [
            "Toyota\n",
            "2023 Honda Civic\n"
          ]
        }
      ]
    },
    {
      "cell_type": "markdown",
      "source": [
        "## **Instance Variables:**\n",
        "\n",
        "Instance variables are unique to each instance (object) of a class. They store data that is specific to an instance and can have different values for different instances. Instance variables are defined within the constructor (_ _ init_ _ method) of the class using the self keyword."
      ],
      "metadata": {
        "id": "WCq3yNF8v0KK"
      }
    },
    {
      "cell_type": "code",
      "source": [
        "class Student:\n",
        "    def __init__(self, name, age):\n",
        "        self.name = name       # Instance variable\n",
        "        self.age = age         # Instance variable\n",
        "\n",
        "student1 = Student(\"Nishat\", 20)\n",
        "student2 = Student(\"Tasnim\", 22)\n",
        "\n",
        "print(student1.name)\n",
        "print(student2.name)"
      ],
      "metadata": {
        "colab": {
          "base_uri": "https://localhost:8080/"
        },
        "id": "7KXLkyVcv9Qp",
        "outputId": "74ab9450-89b5-424c-c905-5cc59b0724ab"
      },
      "execution_count": 67,
      "outputs": [
        {
          "output_type": "stream",
          "name": "stdout",
          "text": [
            "Nishat\n",
            "Tasnim\n"
          ]
        }
      ]
    },
    {
      "cell_type": "markdown",
      "source": [
        "# **Class Variables:**\n",
        "\n",
        "Class variables are shared among all instances of a class. They are defined within the class but outside any methods. Class variables store data that is common to all instances of the class. Changes made to class variables affect all instances of the class."
      ],
      "metadata": {
        "id": "RyjBD3MxwhYt"
      }
    },
    {
      "cell_type": "code",
      "source": [
        "class BankAccount:\n",
        "    interest_rate = 0.03  # Class variable\n",
        "\n",
        "    def __init__(self, balance):\n",
        "        self.balance = balance  # Instance variable\n",
        "\n",
        "account1 = BankAccount(1000)\n",
        "account2 = BankAccount(1500)\n",
        "\n",
        "print(account1.interest_rate)  # Output: 0.03\n",
        "print(account2.interest_rate)  # Output: 0.03\n",
        "\n",
        "print(account1.balance)        # Output: 1000\n",
        "print(account2.balance)        # Output: 1500"
      ],
      "metadata": {
        "colab": {
          "base_uri": "https://localhost:8080/"
        },
        "id": "KFfB-1AMwp78",
        "outputId": "385dff4a-fd79-4876-82be-bc8f00b8a31c"
      },
      "execution_count": 68,
      "outputs": [
        {
          "output_type": "stream",
          "name": "stdout",
          "text": [
            "0.03\n",
            "0.03\n",
            "1000\n",
            "1500\n"
          ]
        }
      ]
    },
    {
      "cell_type": "markdown",
      "source": [
        "### **Practice : 1**"
      ],
      "metadata": {
        "id": "C3fK8t2ZyPcs"
      }
    },
    {
      "cell_type": "code",
      "source": [
        "# Creating a class\n",
        "class Student:\n",
        "    # Constructor\n",
        "    def __init__(self, nm=\"unknown\", id=\"0\"):\n",
        "        self.name = nm\n",
        "        self.Id = id\n",
        "        self.section = \"C\"\n",
        "\n",
        "    # Method to display student details\n",
        "    def display(self):\n",
        "        print(f'Name: {self.name}, ID: {self.Id}, Section: {self.section}')\n",
        "\n",
        "# Create the first Student object with custom name and ID\n",
        "st1 = Student(\"Tasnim\", \"0213\")\n",
        "print(st1.name)   # Outputs: Tasnim\n",
        "print(\"A new object has been created\")\n",
        "\n",
        "# Create the second Student object with default values\n",
        "st2 = Student()\n",
        "print(st2.Id)     # Outputs: 0 (default value)\n",
        "st2.Id = \"01231\"  # Change the ID\n",
        "print(st2.Id)     # Outputs: 01231\n",
        "st2.display()     # Outputs: Name: unknown, ID: 01231, Section: C\n",
        "\n",
        "# Create the third Student object with custom name and ID\n",
        "st3 = Student(\"Nishat\", \"32564\")\n",
        "st3.section = \"E\"  # Change the section\n",
        "st3.display()      # Outputs: Name: Nishat, ID: 32564, Section: E"
      ],
      "metadata": {
        "colab": {
          "base_uri": "https://localhost:8080/"
        },
        "id": "thLMCFGbxw0Z",
        "outputId": "1e673b54-5494-4297-84c4-e7bff53803aa"
      },
      "execution_count": 69,
      "outputs": [
        {
          "output_type": "stream",
          "name": "stdout",
          "text": [
            "Tasnim\n",
            "A new object has been created\n",
            "0\n",
            "01231\n",
            "Name: unknown, ID: 01231, Section: C\n",
            "Name: Nishat, ID: 32564, Section: E\n"
          ]
        }
      ]
    },
    {
      "cell_type": "markdown",
      "source": [
        "### **Practice : 2**"
      ],
      "metadata": {
        "id": "LqFPek7py2Pr"
      }
    },
    {
      "cell_type": "code",
      "source": [
        "class Bank:\n",
        "    def __init__(self, Accno, name, balance=500):\n",
        "        self.AccNo = Accno\n",
        "        self.name = name\n",
        "        self.balance = balance\n",
        "\n",
        "    def setBalance(self, newBalance):\n",
        "        self.balance = newBalance\n",
        "\n",
        "    def getBalance(self):\n",
        "        return self.balance\n",
        "\n",
        "    def deposit(self, amt):\n",
        "        self.balance += amt\n",
        "\n",
        "# Create a Bank object\n",
        "b = Bank('1234', 'BRAC')\n",
        "print(b.getBalance())         # Get initial balance\n",
        "b.deposit(100000)             # Deposit money\n",
        "print(b.getBalance())         # Get updated balance\n",
        "b.setBalance(1000000200)      # Update New Balance\n",
        "print(b.getBalance())         # Get updated balance"
      ],
      "metadata": {
        "colab": {
          "base_uri": "https://localhost:8080/"
        },
        "id": "dzHjTSqT0L7S",
        "outputId": "9a64eeb2-8d9d-45ee-8ab0-494b99b051c4"
      },
      "execution_count": 70,
      "outputs": [
        {
          "output_type": "stream",
          "name": "stdout",
          "text": [
            "500\n",
            "100500\n",
            "1000000200\n"
          ]
        }
      ]
    },
    {
      "cell_type": "code",
      "source": [
        "class Bank:\n",
        "    def __init__(self, Accno, name, balance=500):\n",
        "        self.AccNo = Accno\n",
        "        self.name = name\n",
        "        self.balance = balance\n",
        "\n",
        "    def setBalance(self, newBalance):\n",
        "        self.balance = newBalance\n",
        "\n",
        "    def getBalance(self):\n",
        "        return self.balance\n",
        "\n",
        "    def deposit(self, amt):\n",
        "        self.balance += amt\n",
        "\n",
        "# Create a Bank object\n",
        "b = Bank('1234', 'Islami Bank')\n",
        "\n",
        "# Get initial balance\n",
        "initial_balance = b.getBalance()\n",
        "print(\"Initial Balance:\", initial_balance)\n",
        "\n",
        "# Deposit money\n",
        "deposit_amount = 100000\n",
        "b.deposit(deposit_amount)\n",
        "print(\"Deposit Amount:\", deposit_amount)\n",
        "\n",
        "# Get updated balance\n",
        "updated_balance = b.getBalance()\n",
        "print(\"Updated Balance:\", updated_balance)\n",
        "\n",
        "# Update money\n",
        "update_amount = 10003000\n",
        "b.setBalance(update_amount)\n",
        "print(\"Update Amount:\", update_amount)\n",
        "\n",
        "# Get updated balance\n",
        "updated_balance = b.getBalance()\n",
        "print(\"Updated Balance:\", updated_balance)"
      ],
      "metadata": {
        "colab": {
          "base_uri": "https://localhost:8080/"
        },
        "id": "P3k-pyOVy602",
        "outputId": "f3f1ff01-cc0f-4b1f-fc8d-0d534dd3127e"
      },
      "execution_count": 74,
      "outputs": [
        {
          "output_type": "stream",
          "name": "stdout",
          "text": [
            "Initial Balance: 500\n",
            "Deposit Amount: 100000\n",
            "Updated Balance: 100500\n",
            "Update Amount: 10003000\n",
            "Updated Balance: 10003000\n"
          ]
        }
      ]
    },
    {
      "cell_type": "markdown",
      "source": [
        "### **Practice : 3**"
      ],
      "metadata": {
        "id": "TQDX9R5Fy3mT"
      }
    },
    {
      "cell_type": "code",
      "source": [
        "class Calculator:\n",
        "    def multiply(self, x=1, y=1, z=1):\n",
        "        m = x * y * z\n",
        "        print(m)\n",
        "\n",
        "c = Calculator()\n",
        "c.multiply(2, 3)\n",
        "c.multiply(2, 3, 4)"
      ],
      "metadata": {
        "colab": {
          "base_uri": "https://localhost:8080/"
        },
        "id": "u2FYDQeRy7Ze",
        "outputId": "544b41e7-f3d8-414f-cb68-275badde5e0e"
      },
      "execution_count": 75,
      "outputs": [
        {
          "output_type": "stream",
          "name": "stdout",
          "text": [
            "6\n",
            "24\n"
          ]
        }
      ]
    },
    {
      "cell_type": "markdown",
      "source": [
        "### **Practice : 4**"
      ],
      "metadata": {
        "id": "tUhz8sX-y46X"
      }
    },
    {
      "cell_type": "code",
      "source": [
        "class Addition:\n",
        "    def addition(self, *c):\n",
        "        total_sum = 0\n",
        "        for i in c:\n",
        "            total_sum += i\n",
        "        print(total_sum)\n",
        "\n",
        "a = Addition()\n",
        "a.addition(2)\n",
        "a.addition(2, 3)\n",
        "a.addition(2, 3, 4, 56, 7, 1, 0)"
      ],
      "metadata": {
        "colab": {
          "base_uri": "https://localhost:8080/"
        },
        "id": "RXj-5Oyq3KKw",
        "outputId": "f42f0c87-59b7-4203-b5a5-b381c81f1806"
      },
      "execution_count": 77,
      "outputs": [
        {
          "output_type": "stream",
          "name": "stdout",
          "text": [
            "2\n",
            "5\n",
            "73\n"
          ]
        }
      ]
    },
    {
      "cell_type": "code",
      "source": [
        "class Addition:\n",
        "    def addition(self, *c):\n",
        "        total = sum(c)\n",
        "        print(total)\n",
        "\n",
        "a = Addition()\n",
        "a.addition(2)\n",
        "a.addition(2, 3)\n",
        "a.addition(2, 3, 4, 56, 7, 1, 0)"
      ],
      "metadata": {
        "colab": {
          "base_uri": "https://localhost:8080/"
        },
        "id": "RcrzSD6oy8Af",
        "outputId": "4e74f767-68e3-427e-9ba7-f8e4888de4a1"
      },
      "execution_count": 76,
      "outputs": [
        {
          "output_type": "stream",
          "name": "stdout",
          "text": [
            "2\n",
            "5\n",
            "73\n"
          ]
        }
      ]
    },
    {
      "cell_type": "markdown",
      "source": [
        "# **Inheritance :**\n",
        "\n",
        "Inheritance is a fundamental concept in object-oriented programming (OOP), and it allows a new class (child) to inherit attributes and methods from an existing class (parent). Let's create an example with an Animal class as the parent class and a specific type of animal, like a Dog, as the child class."
      ],
      "metadata": {
        "id": "Cb6RCtlv3j9a"
      }
    },
    {
      "cell_type": "code",
      "source": [
        "class Animal:\n",
        "    def __init__(self, name, species):\n",
        "        self.name = name\n",
        "        self.species = species\n",
        "\n",
        "    def make_sound(self):\n",
        "        print(\"Generic Animal Sound :\")\n",
        "\n",
        "    def show_info(self):\n",
        "        print(f\"Name: {self.name}, Species: {self.species}\")\n",
        "\n",
        "\n",
        "class Dog(Animal):\n",
        "    def __init__(self, name, breed):\n",
        "        # Using super() to call the constructor of the parent class\n",
        "        super().__init__(name, species=\"Dog\")\n",
        "        self.breed = breed\n",
        "\n",
        "    def make_sound(self):\n",
        "        # Accessing the parent class method using super()\n",
        "        super().make_sound()\n",
        "        print(\"Woof!\")\n",
        "\n",
        "    def show_info(self):\n",
        "        # Modifying the parent class method using super()\n",
        "        super().show_info()\n",
        "        print(f\"Breed: {self.breed}\")\n",
        "\n",
        "\n",
        "# Creating instances of the classes\n",
        "generic_animal = Animal(name=\"Generic Animal\", species=\"Unknown\")\n",
        "my_dog = Dog(name=\"Buddy\", breed=\"Golden Retriever\")\n",
        "\n",
        "# Using methods of the parent class\n",
        "generic_animal.show_info()\n",
        "\n",
        "# Using methods of the child class\n",
        "my_dog.show_info()\n",
        "\n",
        "# Overriding the parent class method in the child class\n",
        "my_dog.make_sound()"
      ],
      "metadata": {
        "colab": {
          "base_uri": "https://localhost:8080/"
        },
        "id": "3OyAff-vywca",
        "outputId": "ea7e7ccc-c9ac-4c66-8bdc-0589d534a603"
      },
      "execution_count": 79,
      "outputs": [
        {
          "output_type": "stream",
          "name": "stdout",
          "text": [
            "Name: Generic Animal, Species: Unknown\n",
            "Name: Buddy, Species: Dog\n",
            "Breed: Golden Retriever\n",
            "Generic Animal Sound :\n",
            "Woof!\n"
          ]
        }
      ]
    },
    {
      "cell_type": "markdown",
      "source": [
        "### **Single Inheritance :**"
      ],
      "metadata": {
        "id": "ybQNwdsS6nSs"
      }
    },
    {
      "cell_type": "code",
      "source": [
        "# Parent class\n",
        "class Animal:\n",
        "    def __init__(self, name):\n",
        "        self.name = name\n",
        "        print(f'{self.name}')\n",
        "\n",
        "    def display(self):\n",
        "        print(\"This is a method from Animal class\")\n",
        "\n",
        "\n",
        "# Child class\n",
        "class Dog(Animal):\n",
        "    def __init__(self, name, legs):\n",
        "        super().__init__(name)\n",
        "        self.legs = legs\n",
        "        print(\"This is from Dog class\")\n",
        "\n",
        "    def bark(self):\n",
        "        print(\"The dog is barking\")\n",
        "\n",
        "\n",
        "a1 = Animal('Animal')\n",
        "d1 = Dog(\"Dog\", 4)\n",
        "d1.display()\n",
        "a1.display()\n",
        "d1.bark()"
      ],
      "metadata": {
        "colab": {
          "base_uri": "https://localhost:8080/"
        },
        "id": "ZZexsCos6mdI",
        "outputId": "5308128a-f0fb-4b44-aaac-e6eab43616e5"
      },
      "execution_count": 5,
      "outputs": [
        {
          "output_type": "stream",
          "name": "stdout",
          "text": [
            "Animal\n",
            "Dog\n",
            "This is from Dog class\n",
            "This is a method from Animal class\n",
            "This is a method from Animal class\n",
            "The dog is barking\n"
          ]
        }
      ]
    },
    {
      "cell_type": "markdown",
      "source": [
        "### **Hierarchical Inheritance :**"
      ],
      "metadata": {
        "id": "Euo8Q3aI7v1N"
      }
    },
    {
      "cell_type": "code",
      "source": [
        "# Parent class\n",
        "class Human:\n",
        "    def __init__(self):\n",
        "        print(\"Constructor from Human class\")\n",
        "\n",
        "    def move(self):\n",
        "        print(\"All humans can move\")\n",
        "\n",
        "\n",
        "# Child class\n",
        "class Student(Human):\n",
        "    def __init__(self):\n",
        "        super().__init__()\n",
        "        print(\"This is from Student class\")\n",
        "\n",
        "    def study(self):\n",
        "        print(\"Midterms are coming\")\n",
        "\n",
        "\n",
        "# Child class\n",
        "class Teacher(Human):\n",
        "    def noSleep(self):\n",
        "        print(\"No sleep at all\")\n",
        "\n",
        "\n",
        "# Create instances\n",
        "s1 = Student()\n",
        "t1 = Teacher()"
      ],
      "metadata": {
        "colab": {
          "base_uri": "https://localhost:8080/"
        },
        "id": "_D6Nx9V17p_t",
        "outputId": "4c83c983-66f5-4856-9a31-c576562285e5"
      },
      "execution_count": 81,
      "outputs": [
        {
          "output_type": "stream",
          "name": "stdout",
          "text": [
            "Constructor from Human class\n",
            "This is from Student class\n",
            "Constructor from Human class\n"
          ]
        }
      ]
    },
    {
      "cell_type": "markdown",
      "source": [
        "### **Multilevel Inheritance :**"
      ],
      "metadata": {
        "id": "R16L-IQv9Bf7"
      }
    },
    {
      "cell_type": "code",
      "source": [
        "# Grandparent class\n",
        "class Animal:\n",
        "    def __init__(self, legs):\n",
        "        self.legs = legs\n",
        "        print(\"This is from Animal\")\n",
        "\n",
        "    def method(self):\n",
        "        print(\"This is a method from Animal class\")\n",
        "\n",
        "# Parent class inheriting from Animal\n",
        "class Cat(Animal):\n",
        "    def __init__(self, legs, hastail):\n",
        "        super().__init__(legs)\n",
        "        self.hastail = hastail\n",
        "        print('This is from Cat class')\n",
        "\n",
        "    def catMethod(self):\n",
        "        print(\"This method is from Cat class\")\n",
        "\n",
        "# Child class inheriting from Cat\n",
        "class PersianCat(Cat):\n",
        "    def __init__(self, legs, hastail, hasfur):\n",
        "        super().__init__(legs, hastail)\n",
        "        self.hasfur = hasfur\n",
        "\n",
        "    def fur(self):\n",
        "        print(\"This type of cat has soft fur\")\n",
        "\n",
        "\n",
        "pc = PersianCat(4, 'HasTailFalse', 'True')\n",
        "pc.method()\n",
        "pc.catMethod()\n",
        "pc.fur()"
      ],
      "metadata": {
        "colab": {
          "base_uri": "https://localhost:8080/"
        },
        "id": "ZGn0mG-77qFG",
        "outputId": "41595b47-09af-4f4d-e722-3665d709e550"
      },
      "execution_count": 82,
      "outputs": [
        {
          "output_type": "stream",
          "name": "stdout",
          "text": [
            "This is from Animal\n",
            "This is from Cat class\n",
            "This is a method from Animal class\n",
            "This method is from Cat class\n",
            "This type of cat has soft fur\n"
          ]
        }
      ]
    },
    {
      "cell_type": "code",
      "source": [
        "# Grandparent class\n",
        "class Animal:\n",
        "    def __init__(self, name):\n",
        "        self.name = name\n",
        "\n",
        "    def speak(self):\n",
        "        raise NotImplementedError(\"Subclasses must implement this method\")\n",
        "\n",
        "# Parent class inheriting from Animal\n",
        "class Mammal(Animal):\n",
        "    def give_birth(self):\n",
        "        return f\"{self.name} is giving birth to live young.\"\n",
        "\n",
        "# Child class inheriting from Mammal\n",
        "class Dog(Mammal):\n",
        "    def speak(self):\n",
        "        return f\"{self.name} says Woof!\"\n",
        "\n",
        "# Grandchild class inheriting from Dog\n",
        "class Poodle(Dog):\n",
        "    def fetch(self):\n",
        "        return f\"{self.name} is fetching the ball.\"\n",
        "\n",
        "# Creating instances of the classes\n",
        "my_dog = Poodle(name=\"Buddy\")\n",
        "\n",
        "# Accessing methods from all levels of inheritance\n",
        "print(my_dog.speak())          # Output: Buddy says Woof!\n",
        "print(my_dog.give_birth())     # Output: Buddy is giving birth to live young.\n",
        "print(my_dog.fetch())          # Output: Buddy is fetching the ball."
      ],
      "metadata": {
        "colab": {
          "base_uri": "https://localhost:8080/"
        },
        "id": "YP8_Xoeb9hT2",
        "outputId": "bfeba13d-6a91-4b7a-f941-ad2549601f80"
      },
      "execution_count": 83,
      "outputs": [
        {
          "output_type": "stream",
          "name": "stdout",
          "text": [
            "Buddy says Woof!\n",
            "Buddy is giving birth to live young.\n",
            "Buddy is fetching the ball.\n"
          ]
        }
      ]
    },
    {
      "cell_type": "markdown",
      "source": [
        "## **Multiple Inheritance :**"
      ],
      "metadata": {
        "id": "_P4-W0Sn-FxA"
      }
    },
    {
      "cell_type": "code",
      "source": [
        "# Father\n",
        "class A:\n",
        "    def __init__(self):\n",
        "        print('From class A')\n",
        "\n",
        "    def method1(self):\n",
        "        print('Method 1 from class A')\n",
        "\n",
        "# Mother\n",
        "class B:\n",
        "    def __init__(self):\n",
        "        print('From class B')\n",
        "\n",
        "    def method2(self):\n",
        "        print('Method 2 from class B')\n",
        "\n",
        "# Child Class Inherits Both Father Mother Class\n",
        "class C(A, B):\n",
        "    def __init__(self):\n",
        "        super().__init__()\n",
        "        B.__init__(self)\n",
        "        print('From class C')\n",
        "\n",
        "    def method3(self):\n",
        "        print('Method 3 from class C')\n",
        "\n",
        "c1 = C()\n",
        "c1.method1()  # Call method1 from class A using an instance of class C\n"
      ],
      "metadata": {
        "colab": {
          "base_uri": "https://localhost:8080/"
        },
        "id": "jBJCp57u-NqO",
        "outputId": "22a356dc-f210-4f16-c22b-5db33939d87e"
      },
      "execution_count": 84,
      "outputs": [
        {
          "output_type": "stream",
          "name": "stdout",
          "text": [
            "From class A\n",
            "From class B\n",
            "From class C\n",
            "Method 1 from class A\n"
          ]
        }
      ]
    },
    {
      "cell_type": "markdown",
      "source": [
        "# **Abstract :**"
      ],
      "metadata": {
        "id": "NJjnzllf_VxN"
      }
    },
    {
      "cell_type": "markdown",
      "source": [
        "## **ABC**\n",
        "\n",
        "In Python, there is no explicit **interface** keyword as in some other programming languages like Java or C#. However, Python supports a form of interface through **abstract base classes (ABCs)** provided by the **abc** module. Abstract base classes allow you to define a common interface that subclasses must implement. While not strictly enforcing the interface, they serve as a guide for implementing certain methods."
      ],
      "metadata": {
        "id": "bvF7gUxZ_p6N"
      }
    },
    {
      "cell_type": "code",
      "source": [
        "# Import the ABC class from the abc module\n",
        "\n",
        "from abc import ABC, abstractmethod\n",
        "\n",
        "# Create an abstract base class by inheriting from ABC\n",
        "class MyInterface(ABC):\n",
        "    @abstractmethod\n",
        "    def method1(self):\n",
        "        pass\n",
        "\n",
        "    @abstractmethod\n",
        "    def method2(self, param):\n",
        "        pass\n",
        "\n",
        "# Create a concrete class that implements the interface\n",
        "class MyClass(MyInterface):\n",
        "    def method1(self):\n",
        "        print(\"Implementation of method1\")\n",
        "\n",
        "    def method2(self, param):\n",
        "        print(f\"Implementation of method2 with parameter: {param}\")\n",
        "\n",
        "# Instantiate and use the concrete class\n",
        "obj = MyClass()\n",
        "obj.method1()\n",
        "obj.method2(\"Hello\")"
      ],
      "metadata": {
        "colab": {
          "base_uri": "https://localhost:8080/"
        },
        "id": "kTyjwXVZ_fam",
        "outputId": "27e9c81a-b992-4531-f191-68f37dc415b7"
      },
      "execution_count": 85,
      "outputs": [
        {
          "output_type": "stream",
          "name": "stdout",
          "text": [
            "Implementation of method1\n",
            "Implementation of method2 with parameter: Hello\n"
          ]
        }
      ]
    },
    {
      "cell_type": "markdown",
      "source": [
        "By using abstract base classes and the **abstractmethod** decorator, you create a clear contract that any class inheriting from *MyInterface* must implement the specified methods. Using abstract base classes is a powerful way to achieve a form of interface in Python."
      ],
      "metadata": {
        "id": "fveqgBJ8Ay8D"
      }
    },
    {
      "cell_type": "code",
      "source": [
        "#Practice 1\n",
        "\n",
        "from abc import ABC, abstractmethod\n",
        "\n",
        "# Abstract class declaration\n",
        "class A(ABC):\n",
        "    @abstractmethod\n",
        "    def method1(self):\n",
        "        pass\n",
        "\n",
        "    def con_method(self):\n",
        "        print('Concrete method')\n",
        "\n",
        "# Concrete class implementing abstract method\n",
        "class B(A):\n",
        "    def method1(self):\n",
        "        print('Method 1')\n",
        "\n",
        "    def method2(self):\n",
        "        print('Method 2')\n",
        "\n",
        "# Subclass of B\n",
        "class C(B):\n",
        "    def method3(self):\n",
        "        print('Method 3')\n",
        "\n",
        "# Create an instance of class C\n",
        "c = C()\n",
        "c.method1()\n",
        "c.method2()\n",
        "c.method3()"
      ],
      "metadata": {
        "colab": {
          "base_uri": "https://localhost:8080/"
        },
        "id": "ZvYXLgO-_VWX",
        "outputId": "266f5d6d-802a-4d67-ed61-920836ce2d45"
      },
      "execution_count": 86,
      "outputs": [
        {
          "output_type": "stream",
          "name": "stdout",
          "text": [
            "Method 1\n",
            "Method 2\n",
            "Method 3\n"
          ]
        }
      ]
    },
    {
      "cell_type": "code",
      "source": [
        "# Practice 2\n",
        "\n",
        "from abc import ABC, abstractmethod\n",
        "\n",
        "\n",
        "class Polygon(ABC):\n",
        "    @abstractmethod\n",
        "    def noofsides(self):\n",
        "        pass\n",
        "\n",
        "\n",
        "class Triangle(Polygon):\n",
        "    # overriding abstract method\n",
        "    def noofsides(self):\n",
        "        print(\"I have 3 sides\")\n",
        "\n",
        "\n",
        "class Pentagon(Polygon):\n",
        "    # overriding abstract method\n",
        "    def noofsides(self):\n",
        "        print(\"I have 5 sides\")\n",
        "\n",
        "\n",
        "class Hexagon(Polygon):\n",
        "    # overriding abstract method\n",
        "    def noofsides(self):\n",
        "        print(\"I have 6 sides\")\n",
        "\n",
        "\n",
        "class Quadrilateral(Polygon):\n",
        "    # overriding abstract method\n",
        "    def noofsides(self):\n",
        "        print(\"I have 4 sides\")\n",
        "\n",
        "\n",
        "# Driver code\n",
        "R = Triangle()\n",
        "R.noofsides()\n",
        "\n",
        "K = Quadrilateral()\n",
        "K.noofsides()\n",
        "\n",
        "R = Pentagon()\n",
        "R.noofsides()\n",
        "\n",
        "K = Hexagon()\n",
        "K.noofsides()"
      ],
      "metadata": {
        "colab": {
          "base_uri": "https://localhost:8080/"
        },
        "id": "vk3e7z8fB_7T",
        "outputId": "8ffd4ff1-0347-47da-f5ae-92acfc0255a5"
      },
      "execution_count": 87,
      "outputs": [
        {
          "output_type": "stream",
          "name": "stdout",
          "text": [
            "I have 3 sides\n",
            "I have 4 sides\n",
            "I have 5 sides\n",
            "I have 6 sides\n"
          ]
        }
      ]
    },
    {
      "cell_type": "code",
      "source": [
        "# Practice 3\n",
        "\n",
        "from abc import ABC, abstractmethod\n",
        "\n",
        "class Animal(ABC):\n",
        "    def move(self):\n",
        "        pass\n",
        "\n",
        "class Human(Animal):\n",
        "    def move(self):\n",
        "        print(\"I can walk and run\")\n",
        "\n",
        "class Snake(Animal):\n",
        "    def move(self):\n",
        "        print(\"I can crawl\")\n",
        "\n",
        "class Dog(Animal):\n",
        "    def move(self):\n",
        "        print(\"I can bark\")\n",
        "\n",
        "class Lion(Animal):\n",
        "    def move(self):\n",
        "        print(\"I can roar\")\n",
        "\n",
        "# Driver code\n",
        "R = Human()\n",
        "R.move()\n",
        "\n",
        "K = Snake()\n",
        "K.move()\n",
        "\n",
        "R = Dog()\n",
        "R.move()\n",
        "\n",
        "K = Lion()\n",
        "K.move()"
      ],
      "metadata": {
        "colab": {
          "base_uri": "https://localhost:8080/"
        },
        "id": "tJ4wXqVLCaYs",
        "outputId": "d74ed616-373d-4fdc-96ef-c4879103ee62"
      },
      "execution_count": 88,
      "outputs": [
        {
          "output_type": "stream",
          "name": "stdout",
          "text": [
            "I can walk and run\n",
            "I can crawl\n",
            "I can bark\n",
            "I can roar\n"
          ]
        }
      ]
    },
    {
      "cell_type": "code",
      "source": [
        "# implementation of abstract\n",
        "# class through subclassing\n",
        "import abc\n",
        "\n",
        "class parent:\n",
        "    def nishat(self):\n",
        "        pass\n",
        "\n",
        "class child(parent):\n",
        "    def nishat(self):\n",
        "        print(\"child class\")\n",
        "\n",
        "# Driver code\n",
        "print(issubclass(child, parent))\n",
        "print(isinstance(child(), parent))"
      ],
      "metadata": {
        "colab": {
          "base_uri": "https://localhost:8080/"
        },
        "id": "INOB41jrCn8u",
        "outputId": "3fb37896-2c6e-480b-b7e8-510e9b0dbd9f"
      },
      "execution_count": 89,
      "outputs": [
        {
          "output_type": "stream",
          "name": "stdout",
          "text": [
            "True\n",
            "True\n"
          ]
        }
      ]
    },
    {
      "cell_type": "code",
      "source": [
        "# Python program invoking a\n",
        "# method using super()\n",
        "from abc import ABC\n",
        "\n",
        "class R(ABC):\n",
        "    def rk(self):\n",
        "        print(\"Abstract Base Class\")\n",
        "\n",
        "class K(R):\n",
        "    def rk(self):\n",
        "        super().rk()\n",
        "        print(\"subclass \")\n",
        "\n",
        "# Driver code\n",
        "r = K()\n",
        "r.rk()"
      ],
      "metadata": {
        "colab": {
          "base_uri": "https://localhost:8080/"
        },
        "id": "q0o2ZBptDT8e",
        "outputId": "213dc887-1886-4973-a6a7-93338ede65ba"
      },
      "execution_count": 90,
      "outputs": [
        {
          "output_type": "stream",
          "name": "stdout",
          "text": [
            "Abstract Base Class\n",
            "subclass \n"
          ]
        }
      ]
    },
    {
      "cell_type": "markdown",
      "source": [
        "# **Polymorphism :**\n",
        "Polymorphism is a fundamental concept in object-oriented programming (OOP) that allows objects of different classes to be treated as objects of a common base class. It enables a single interface to be used for a general set of actions, providing flexibility and code reuse."
      ],
      "metadata": {
        "id": "GhBgb2GCDY2N"
      }
    },
    {
      "cell_type": "markdown",
      "source": [
        "## **1. Method Overriding:**\n",
        "Method overriding is a form of polymorphism where a subclass provides a specific implementation of a method that is already defined in its superclass. This allows objects of different classes to be treated interchangeably."
      ],
      "metadata": {
        "id": "X18T_4FzHNch"
      }
    },
    {
      "cell_type": "code",
      "source": [
        "class Animal:\n",
        "    def speak(self):\n",
        "        return \"Animal speaks\"\n",
        "\n",
        "class Dog(Animal):\n",
        "    def speak(self):\n",
        "        return \"Dog barks\"\n",
        "\n",
        "class Cat(Animal):\n",
        "    def speak(self):\n",
        "        return \"Cat meows\"\n",
        "\n",
        "# Using polymorphism\n",
        "def animal_sound(animal):\n",
        "    return animal.speak()\n",
        "\n",
        "# Creating instances of different classes\n",
        "animal = Animal()\n",
        "dog = Dog()\n",
        "cat = Cat()\n",
        "\n",
        "# Calling the method with different objects\n",
        "print(animal_sound(animal))\n",
        "print(animal_sound(dog))\n",
        "print(animal_sound(cat))"
      ],
      "metadata": {
        "colab": {
          "base_uri": "https://localhost:8080/"
        },
        "id": "i-HIZZrqHQJR",
        "outputId": "e3173e43-4fe0-4370-9578-f801a0902c69"
      },
      "execution_count": 91,
      "outputs": [
        {
          "output_type": "stream",
          "name": "stdout",
          "text": [
            "Animal speaks\n",
            "Dog barks\n",
            "Cat meows\n"
          ]
        }
      ]
    },
    {
      "cell_type": "markdown",
      "source": [
        "## **2. Duck Typing :**\n",
        "Duck typing is another form of polymorphism in Python, based on the principle \"If it looks like a duck, swims like a duck, and quacks like a duck, then it probably is a duck.\" In other words, the type or class of an object is determined by its behavior, not by its explicit type."
      ],
      "metadata": {
        "id": "J7SubasvIYxT"
      }
    },
    {
      "cell_type": "code",
      "source": [
        "class Duck:\n",
        "    def quack(self):\n",
        "        return \"Duck quacks\"\n",
        "\n",
        "class Person:\n",
        "    def quack(self):\n",
        "        return \"Person imitates a duck\"\n",
        "\n",
        "# Using duck typing\n",
        "def duck_sound(entity):\n",
        "    return entity.quack()\n",
        "\n",
        "# Creating instances of different classes\n",
        "duck = Duck()\n",
        "person = Person()\n",
        "\n",
        "# Calling the method with different objects\n",
        "print(duck_sound(duck))\n",
        "print(duck_sound(person))"
      ],
      "metadata": {
        "colab": {
          "base_uri": "https://localhost:8080/"
        },
        "id": "8yXpmzOhIpBh",
        "outputId": "30562e2f-8168-4f36-b54d-84d75fd38e5a"
      },
      "execution_count": 92,
      "outputs": [
        {
          "output_type": "stream",
          "name": "stdout",
          "text": [
            "Duck quacks\n",
            "Person imitates a duck\n"
          ]
        }
      ]
    },
    {
      "cell_type": "markdown",
      "source": [
        "### **Example using Default Parameter Values:**"
      ],
      "metadata": {
        "id": "rEY5s9o_Jid6"
      }
    },
    {
      "cell_type": "code",
      "source": [
        "class Example:\n",
        "    def add(self, x, y=0):\n",
        "        return x + y\n",
        "\n",
        "# Creating an instance of the class\n",
        "obj = Example()\n",
        "\n",
        "# Calling the method with different argument counts\n",
        "print(obj.add(2, 3))\n",
        "print(obj.add(2))"
      ],
      "metadata": {
        "colab": {
          "base_uri": "https://localhost:8080/"
        },
        "id": "sY3egF6-JkWN",
        "outputId": "490426aa-c491-4de6-d231-bfdde8f4d0f4"
      },
      "execution_count": 93,
      "outputs": [
        {
          "output_type": "stream",
          "name": "stdout",
          "text": [
            "5\n",
            "2\n"
          ]
        }
      ]
    },
    {
      "cell_type": "markdown",
      "source": [
        "### **Example using** *args :"
      ],
      "metadata": {
        "id": "l_PyQmAHJ39W"
      }
    },
    {
      "cell_type": "code",
      "source": [
        "class Example:\n",
        "    def add(self, *args):                 # *args to accept any number of arguments\n",
        "        return sum(args)\n",
        "\n",
        "# Creating an instance of the class\n",
        "obj = Example()\n",
        "\n",
        "# Calling the method with different numbers of arguments\n",
        "print(obj.add(2, 3, 5))\n",
        "print(obj.add(1, 2, 3, 4, 5))"
      ],
      "metadata": {
        "colab": {
          "base_uri": "https://localhost:8080/"
        },
        "id": "QDCNHFimDmny",
        "outputId": "5120b09c-eae1-4eb9-f480-d4dcbddf9ae7"
      },
      "execution_count": 95,
      "outputs": [
        {
          "output_type": "stream",
          "name": "stdout",
          "text": [
            "10\n",
            "15\n"
          ]
        }
      ]
    },
    {
      "cell_type": "markdown",
      "source": [
        "# **Access Modifier :**\n",
        "\n",
        "In Python, there are no strict access modifiers like private, protected, or public as in some other object-oriented programming languages. However, Python uses a convention to indicate the visibility of attributes and methods. The convention is based on the name of the attribute or method:"
      ],
      "metadata": {
        "id": "PEtaPaLDKfgX"
      }
    },
    {
      "cell_type": "markdown",
      "source": [
        "1. **Public:** By default, all attributes and methods are public. This means they can be accessed from outside the class."
      ],
      "metadata": {
        "id": "M6gsG4agKzB-"
      }
    },
    {
      "cell_type": "code",
      "source": [
        "class MyClass:\n",
        "     def __init__(self):\n",
        "         self.public_variable = 42\n",
        "\n",
        "     def public_method(self):\n",
        "         return \"This is a public method\""
      ],
      "metadata": {
        "id": "gpfUehcsK03x"
      },
      "execution_count": 96,
      "outputs": []
    },
    {
      "cell_type": "markdown",
      "source": [
        "**2. Protected:** Conventionally, attributes and methods intended to be protected are prefixed with a single underscore _. This signals to other developers that the attribute or method should not be accessed from outside the class, but it does not prevent it."
      ],
      "metadata": {
        "id": "jEI2OzNiLD31"
      }
    },
    {
      "cell_type": "code",
      "source": [
        "class MyClass:\n",
        "     def __init__(self):\n",
        "         self._protected_variable = 42\n",
        "\n",
        "     def _protected_method(self):\n",
        "         return \"This is a protected method\""
      ],
      "metadata": {
        "id": "zqHpqfBJLMsj"
      },
      "execution_count": 97,
      "outputs": []
    },
    {
      "cell_type": "markdown",
      "source": [
        "**3. Private:** Conventionally, attributes and methods intended to be private are prefixed with double underscores __. This signals that the attribute or method should not be accessed directly from outside the class."
      ],
      "metadata": {
        "id": "PYmTzeVxLZKb"
      }
    },
    {
      "cell_type": "code",
      "source": [
        "class MyClass:\n",
        "     def __init__(self):\n",
        "         self.__private_variable = 42\n",
        "\n",
        "     def __private_method(self):\n",
        "         return \"This is a private method\""
      ],
      "metadata": {
        "id": "19M05c_5LgKi"
      },
      "execution_count": 98,
      "outputs": []
    },
    {
      "cell_type": "markdown",
      "source": [
        "**Example :**\n",
        "\n",
        "Let's create a class with public, protected, and private variables, and demonstrate how they can be accessed or restricted outside the class:"
      ],
      "metadata": {
        "id": "HoPqpjuvL104"
      }
    },
    {
      "cell_type": "code",
      "source": [
        "class ExampleClass:\n",
        "    def __init__(self):\n",
        "        # Public variable\n",
        "        self.public_variable = \"I am public\"\n",
        "\n",
        "        # Protected variable (convention with a single leading underscore)\n",
        "        self._protected_variable = \"I am protected\"\n",
        "\n",
        "        # Private variable (convention with a double leading underscore)\n",
        "        self.__private_variable = \"I am private\"\n",
        "\n",
        "    def get_public_variable(self):\n",
        "        return self.public_variable\n",
        "\n",
        "    def get_protected_variable(self):\n",
        "        return self._protected_variable\n",
        "\n",
        "    def get_private_variable(self):\n",
        "        return self.__private_variable\n",
        "\n",
        "\n",
        "# Outside the class\n",
        "obj = ExampleClass()\n",
        "\n",
        "# Accessing public variable\n",
        "print(obj.get_public_variable())     # Accessing using a public method\n",
        "print(obj.public_variable)           # Accessing directly is allowed\n",
        "\n",
        "# Accessing protected variable\n",
        "print(obj.get_protected_variable())  # Accessing using a public method\n",
        "# Accessing directly is allowed but not recommended\n",
        "print(obj._protected_variable)\n",
        "\n",
        "# Attempting to access private variable directly would result in an AttributeError\n",
        "# Uncommenting the following line will result in an AttributeError\n",
        "\n",
        "# print(obj.__private_variable)\n",
        "\n",
        "# Accessing private variable using a public method\n",
        "print(obj.get_private_variable())\n",
        "\n",
        "# Accessing private variable directly (ignoring the convention), This will work, but it's not recommended\n",
        "print(obj._ExampleClass__private_variable)  # _ClassName__private_variable"
      ],
      "metadata": {
        "colab": {
          "base_uri": "https://localhost:8080/"
        },
        "id": "Z0mXRXWIL8kF",
        "outputId": "3230839d-f429-49a0-9504-bbc59311dc77"
      },
      "execution_count": 100,
      "outputs": [
        {
          "output_type": "stream",
          "name": "stdout",
          "text": [
            "I am public\n",
            "I am public\n",
            "I am protected\n",
            "I am protected\n",
            "I am private\n",
            "I am private\n"
          ]
        }
      ]
    },
    {
      "cell_type": "markdown",
      "source": [
        "# **HTML BASICS :**"
      ],
      "metadata": {
        "id": "pZZU37luNdK4"
      }
    },
    {
      "cell_type": "markdown",
      "source": [
        "# Tags\n",
        "Here's a comprehensive list of HTML tags along with their descriptions:\n",
        "\n",
        "1. **`<!DOCTYPE html>`**: Defines the document type and version of HTML being used (HTML5).\n",
        "\n",
        "2. **`<html>`**: Wraps the entire HTML content of the webpage.\n",
        "\n",
        "3. **`<head>`**: Contains meta-information about the document such as its title, character encoding, stylesheets, scripts, etc.\n",
        "\n",
        "4. **`<title>`**: Sets the title of the webpage which appears on the browser tab.\n",
        "\n",
        "5. **`<body>`**: Contains the main content of the webpage.\n",
        "\n",
        "6. **Text Formatting Tags:**\n",
        "   - `<h1>` to `<h6>`: Headings of different levels.\n",
        "   - `<p>`: Paragraph.\n",
        "   - `<br>`: Line break.\n",
        "   - `<hr>`: Horizontal rule (divider).\n",
        "\n",
        "7. **Links and Anchors:**\n",
        "   - `<a>`: Anchor tag for creating hyperlinks.\n",
        "     - `href`: Specifies the URL.\n",
        "     - `target`: Specifies where to open the linked document (e.g., `_blank` for opening in a new tab).\n",
        "   \n",
        "8. **Images:**\n",
        "   - `<img>`: Embeds images.\n",
        "     - `src`: Specifies the image file path.\n",
        "     - `alt`: Specifies an alternative text for the image (useful for accessibility and SEO).\n",
        "\n",
        "9. **Lists:**\n",
        "   - `<ul>`: Unordered list (bullets).\n",
        "   - `<ol>`: Ordered list (numbers).\n",
        "   - `<li>`: List item.\n",
        "\n",
        "10. **Tables:**\n",
        "    - `<table>`: Creates a table.\n",
        "    - `<tr>`: Table row.\n",
        "    - `<td>`: Table cell (data).\n",
        "    - `<th>`: Table header cell.\n",
        "\n",
        "11. **Forms:**\n",
        "    - `<form>`: Defines a form.\n",
        "    - `<input>`: Defines an input field.\n",
        "    - `<textarea>`: Defines a multiline text input field.\n",
        "    - `<button>`: Defines a clickable button.\n",
        "    - `<select>`: Defines a dropdown list.\n",
        "    - `<option>`: Defines an option in a dropdown list.\n",
        "\n",
        "12. **Semantic HTML:**\n",
        "    - `<header>`, `<nav>`, `<main>`, `<article>`, `<section>`, `<aside>`, `<footer>`: Provide semantic meaning to different sections of a webpage.\n",
        "\n",
        "13. **Meta Tags (Inside `<head>`):**\n",
        "    - `<meta>`: Provides meta-information about the document such as character encoding, viewport settings, etc.\n",
        "\n",
        "14. **Miscellaneous:**\n",
        "    - `<div>`: Division or container for grouping elements.\n",
        "    - `<span>`: Inline container for grouping elements.\n",
        "    - `<script>`: Embeds or links to client-side scripts.\n",
        "    - `<style>`: Embeds CSS styles.\n",
        "    - `<iframe>`: Embeds another HTML document within the current one.\n",
        "\n",
        "15. **Comments:**\n",
        "    - `<!-- ... -->`: Comments in HTML.\n",
        "\n",
        "These are some of the most commonly used HTML tags. Understanding how to use these tags effectively will allow you to create structured and well-formatted web pages."
      ],
      "metadata": {
        "id": "1ZeaJs4vNin8"
      }
    },
    {
      "cell_type": "markdown",
      "source": [
        "# Input fields\n",
        "HTML provides various input types that allow users to input different types of data in web forms. Here's a list of commonly used input types in HTML:\n",
        "\n",
        "1. **Text Input**: Allows users to enter single-line text.\n",
        "   ```html\n",
        "   <input type=\"text\" name=\"firstname\" placeholder=\"First Name\">\n",
        "   ```\n",
        "\n",
        "2. **Password Input**: Similar to text input but hides the entered text.\n",
        "   ```html\n",
        "   <input type=\"password\" name=\"password\" placeholder=\"Password\">\n",
        "   ```\n",
        "\n",
        "3. **Email Input**: Validates that the entered text is in an email format.\n",
        "   ```html\n",
        "   <input type=\"email\" name=\"email\" placeholder=\"Email\">\n",
        "   ```\n",
        "\n",
        "4. **Number Input**: Restricts input to numeric values.\n",
        "   ```html\n",
        "   <input type=\"number\" name=\"quantity\" min=\"1\" max=\"100\">\n",
        "   ```\n",
        "\n",
        "5. **Checkbox**: Allows users to select one or more options.\n",
        "   ```html\n",
        "   <input type=\"checkbox\" name=\"vehicle\" value=\"Bike\"> I have a bike\n",
        "   ```\n",
        "\n",
        "6. **Radio Buttons**: Allows users to select only one option from a group.\n",
        "   ```html\n",
        "   <input type=\"radio\" name=\"gender\" value=\"male\"> Male\n",
        "   <input type=\"radio\" name=\"gender\" value=\"female\"> Female\n",
        "   ```\n",
        "\n",
        "7. **Dropdown List**: Presents a list of options for users to select from.\n",
        "   ```html\n",
        "   <select name=\"cars\">\n",
        "       <option value=\"volvo\">Volvo</option>\n",
        "       <option value=\"saab\">Saab</option>\n",
        "       <option value=\"mercedes\">Mercedes</option>\n",
        "       <option value=\"audi\">Audi</option>\n",
        "   </select>\n",
        "   ```\n",
        "\n",
        "8. **Date Input**: Allows users to select a date from a calendar.\n",
        "   ```html\n",
        "   <input type=\"date\" name=\"birthdate\">\n",
        "   ```\n",
        "\n",
        "9. **Time Input**: Allows users to select a time.\n",
        "   ```html\n",
        "   <input type=\"time\" name=\"appt\">\n",
        "   ```\n",
        "\n",
        "10. **File Input**: Allows users to upload files.\n",
        "    ```html\n",
        "    <input type=\"file\" name=\"fileupload\">\n",
        "    ```\n",
        "\n",
        "11. **Hidden Input**: Stores values that are not displayed on the webpage.\n",
        "    ```html\n",
        "    <input type=\"hidden\" name=\"userid\" value=\"123\">\n",
        "    ```\n",
        "\n",
        "12. **Submit Button**: Submits the form data to the server.\n",
        "    ```html\n",
        "    <input type=\"submit\" value=\"Submit\">\n",
        "    ```\n",
        "\n",
        "13. **Reset Button**: Resets all form fields to their default values.\n",
        "    ```html\n",
        "    <input type=\"reset\" value=\"Reset\">\n",
        "    ```\n",
        "\n",
        "14. **Button**: Generic button for triggering JavaScript functions.\n",
        "    ```html\n",
        "    <button type=\"button\" onclick=\"myFunction()\">Click Me!</button>\n",
        "    ```\n",
        "\n",
        "15. **Color Input**: Allows users to select a color.\n",
        "    ```html\n",
        "    <input type=\"color\" name=\"favcolor\">\n",
        "    ```\n",
        "\n",
        "These are some of the most commonly used input types in HTML. Each input type serves a specific purpose and helps in creating interactive and user-friendly web forms."
      ],
      "metadata": {
        "id": "2DyJ-eJ7aqJe"
      }
    },
    {
      "cell_type": "markdown",
      "source": [
        "# Table\n",
        "Sure! Tables in HTML are used to display data in rows and columns. Here's how you can create a basic table:\n",
        "\n",
        "```html\n",
        "<table border=\"1\">\n",
        "  <tr>\n",
        "    <th>Header 1</th>\n",
        "    <th>Header 2</th>\n",
        "    <th>Header 3</th>\n",
        "  </tr>\n",
        "  <tr>\n",
        "    <td>Data 1</td>\n",
        "    <td>Data 2</td>\n",
        "    <td>Data 3</td>\n",
        "  </tr>\n",
        "  <tr>\n",
        "    <td>Data 4</td>\n",
        "    <td>Data 5</td>\n",
        "    <td>Data 6</td>\n",
        "  </tr>\n",
        "</table>\n",
        "```\n",
        "\n",
        "Explanation:\n",
        "\n",
        "- `<table>`: Defines the start of the table.\n",
        "- `border=\"1\"`: Specifies the border around the table. You can adjust the value to change the thickness of the border.\n",
        "- `<tr>`: Defines a table row.\n",
        "- `<th>`: Defines a table header cell. This is typically used for column headings.\n",
        "- `<td>`: Defines a table data cell. This is used for actual data.\n",
        "- Each `<tr>` contains one or more `<td>` or `<th>` cells to represent columns.\n",
        "- `<th>` cells are typically used for headers and are bold and centered by default.\n",
        "- `<td>` cells are used for regular data and are left-aligned by default.\n",
        "\n",
        "You can customize tables further by adding attributes like `colspan` (to span multiple columns) and `rowspan` (to span multiple rows) to `<th>` or `<td>` elements. For example:\n",
        "\n",
        "```html\n",
        "<table border=\"1\">\n",
        "  <tr>\n",
        "    <th colspan=\"2\">Name</th>\n",
        "    <th>Age</th>\n",
        "  </tr>\n",
        "  <tr>\n",
        "    <td>John</td>\n",
        "    <td>Doe</td>\n",
        "    <td>30</td>\n",
        "  </tr>\n",
        "</table>\n",
        "```\n",
        "\n",
        "This will create a table with the first column spanning two columns for the name. The output will look like this:\n",
        "\n",
        "```\n",
        "|    Name    | Age |\n",
        "|------------|-----|\n",
        "| John   Doe | 30  |\n",
        "```\n",
        "\n",
        "Additionally, you can use CSS to style tables further, including changing colors, fonts, borders, and more. But this basic HTML structure provides the foundation for creating tables on web pages."
      ],
      "metadata": {
        "id": "cQCEXxgoat-C"
      }
    },
    {
      "cell_type": "markdown",
      "source": [
        "### Table Practice 1:"
      ],
      "metadata": {
        "id": "YkV1Eo38exEk"
      }
    },
    {
      "cell_type": "markdown",
      "source": [
        "```\n",
        "<!DOCTYPE html>\n",
        "<html>\n",
        "<head>\n",
        "  <title>HTML Table</title>\n",
        "</head>\n",
        "<body>\n",
        "  <table border=\"1\">\n",
        "    <tr>\n",
        "      <th>Header 1</th>\n",
        "      <th>Header 2</th>\n",
        "      <th>Header 3</th>\n",
        "    </tr>\n",
        "    <tr>\n",
        "      <td>Data 1</td>\n",
        "      <td>Data 2</td>\n",
        "      <td>Data 3</td>\n",
        "    </tr>\n",
        "    <tr>\n",
        "      <td>Data 4</td>\n",
        "      <td>Data 5</td>\n",
        "      <td>Data 6</td>\n",
        "    </tr>\n",
        "  </table>\n",
        "</body>\n",
        "</html>\n",
        "```"
      ],
      "metadata": {
        "id": "8Mocr7OoekmU"
      }
    },
    {
      "cell_type": "markdown",
      "source": [
        "### Table Practice 2 :"
      ],
      "metadata": {
        "id": "JSI4RiREkGci"
      }
    },
    {
      "cell_type": "markdown",
      "source": [
        "```\n",
        "<!DOCTYPE html>\n",
        "<html>\n",
        "<head>\n",
        "  <title>HTML Table</title>\n",
        "</head>\n",
        "<body>\n",
        "<table border=\"1\">\n",
        "    <thead>\n",
        "        <tr>\n",
        "            <td>Serial No.</td>\n",
        "            <td>Product Name</td>\n",
        "            <td>Product Price</td>\n",
        "        </tr>\n",
        "    </thead>\n",
        "    <tbody>\n",
        "        <tr>\n",
        "            <td>1</td>\n",
        "            <td>Rice</td>\n",
        "            <td>150</td>\n",
        "        </tr>\n",
        "        <tr>\n",
        "            <td>2</td>\n",
        "            <td>Meat</td>\n",
        "            <td>350</td>\n",
        "        </tr>\n",
        "        <tr>\n",
        "            <td colspan=\"2\"><strong>Total</strong></td>\n",
        "            <td>500</td>\n",
        "        </tr>\n",
        "    </tbody>\n",
        "</table>\n",
        "</body>\n",
        "</html>\n",
        "```\n",
        "\n",
        "\n"
      ],
      "metadata": {
        "id": "k7MOGGIbkGkw"
      }
    },
    {
      "cell_type": "markdown",
      "source": [
        "# Form"
      ],
      "metadata": {
        "id": "nNIuy6Qdd_lA"
      }
    },
    {
      "cell_type": "markdown",
      "source": [
        "```\n",
        "<!DOCTYPE html>\n",
        "<html>\n",
        "<head>\n",
        "  <title>HTML Form</title>\n",
        "</head>\n",
        "<body>\n",
        "  <form>\n",
        "\n",
        "    <h2>HTML FORM</h2>\n",
        "    Username: <input type=\"text\" id=\"username\" name=\"username\"> <br><br>\n",
        "    Password: <input type=\"password\" id=\"password\" name=\"password\"><br><br>\n",
        "\n",
        "    <label>Gender:</label>\n",
        "    <input type=\"radio\" name=\"gender\" value=\"male\"> Male\n",
        "    <input type=\"radio\" name=\"gender\" value=\"female\"> Female\n",
        "    <br><br>\n",
        "\n",
        "    <label>Hobbies:</label>\n",
        "    <input type=\"checkbox\" name=\"hobbies\" value=\"reading\"> Reading\n",
        "    <input type=\"checkbox\" name=\"hobbies\" value=\"traveling\"> Traveling\n",
        "    <input type=\"checkbox\" name=\"hobbies\" value=\"sports\"> Sports\n",
        "    <br><br>\n",
        "\n",
        "    <input type=\"submit\" value=\"Submit\">\n",
        "\n",
        "  </form>\n",
        "</body>\n",
        "</html>\n",
        "```"
      ],
      "metadata": {
        "id": "CO5qGJOueDHa"
      }
    },
    {
      "cell_type": "markdown",
      "source": [
        "# **Django Framework**\n",
        "* Django Architecture (URLs, Views, MVT)\n",
        "* Models, Forms and Media Management\n",
        "* Multiple Apps Management"
      ],
      "metadata": {
        "id": "xaVmO5Ivk8-b"
      }
    },
    {
      "cell_type": "markdown",
      "source": [
        "# **Django Architecture**"
      ],
      "metadata": {
        "id": "ytS795W8lIEJ"
      }
    },
    {
      "cell_type": "markdown",
      "source": [
        "## MVT Overview\n",
        "![image.png](data:image/png;base64,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)"
      ],
      "metadata": {
        "id": "SqtOLFomlgek"
      }
    },
    {
      "cell_type": "markdown",
      "source": [
        "# **Basic Setup**\n",
        "In this tutorial, I'll guide you through setting up a basic Django project, creating multiple HTML pages, and linking them using URLs and views.\n",
        "\n",
        "### Step 1: Install Django\n",
        "\n",
        "First, make sure you have Python installed on your system. Then, install Django using pip:\n",
        "\n",
        "```bash\n",
        "pip install django\n",
        "```\n",
        "\n",
        "### Step 2: Create a Django Project\n",
        "\n",
        "Now, let's create a new Django project. Open your terminal and run:\n",
        "\n",
        "```bash\n",
        "django-admin startproject myproject\n",
        "```\n",
        "\n",
        "This will create a directory called `myproject` with the basic structure for a Django project.\n",
        "\n",
        "### Step 3: Create an App\n",
        "\n",
        "In Django, functionality is organized into apps. Let's create an app within our project:\n",
        "\n",
        "```bash\n",
        "cd myproject\n",
        "python manage.py startapp myapp\n",
        "```\n",
        "\n",
        "This will create a directory called `myapp` with the necessary files for our app.\n",
        "\n",
        "### Step 4: Define URL patterns\n",
        "\n",
        "Open `myproject/myapp/urls.py` and define your URL patterns. Here's a simple example:\n",
        "\n",
        "```python\n",
        "from django.urls import path\n",
        "from . import views\n",
        "\n",
        "urlpatterns = [\n",
        "    path('', views.home, name='home'),\n",
        "    path('about/', views.about, name='about'),\n",
        "    path('contact/', views.contact, name='contact'),\n",
        "]\n",
        "```\n",
        "\n",
        "### Step 5: Create Views\n",
        "\n",
        "In Django, views are Python functions that take a web request and return a web response. Let's create some views. Open `myproject/myapp/views.py`:\n",
        "\n",
        "```python\n",
        "from django.shortcuts import render\n",
        "from django.http import HttpResponse\n",
        "\n",
        "def home(request):\n",
        "    return render(request, 'home.html')\n",
        "\n",
        "def about(request):\n",
        "    return render(request, 'about.html')\n",
        "\n",
        "def contact(request):\n",
        "    return render(request, 'contact.html')\n",
        "```\n",
        "\n",
        "### Step 6: Create HTML Templates\n",
        "\n",
        "Create HTML templates for each view in the `myproject/myapp/templates` directory:\n",
        "\n",
        "- `home.html`\n",
        "- `about.html`\n",
        "- `contact.html`\n",
        "\n",
        "These templates will contain the HTML code for your pages.\n",
        "\n",
        "### Step 7: Configure URLs\n",
        "\n",
        "In your project's main `urls.py` file (located at `myproject/urls.py`), include your app's URLs:\n",
        "\n",
        "```python\n",
        "from django.contrib import admin\n",
        "from django.urls import path, include\n",
        "\n",
        "urlpatterns = [\n",
        "    path('admin/', admin.site.urls),\n",
        "    path('', include('myapp.urls')),\n",
        "]\n",
        "```\n",
        "\n",
        "### Step 8: Run the Server\n",
        "\n",
        "Finally, start the Django development server:\n",
        "\n",
        "```bash\n",
        "python manage.py runserver\n",
        "```\n",
        "\n",
        "Now you can visit `http://127.0.0.1:8000/` in your browser to see your home page, `http://127.0.0.1:8000/about/` for the about page, and `http://127.0.0.1:8000/contact/` for the contact page. Django will route these URLs to the appropriate views and templates.\n",
        "\n"
      ],
      "metadata": {
        "id": "67CreOMyljvq"
      }
    },
    {
      "cell_type": "markdown",
      "source": [
        "# **Navigate from one page to another**\n",
        "\n",
        "### Step 1: Create HTML Templates\n",
        "\n",
        "Create HTML templates for each of your pages (`home.html`, `about.html`, `contact.html`) in the `myapp/templates` directory.\n",
        "\n",
        "Here's an example of `home.html`:\n",
        "\n",
        "```html\n",
        "<!DOCTYPE html>\n",
        "<html lang=\"en\">\n",
        "<head>\n",
        "    <meta charset=\"UTF-8\">\n",
        "    <meta name=\"viewport\" content=\"width=device-width, initial-scale=1.0\">\n",
        "    <title>Home</title>\n",
        "</head>\n",
        "<body>\n",
        "    <h1>Welcome to the Home Page!</h1>\n",
        "    <a href=\"{% url 'about' %}\"><button>About</button></a>\n",
        "    <a href=\"{% url 'contact' %}\"><button>Contact</button></a>\n",
        "</body>\n",
        "</html>\n",
        "```\n",
        "\n",
        "Similarly, create `about.html` and `contact.html` with appropriate content and navigation buttons.\n",
        "\n",
        "### Step 2: Define URL Patterns\n",
        "\n",
        "In your app's `urls.py` file (`myapp/urls.py`), define the URL patterns:\n",
        "\n",
        "```python\n",
        "from django.urls import path\n",
        "from . import views\n",
        "\n",
        "urlpatterns = [\n",
        "    path('', views.home, name='home'),\n",
        "    path('about/', views.about, name='about'),\n",
        "    path('contact/', views.contact, name='contact'),\n",
        "]\n",
        "```\n",
        "\n",
        "### Step 3: Create Views\n",
        "\n",
        "In your app's `views.py` file (`myapp/views.py`), define the views:\n",
        "\n",
        "```python\n",
        "from django.shortcuts import render\n",
        "\n",
        "def home(request):\n",
        "    return render(request, 'home.html')\n",
        "\n",
        "def about(request):\n",
        "    return render(request, 'about.html')\n",
        "\n",
        "def contact(request):\n",
        "    return render(request, 'contact.html')\n",
        "```\n",
        "\n",
        "### Step 4: Configure URLs\n",
        "\n",
        "In the main `urls.py` file of your Django project (`myproject/urls.py`), include your app's URLs:\n",
        "\n",
        "```python\n",
        "from django.contrib import admin\n",
        "from django.urls import path, include\n",
        "\n",
        "urlpatterns = [\n",
        "    path('admin/', admin.site.urls),\n",
        "    path('', include('myapp.urls')),\n",
        "]\n",
        "```\n",
        "\n",
        "### Step 5: Run the Server\n",
        "\n",
        "Finally, start the Django development server:\n",
        "\n",
        "```bash\n",
        "python manage.py runserver\n",
        "```\n",
        "\n",
        "You can now navigate to `http://127.0.0.1:8000/` in your browser to see the home page with buttons to navigate to the about and contact pages.\n",
        "\n",
        "This setup will allow you to create HTML pages with navigation buttons that link to other pages within your Django project. Feel free to expand upon this by adding more views, templates, and functionality as needed."
      ],
      "metadata": {
        "id": "4YG5uzMPpd4h"
      }
    },
    {
      "cell_type": "markdown",
      "source": [
        "# **Superuser**\n",
        "\n",
        "Creating a superuser in Django is a straightforward process. Superusers have access to the Django admin interface and can perform administrative tasks such as managing users, groups, and other site content. Here's how you can create a superuser in Django:\n",
        "\n",
        "### If you are creating a super user for the first time in a project just run:\n",
        "\n",
        "\n",
        "\n",
        "```python\n",
        "python manage.py migrate\n",
        "```\n",
        "Or just follow:\n",
        "\n",
        "\n",
        "\n",
        "### Step 1: Navigate to Your Django Project Directory\n",
        "\n",
        "Open your terminal or command prompt and navigate to the root directory of your Django project.\n",
        "\n",
        "### Step 2: Run the `createsuperuser` Management Command\n",
        "\n",
        "Use the `createsuperuser` management command provided by Django. Enter the following command:\n",
        "\n",
        "```bash\n",
        "python manage.py createsuperuser\n",
        "```\n",
        "\n",
        "### Step 3: Enter Superuser Details\n",
        "\n",
        "After running the command, you will be prompted to enter details for the superuser:\n",
        "\n",
        "- Username: This is the username for the superuser. Choose a unique username.\n",
        "- Email address: Provide an email address for the superuser. This is optional but recommended.\n",
        "- Password: Set a password for the superuser. The password will be hidden as you type.\n",
        "- Password (again): Re-enter the password for confirmation.\n",
        "\n",
        "### Step 4: Confirm Superuser Creation\n",
        "\n",
        "After entering the details, press Enter. Django will validate the information provided. If everything is valid, you will see a message confirming the creation of the superuser:\n",
        "\n",
        "```\n",
        "Superuser created successfully.\n",
        "```\n",
        "\n",
        "### Step 5: Access Django Admin Interface\n",
        "\n",
        "Now that you've created the superuser, you can access the Django admin interface by running the Django development server and navigating to the admin URL in your web browser.\n",
        "\n",
        "Start the development server:\n",
        "\n",
        "```bash\n",
        "python manage.py runserver\n",
        "```\n",
        "\n",
        "Then, open your web browser and navigate to `http://127.0.0.1:8000/admin`.\n",
        "\n",
        "### Step 6: Log in as Superuser\n",
        "\n",
        "At the login page, enter the username and password you specified when creating the superuser. Once logged in, you'll have access to the Django admin interface and can start managing your Django project.\n",
        "\n",
        "That's it! You've successfully created a superuser in Django. You can now use this superuser account to perform administrative tasks and manage your Django project through the admin interface."
      ],
      "metadata": {
        "id": "NVMb_XgKuVrs"
      }
    },
    {
      "cell_type": "markdown",
      "source": [
        "# **Create a New App**\n",
        "\n",
        "Creating a new app in Django involves several steps, including defining its structure, adding it to the project's settings, and connecting its URLs to the project's main URLs. Let's walk through the process step by step:\n",
        "\n",
        "### Step 1: Create a New App\n",
        "\n",
        "Open your terminal or command prompt and navigate to the root directory of your Django project.\n",
        "\n",
        "Run the following command to create a new Django app:\n",
        "\n",
        "```bash\n",
        "python manage.py startapp myapp\n",
        "```\n",
        "\n",
        "Replace `myapp` with the desired name of your app.\n",
        "\n",
        "### Step 2: Add the App to Installed Apps\n",
        "\n",
        "Open the `settings.py` file located in your Django project directory (`myproject/settings.py`).\n",
        "\n",
        "Find the `INSTALLED_APPS` list and add your app's name to it:\n",
        "\n",
        "```python\n",
        "INSTALLED_APPS = [\n",
        "    ...\n",
        "    'myapp',\n",
        "]\n",
        "```\n",
        "\n",
        "### Step 3: Define URL Patterns\n",
        "\n",
        "Create a new `urls.py` file in your app's directory (`myapp/urls.py`).\n",
        "\n",
        "Define the URL patterns for your app in this file. Here's an example:\n",
        "\n",
        "```python\n",
        "from django.urls import path\n",
        "from . import views\n",
        "\n",
        "urlpatterns = [\n",
        "    path('', views.index, name='index'),\n",
        "    # Add more URL patterns as needed\n",
        "]\n",
        "```\n",
        "\n",
        "### Step 4: Connect App URLs to Project URLs\n",
        "\n",
        "In the project's main `urls.py` file (usually located in `myproject/urls.py`), include the URLs of your app using the `include` function:\n",
        "\n",
        "```python\n",
        "from django.contrib import admin\n",
        "from django.urls import path, include\n",
        "\n",
        "urlpatterns = [\n",
        "    path('admin/', admin.site.urls),\n",
        "    path('myapp/', include('myapp.urls')),\n",
        "    # Add more URL patterns as needed\n",
        "]\n",
        "```\n",
        "\n",
        "### Step 5: Define Views\n",
        "\n",
        "Create a `views.py` file in your app's directory (`myapp/views.py`).\n",
        "\n",
        "Define view functions to handle requests. For example:\n",
        "\n",
        "```python\n",
        "from django.shortcuts import render\n",
        "from django.http import HttpResponse\n",
        "\n",
        "def index(request):\n",
        "    return HttpResponse(\"Hello, world. This is my app.\")\n",
        "```\n",
        "\n",
        "### Step 6: Run the Server\n",
        "\n",
        "Start the Django development server:\n",
        "\n",
        "```bash\n",
        "python manage.py runserver\n",
        "```\n",
        "\n",
        "Now you can access your app by navigating to the appropriate URL in your browser. For example, if your app's index view is mapped to `myapp/`, you can access it at `http://127.0.0.1:8000/myapp/`.\n",
        "\n",
        "That's it! You've successfully created a new app in Django, connected it to the project's settings, and defined URL patterns to access its views. You can now expand your app by adding more views, templates, and functionality as needed."
      ],
      "metadata": {
        "id": "Bt22XiZXzLu7"
      }
    },
    {
      "cell_type": "markdown",
      "source": [
        "# **Define a Model**\n",
        "\n",
        "To define a new model in your Django app and make it accessible via the Django admin interface, follow these steps:\n",
        "\n",
        "### Step 1: Define the Model\n",
        "\n",
        "Open the `models.py` file in your app's directory (`myapp/models.py`). Define your new model class.\n",
        "\n",
        "For example, let's create a simple model representing a product:\n",
        "\n",
        "```python\n",
        "from django.db import models\n",
        "\n",
        "class Product(models.Model):\n",
        "    name = models.CharField(max_length=100)\n",
        "    price = models.DecimalField(max_digits=10, decimal_places=2)\n",
        "    description = models.TextField()\n",
        "\n",
        "    def __str__(self):\n",
        "        return self.name\n",
        "```\n",
        "\n",
        "### Step 2: Make Migrations\n",
        "\n",
        "Run the following command to generate a migration file based on your new model:\n",
        "\n",
        "```bash\n",
        "python manage.py makemigrations myapp\n",
        "```\n",
        "\n",
        "Replace `myapp` with the name of your app.\n",
        "\n",
        "### Step 3: Apply Migrations\n",
        "\n",
        "Apply the migration to your database:\n",
        "\n",
        "```bash\n",
        "python manage.py migrate\n",
        "```\n",
        "\n",
        "### Step 4: Register the Model in `admin.py`\n",
        "\n",
        "Open the `admin.py` file in your app's directory (`myapp/admin.py`). Register your model with the Django admin interface.\n",
        "\n",
        "```python\n",
        "from django.contrib import admin\n",
        "from .models import Product\n",
        "\n",
        "admin.site.register(Product)\n",
        "```\n",
        "\n",
        "### Step 5: Run the Server\n",
        "\n",
        "Start the Django development server:\n",
        "\n",
        "```bash\n",
        "python manage.py runserver\n",
        "```\n",
        "\n",
        "### Step 6: Access Django Admin Interface\n",
        "\n",
        "Now, navigate to `http://127.0.0.1:8000/admin` in your web browser. Log in using your superuser credentials.\n",
        "\n",
        "### Step 7: Manage Your Model in Admin Interface\n",
        "\n",
        "You should now see your `Product` model listed in the admin interface. You can add, view, edit, and delete products directly from the browser.\n",
        "\n",
        "That's it! You've successfully defined a new model in your Django app and made it accessible via the Django admin interface. You can continue to expand your model by adding more fields and functionality as needed."
      ],
      "metadata": {
        "id": "zWUlNVqx0hp3"
      }
    },
    {
      "cell_type": "markdown",
      "source": [
        "# **Admin CRUD**\n",
        "\n",
        "Performing CRUD (Create, Read, Update, Delete) operations on a product model in Django admin is straightforward. Once you've registered your model with the admin interface, you can manage your products directly from the admin dashboard. Let's go through each CRUD operation:\n",
        "\n",
        "### Create (Add) a Product\n",
        "\n",
        "1. Log in to the Django admin interface at `http://127.0.0.1:8000/admin`.\n",
        "2. Navigate to the \"Products\" section or whichever section you've registered your product model under.\n",
        "3. Click on the \"Add Product\" button.\n",
        "4. Fill in the fields for the new product (e.g., name, price, description).\n",
        "5. Click the \"Save\" button to create the product.\n",
        "\n",
        "### Read (View) Products\n",
        "\n",
        "1. Once logged in to the admin interface, you'll see a list of all existing products.\n",
        "2. You can click on any product to view its details.\n",
        "3. You can also use search and filter options to find specific products.\n",
        "\n",
        "### Update (Edit) a Product\n",
        "\n",
        "1. From the list of products, click on the product you want to edit.\n",
        "2. This will open the product's details page.\n",
        "3. Click on the \"Edit\" button to make changes to the product's fields.\n",
        "4. Update the desired fields.\n",
        "5. Click the \"Save\" button to save your changes.\n",
        "\n",
        "### Delete a Product\n",
        "\n",
        "1. From the list of products, locate the product you want to delete.\n",
        "2. Next to the product entry, there should be a checkbox or a delete button.\n",
        "3. Select the checkbox or click the delete button.\n",
        "4. Confirm the deletion when prompted.\n"
      ],
      "metadata": {
        "id": "DLDX43mR0yrN"
      }
    },
    {
      "cell_type": "markdown",
      "source": [
        "# **forms.py**\n",
        "\n",
        "Assuming you have a `Product` model defined in your `models.py`, let's create a form to handle input for creating or updating products.\n",
        "\n",
        "1. **Define the Product model**:\n",
        "\n",
        "   First, let's assume you have a `Product` model defined in your `models.py` like this:\n",
        "\n",
        "    ```python\n",
        "    from django.db import models\n",
        "\n",
        "    class Product(models.Model):\n",
        "        name = models.CharField(max_length=100)\n",
        "        description = models.TextField()\n",
        "        price = models.DecimalField(max_digits=10, decimal_places=2)\n",
        "        # Add more fields as needed\n",
        "    ```\n",
        "\n",
        "2. **Create a form in `forms.py`**:\n",
        "\n",
        "   Now, you'll define a form class in your `forms.py` to handle input related to the `Product` model:\n",
        "\n",
        "    ```python\n",
        "    from django import forms\n",
        "    from .models import Product\n",
        "\n",
        "    class ProductForm(forms.ModelForm):\n",
        "        class Meta:\n",
        "            model = Product\n",
        "            fields = ['name', 'description', 'price']\n",
        "    ```\n",
        "\n",
        "   This form class is created using Django's `ModelForm`, which automatically generates a form based on the specified model (`Product` in this case). The `Meta` inner class specifies the model and the fields you want to include in the form.\n",
        "\n",
        "3. **Using the form in views**:\n",
        "\n",
        "   You can now use this form in your views to handle product creation or update:\n",
        "\n",
        "    ```python\n",
        "    from django.shortcuts import render, redirect\n",
        "    from .forms import ProductForm\n",
        "    from .models import Product\n",
        "\n",
        "    def create_product(request):\n",
        "        if request.method == 'POST':\n",
        "            form = ProductForm(request.POST)\n",
        "            if form.is_valid():\n",
        "                form.save()\n",
        "                return redirect('product_list')  # Redirect to product list page\n",
        "        else:\n",
        "            form = ProductForm()\n",
        "\n",
        "        return render(request, 'create_product.html', {'form': form})\n",
        "\n",
        "    def update_product(request, pk):\n",
        "        product = Product.objects.get(pk=pk)\n",
        "        if request.method == 'POST':\n",
        "            form = ProductForm(request.POST, instance=product)\n",
        "            if form.is_valid():\n",
        "                form.save()\n",
        "                return redirect('product_list')  # Redirect to product list page\n",
        "        else:\n",
        "            form = ProductForm(instance=product)\n",
        "\n",
        "        return render(request, 'update_product.html', {'form': form})\n",
        "    ```\n",
        "\n",
        "4. **Rendering the form in templates**:\n",
        "\n",
        "   Create HTML templates (`create_product.html` and `update_product.html`) to render the form:\n",
        "\n",
        "   `create_product.html`:\n",
        "\n",
        "    ```html\n",
        "    <form method=\"post\">\n",
        "        {% csrf_token %}\n",
        "        {{ form.as_p }}\n",
        "        <button type=\"submit\">Submit</button>\n",
        "    </form>\n",
        "    ```\n",
        "\n",
        "   `update_product.html`:\n",
        "\n",
        "    ```html\n",
        "    <form method=\"post\">\n",
        "        {% csrf_token %}\n",
        "        {{ form.as_p }}\n",
        "        <button type=\"submit\">Update</button>\n",
        "    </form>\n",
        "    ```\n",
        "\n",
        "   Ensure that your URLs are correctly configured to point to these views.\n",
        "\n",
        "That's it! Now you have a form in `forms.py` to handle creation and updating of products in your Django application."
      ],
      "metadata": {
        "id": "0d2KkVO14PDj"
      }
    },
    {
      "cell_type": "markdown",
      "source": [
        "# **How to Handle Media?**\n",
        "\n",
        "Working with photos in Django involves handling image uploads, storage, and rendering them in your web application. Here, I'll guide you through the process of handling photos in a Django project.\n",
        "\n",
        "**1. Install Required Packages**\n",
        "\n",
        "You'll need to install the `Pillow` package, which is a Python Imaging Library that makes working with images in Django easier.\n",
        "\n",
        "```bash\n",
        "pip install Pillow\n",
        "```\n",
        "\n",
        "**2. Create a Django Model**\n",
        "\n",
        "In your Django project, create a model that includes a `ImageField` to store the photos. Here's an example:\n",
        "\n",
        "```python\n",
        "# models.py\n",
        "\n",
        "from django.db import models\n",
        "\n",
        "class Photo(models.Model):\n",
        "    title = models.CharField(max_length=255)\n",
        "    image = models.ImageField(upload_to='photos/')\n",
        "    upload_date = models.DateTimeField(auto_now_add=True)\n",
        "\n",
        "    def __str__(self):\n",
        "        return self.title\n",
        "```\n",
        "\n",
        "In this example, we've defined a `Photo` model with a `title`, `image` field (which is an `ImageField`), and an `upload_date` field.\n",
        "\n",
        "**3. Configure Media Settings**\n",
        "\n",
        "In your project's `settings.py`, configure the media settings to specify where the uploaded images should be stored and served from. Add the following:\n",
        "\n",
        "```python\n",
        "# settings.py\n",
        "\n",
        "import os\n",
        "\n",
        "MEDIA_URL = '/media/'\n",
        "MEDIA_ROOT = os.path.join(BASE_DIR, 'media')\n",
        "```\n",
        "\n",
        "**4. Create URL Patterns**\n",
        "\n",
        "Define URL patterns in your app's `urls.py` to handle the photo views:\n",
        "\n",
        "```python\n",
        "# urls.py in your app\n",
        "\n",
        "from django.urls import path\n",
        "from . import views\n",
        "\n",
        "urlpatterns = [\n",
        "    path('photos/', views.photo_list, name='photo_list'),\n",
        "    path('photos/upload/', views.photo_upload, name='photo_upload'),\n",
        "]\n",
        "```\n",
        "\n",
        "**5. Create Views and Templates**\n",
        "\n",
        "Create views and templates to handle the photo uploads and listing:\n",
        "\n",
        "```python\n",
        "# views.py\n",
        "\n",
        "from django.shortcuts import render, redirect\n",
        "from .models import Photo\n",
        "from .forms import PhotoForm\n",
        "\n",
        "def photo_list(request):\n",
        "    photos = Photo.objects.all()\n",
        "    return render(request, 'photos/photo_list.html', {'photos': photos})\n",
        "\n",
        "def photo_upload(request):\n",
        "    if request.method == 'POST':\n",
        "        form = PhotoForm(request.POST, request.FILES)\n",
        "        if form.is_valid():\n",
        "            form.save()\n",
        "            return redirect('photo_list')\n",
        "    else:\n",
        "        form = PhotoForm()\n",
        "    return render(request, 'photos/photo_upload.html', {'form': form})\n",
        "```\n",
        "\n",
        "```python\n",
        "# forms.py\n",
        "\n",
        "from django import forms\n",
        "from .models import Photo\n",
        "\n",
        "class PhotoForm(forms.ModelForm):\n",
        "    class Meta:\n",
        "        model = Photo\n",
        "        fields = ['title', 'image']\n",
        "```\n",
        "Here is the html form required to handle media:\n",
        "```html\n",
        "<form method=\"POST\" enctype=\"multipart/form-data\">\n",
        "{% csrf_token %}\n",
        "    {{form.as_p}}\n",
        "    <button type=\"submit\" > OK </button>\n",
        "</form>\n",
        "```\n",
        "**6. Create Templates**\n",
        "\n",
        "Create templates for listing photos and the photo upload form:\n",
        "\n",
        "```html\n",
        "<!-- photo_list.html -->\n",
        "\n",
        "{% extends 'base.html' %}\n",
        "\n",
        "{% block content %}\n",
        "    <h2>Photos</h2>\n",
        "    <ul>\n",
        "        {% for photo in photos %}\n",
        "            <li>\n",
        "                <img src=\"{{ photo.image.url }}\" alt=\"{{ photo.title }}\" width=\"200\">\n",
        "                <p>{{ photo.title }}</p>\n",
        "            </li>\n",
        "        {% endfor %}\n",
        "    </ul>\n",
        "    <a href=\"{% url 'photo_upload' %}\">Upload Photo</a>\n",
        "{% endblock %}\n",
        "```\n",
        "\n",
        "```html\n",
        "<!-- photo_upload.html -->\n",
        "\n",
        "{% extends 'base.html' %}\n",
        "\n",
        "{% block content %}\n",
        "    <h2>Upload Photo</h2>\n",
        "    <form method=\"post\" enctype=\"multipart/form-data\">\n",
        "        {% csrf_token %}\n",
        "        {{ form.as_p }}\n",
        "        <button type=\"submit\">Upload</button>\n",
        "    </form>\n",
        "    <a href=\"{% url 'photo_list' %}\">Back to Photos</a>\n",
        "{% endblock %}\n",
        "```\n",
        "\n",
        "**7. Set Up Static and Media URLs**\n",
        "\n",
        "In your project's `urls.py`, set up static and media URL configurations:\n",
        "\n",
        "```python\n",
        "# myproject/urls.py\n",
        "\n",
        "from django.contrib import admin\n",
        "from django.urls import path, include\n",
        "from django.conf import settings\n",
        "from django.conf.urls.static import static\n",
        "\n",
        "urlpatterns = [\n",
        "    path('admin/', admin.site.urls),\n",
        "    path('', include('yourapp.urls')),\n",
        "]\n",
        "\n",
        "if settings.DEBUG:\n",
        "    urlpatterns += static(settings.MEDIA_URL, document_root=settings.MEDIA_ROOT)\n",
        "  \n",
        "```\n",
        "\n",
        "**8. Migrate the Database**\n",
        "\n",
        "Run migrations to create the `Photo` model's database table:\n",
        "\n",
        "```bash\n",
        "python manage.py makemigrations\n",
        "python manage.py migrate\n",
        "```\n",
        "\n",
        "**9. Start the Development Server**\n",
        "\n",
        "Run the development server:\n",
        "\n",
        "```bash\n",
        "python manage.py runserver\n",
        "```\n",
        "\n",
        "You can now access the photo upload and listing views in your Django web application. Users can upload photos, and those photos will be stored in the specified `MEDIA_ROOT` directory and served at the `MEDIA_URL` URL. Make sure to customize and style the templates to fit your project's design and requirements."
      ],
      "metadata": {
        "id": "JQ4emVMf3V7V"
      }
    },
    {
      "cell_type": "markdown",
      "source": [
        "# **Multiple Apps**\n",
        "\n",
        "# Defining a  model containing a Foreginkey\n",
        "In Django, a ForeignKey is a field type that is used to create a many-to-one relationship between two models. In your code example, you have two models: `Product` and `ProductRating`.\n",
        "\n",
        "Here's a breakdown of your models and how ForeignKey works:\n",
        "\n",
        "1. **Product Model:**\n",
        "   ```python\n",
        "   class Product(models.Model):\n",
        "       name = models.CharField(max_length=100)\n",
        "       price = models.FloatField(default=0.00)\n",
        "       description = models.CharField(max_length=1000, default='abc')\n",
        "\n",
        "       def __str__(self):\n",
        "           return self.name + str(self.price)\n",
        "   ```\n",
        "   - This model represents a product. It has three fields: `name`, `price`, and `description`.\n",
        "   - Each product will have a unique `name`, a `price`, and a `description`.\n",
        "   - The `__str__` method is defined to return the name of the product concatenated with its price as a string.\n",
        "\n",
        "2. **ProductRating Model:**\n",
        "   ```python\n",
        "   class ProductRating(models.Model):\n",
        "       product = models.ForeignKey(Product, on_delete=models.CASCADE)\n",
        "       rating = models.CharField(max_length=100)\n",
        "   ```\n",
        "   - This model represents the ratings given to products. It has two fields: `product` and `rating`.\n",
        "   - `product` field is a ForeignKey to the `Product` model. This establishes a relationship between `ProductRating` and `Product`. It means that each `ProductRating` instance is associated with one `Product` instance.\n",
        "   - The `on_delete=models.CASCADE` parameter specifies the behavior when a referenced `Product` instance is deleted. In this case, it means that if a `Product` is deleted, all associated `ProductRating` instances will also be deleted (cascade delete).\n",
        "   - `rating` field stores the rating given to the product.\n",
        "\n",
        "With this setup, you can now create instances of `Product` and `ProductRating` and relate them to each other."
      ],
      "metadata": {
        "id": "_WAd7SzE3erP"
      }
    },
    {
      "cell_type": "markdown",
      "source": [
        "# Modification needed in the views.py\n",
        "This code defines a view function `rate_product` that handles rating a product. Let's break down how it works:\n",
        "\n",
        "1. **Import Statements:**\n",
        "   ```python\n",
        "   from django.shortcuts import render, HttpResponse\n",
        "   from . import forms\n",
        "   ```\n",
        "   - This imports necessary modules and the `ProductRatingForm` form from the current application.\n",
        "\n",
        "2. **rate_product View:**\n",
        "   ```python\n",
        "   def rate_product(request, p_id):\n",
        "       product = Product.objects.get(pk=p_id)\n",
        "       if request.method == \"GET\":\n",
        "           form = forms.ProductRatingForm(request.GET)\n",
        "           if form.is_valid():\n",
        "               instance = form.save(commit=False)\n",
        "               instance.product = product\n",
        "               instance.save()\n",
        "               return HttpResponse('rate successful')\n",
        "       else:\n",
        "           form = forms.ProductRatingForm()\n",
        "       return render(request, 'forms.html', {\n",
        "           \"form\": form,\n",
        "       })\n",
        "   ```\n",
        "   - This function takes a Django `HttpRequest` object `request` and a parameter `p_id`, which represents the primary key of the product to be rated.\n",
        "   - It retrieves the corresponding `Product` object using the primary key `p_id`.\n",
        "   - If the request method is GET, it creates an instance of `ProductRatingForm`, passing in the GET data from the request.\n",
        "     - If the form is valid, it saves the form data to an instance of `ProductRating` using `form.save(commit=False)`.\n",
        "     - `commit=False` tells Django not to save the object to the database yet but to return an unsaved model instance.\n",
        "     - Then, it sets the `product` attribute of the unsaved `ProductRating` instance to the retrieved `Product` object.\n",
        "     - Finally, it saves the modified `ProductRating` instance to the database and returns an HTTP response indicating a successful rating.\n",
        "   - If the request method is not GET, it creates a new instance of `ProductRatingForm`.\n",
        "   - Regardless of the request method, it renders a template called 'forms.html', passing the form instance as context data.\n",
        "\n",
        "In summary, `commit=False` is used in this code to connect a `ProductRating` object with a `Product` object before saving it to the database. This allows you to establish the relationship between the product being rated and the rating itself."
      ],
      "metadata": {
        "id": "FUqz-TyJ32r3"
      }
    },
    {
      "cell_type": "markdown",
      "source": [
        "# **Practice Django :**"
      ],
      "metadata": {
        "id": "VDgPU0mQ5ioH"
      }
    },
    {
      "cell_type": "markdown",
      "source": [],
      "metadata": {
        "id": "_rWnBNse5ndG"
      }
    },
    {
      "cell_type": "code",
      "source": [],
      "metadata": {
        "id": "pMXGpwQM5n-T"
      },
      "execution_count": null,
      "outputs": []
    },
    {
      "cell_type": "markdown",
      "source": [
        "# **Requirement Analysis**\n",
        "* Draw Class Diagrams based on senario\n",
        "\n",
        "Requirement analysis is a crucial step in the software development process, including the development of a website. This process involves gathering, understanding, and documenting the requirements of the system. In the context of a website, these requirements typically include functionality, user interface design, performance, security, and other aspects.\n",
        "\n",
        "Let's go through a simplified example of requirement analysis for a blog website and identify a basic class diagram.\n",
        "\n",
        "### Example: Blog Website Requirement Analysis\n",
        "\n",
        "**1. Identify Stakeholders:**\n",
        "   - **Users:** Readers, Writers (Authors), Admin\n",
        "   - **Developers:** Web developers, Designers\n",
        "   - **Administrators:** Content administrators, System administrators\n",
        "\n",
        "**2. Define Functional Requirements:**\n",
        "\n",
        "   - **User Registration and Login:**\n",
        "     - Users should be able to register with the website.\n",
        "     - Registered users can log in using their credentials.\n",
        "\n",
        "   - **User Roles:**\n",
        "     - Differentiate between readers, authors, and administrators.\n",
        "     - Authors should be able to create, edit, and delete blog posts.\n",
        "\n",
        "   - **Blog Posts:**\n",
        "     - Users can view a list of blog posts.\n",
        "     - Each post should have a title, content, publication date, and author.\n",
        "     - Users can leave comments on blog posts.\n",
        "\n",
        "   - **Search Functionality:**\n",
        "     - Users should be able to search for blog posts based on keywords.\n",
        "\n",
        "   - **User Profile:**\n",
        "     - Users should have a profile page displaying their information.\n",
        "     - Authors can manage their authored posts from their profile.\n",
        "\n",
        "**3. Define Non-functional Requirements:**\n",
        "\n",
        "   - **Performance:**\n",
        "     - The website should load within 3 seconds.\n",
        "     - Support concurrent users without performance degradation.\n",
        "\n",
        "   - **Security:**\n",
        "     - User authentication and authorization are required.\n",
        "     - Secure storage of user data and passwords.\n",
        "\n",
        "   - **User Interface:**\n",
        "     - Intuitive and responsive design for various devices.\n",
        "     - Accessibility features for users with disabilities.\n",
        "\n",
        "   - **Scalability:**\n",
        "     - The system should be scalable to handle a growing number of blog posts and users.\n",
        "\n",
        "**4. Identify Use Cases:**\n",
        "\n",
        "   - **User Registration:**\n",
        "     - Actor: Guest\n",
        "     - Description: Allows a guest to register as a new user.\n",
        "\n",
        "   - **User Login:**\n",
        "     - Actor: Registered User\n",
        "     - Description: Allows a registered user to log in.\n",
        "\n",
        "   - **Create Blog Post:**\n",
        "     - Actor: Author\n",
        "     - Description: Allows an author to create a new blog post.\n",
        "\n",
        "   - **View Blog Post:**\n",
        "     - Actor: Reader\n",
        "     - Description: Allows a reader to view a blog post.\n",
        "\n",
        "   - **Search Blog Posts:**\n",
        "     - Actor: Reader\n",
        "     - Description: Allows a reader to search for blog posts.\n",
        "\n",
        "   - **Leave Comment:**\n",
        "     - Actor: Reader\n",
        "     - Description: Allows a reader to leave a comment on a blog post.\n",
        "\n",
        "**5. Create a Basic Class Diagram:**\n",
        "\n",
        "![image.png](data:image/png;base64,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)"
      ],
      "metadata": {
        "id": "c2cxyuPu4_zM"
      }
    },
    {
      "cell_type": "markdown",
      "source": [
        "**-------------------------------------------------------- THE END --------------------------------------------------------**"
      ],
      "metadata": {
        "id": "bQOXxxEt5tSf"
      }
    }
  ]
}