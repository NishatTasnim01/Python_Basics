{
  "nbformat": 4,
  "nbformat_minor": 0,
  "metadata": {
    "colab": {
      "provenance": []
    },
    "kernelspec": {
      "name": "python3",
      "display_name": "Python 3"
    },
    "language_info": {
      "name": "python"
    }
  },
  "cells": [
    {
      "cell_type": "markdown",
      "source": [
        "1. Take an input and check whether it is an even number or not."
      ],
      "metadata": {
        "id": "SokyGGtfSakH"
      }
    },
    {
      "cell_type": "code",
      "execution_count": null,
      "metadata": {
        "colab": {
          "base_uri": "https://localhost:8080/"
        },
        "id": "KIuLyxD_SSvh",
        "outputId": "f770a8f4-f1be-419a-ebff-1442abd46ee3"
      },
      "outputs": [
        {
          "output_type": "stream",
          "name": "stdout",
          "text": [
            "x is not even\n"
          ]
        }
      ],
      "source": [
        "x = 2\n",
        "\n",
        "if x % 2:\n",
        "    print(\"x is even\")\n",
        "else:\n",
        "    print(\"x is not even\")"
      ]
    },
    {
      "cell_type": "markdown",
      "source": [
        "2. Take an input and check whether it is greater than or equal to or less than zero."
      ],
      "metadata": {
        "id": "Loqnq_4-S48s"
      }
    },
    {
      "cell_type": "code",
      "source": [
        "y = 20\n",
        "\n",
        "if y > 0:\n",
        "    print(\"y is greater than 0.\")\n",
        "elif y == 0:\n",
        "    print(\"y is equal to 0.\")\n",
        "else:\n",
        "    print(\"y is less than 0.\")"
      ],
      "metadata": {
        "colab": {
          "base_uri": "https://localhost:8080/"
        },
        "id": "zSBRIM1hS4jV",
        "outputId": "83cb3876-c31f-49d9-a42f-9e8fd3d67e8a"
      },
      "execution_count": null,
      "outputs": [
        {
          "output_type": "stream",
          "name": "stdout",
          "text": [
            "y is greater than 0.\n"
          ]
        }
      ]
    },
    {
      "cell_type": "markdown",
      "source": [
        "3. Create a program that takes a student's score as input and prints the corresponding\n",
        "grade (A+, A, A- etc.) based on a predefined grading scale. Such as\n",
        "Input: 75\n",
        "Output: A"
      ],
      "metadata": {
        "id": "I0dhJxASTXiE"
      }
    },
    {
      "cell_type": "code",
      "source": [
        "score = int(input(\"Enter student's score :\"))\n",
        "\n",
        "if score >= 80:\n",
        "  print(\"A+\")\n",
        "elif score >= 75:\n",
        "  print(\"A\")\n",
        "elif score >= 70:\n",
        "  print(\"A-\")\n",
        "else:\n",
        "  print(\"F\")"
      ],
      "metadata": {
        "colab": {
          "base_uri": "https://localhost:8080/"
        },
        "id": "1E-vp-RwTU6N",
        "outputId": "89a98a8b-5352-4a49-8b8d-200999980a8c"
      },
      "execution_count": null,
      "outputs": [
        {
          "output_type": "stream",
          "name": "stdout",
          "text": [
            "Enter student's score :80\n",
            "A+\n"
          ]
        }
      ]
    },
    {
      "cell_type": "markdown",
      "source": [
        "4. Take a list as an input. Calculate the sum of the items of the list. And print the sum.\n",
        "Input: [1,2,4,5,7]\n",
        "Output: 19"
      ],
      "metadata": {
        "id": "wb_QyWk2Vloj"
      }
    },
    {
      "cell_type": "code",
      "source": [
        "input_str = input(\"Enter space-separated integers: \")\n",
        "num_list = [int(x) for x in input_str.split()]\n",
        "\n",
        "total_sum = 0\n",
        "for num in num_list:\n",
        "    total_sum += num\n",
        "print(f\"Sum: {total_sum}\")"
      ],
      "metadata": {
        "colab": {
          "base_uri": "https://localhost:8080/"
        },
        "id": "XvGMOuQ4WW09",
        "outputId": "fb3f1e27-c9b2-4382-9482-b7abe9404a87"
      },
      "execution_count": null,
      "outputs": [
        {
          "output_type": "stream",
          "name": "stdout",
          "text": [
            "Enter space-separated integers: 1 2 4 5 7\n",
            "Sum: 19\n"
          ]
        }
      ]
    },
    {
      "cell_type": "markdown",
      "source": [
        "5. Implement a login system where the user enters their username and password. Use\n",
        "if-else to verify the credentials and grant access if they are correct. Set the username\n",
        "and password manually. Then take the password again and if the password is correct\n",
        "then print “You have successfully logged in”, otherwise print password is incorrect."
      ],
      "metadata": {
        "id": "6KCDl7qeYbCe"
      }
    },
    {
      "cell_type": "code",
      "source": [
        "x = \"01959686288\"\n",
        "y = \"21201149\"\n",
        "\n",
        "input_username = input(\"Enter Username: \")\n",
        "input_password = input(\"Enter Password: \")\n",
        "\n",
        "if x == input_username and y == input_password:\n",
        "    print(\"You have successfully logged in.\")\n",
        "else:\n",
        "    print(\"Username or password is not correct.\")"
      ],
      "metadata": {
        "colab": {
          "base_uri": "https://localhost:8080/"
        },
        "id": "FfoqUlOtYRfk",
        "outputId": "8f48d0b2-d512-4e93-a398-b7870ed1cae8"
      },
      "execution_count": null,
      "outputs": [
        {
          "output_type": "stream",
          "name": "stdout",
          "text": [
            "Enter Username: 01959686288\n",
            "Enter Password: 21201149\n",
            "You have successfully logged in.\n"
          ]
        }
      ]
    },
    {
      "cell_type": "markdown",
      "source": [
        "6. Build a program that converts temperatures from Fahrenheit to Celsius. Include user\n",
        "input and appropriate messages for different temperature ranges.\n",
        "a. fahrenheit = celsius × (9/5) + 32\n",
        "b. celsius = (fahrenheit - 32) * 5 / 9"
      ],
      "metadata": {
        "id": "oy6U9uY1Ztue"
      }
    },
    {
      "cell_type": "code",
      "source": [
        "switch = int(input(\"Switch Case: \"))\n",
        "\n",
        "if switch == 1:\n",
        "    fahrenheit = int(input(\"Temperature in Fahrenheit: \"))\n",
        "    celsius = (fahrenheit - 32) * 5 / 9\n",
        "    if celsius < 10:\n",
        "        print(\"Onek Thanda!\")\n",
        "    elif 10 <= celsius <= 25:\n",
        "        print(\"Olpo Thanda!\")\n",
        "    else:\n",
        "        print(\"Onek Gorom!\")\n",
        "\n",
        "elif switch == 2:\n",
        "    celsius = float(input(\"Temperature in Celsius: \"))\n",
        "    fahrenheit = celsius * (9/5) + 32\n",
        "    if fahrenheit < 60:\n",
        "        print(\"Onek Thanda Thanda!\")\n",
        "    elif 60 <= fahrenheit <= 70:\n",
        "        print(\"Olpo Thanda Thanda!\")\n",
        "    else:\n",
        "        print(\"Onek Gorom Gorom!\")"
      ],
      "metadata": {
        "colab": {
          "base_uri": "https://localhost:8080/"
        },
        "id": "7hdhqmmjqTsJ",
        "outputId": "3e7bca90-48ac-48c4-e0f7-79bb4ab4a2d2"
      },
      "execution_count": null,
      "outputs": [
        {
          "output_type": "stream",
          "name": "stdout",
          "text": [
            "Switch Case: 1\n",
            "Temperature in Fahrenheit: 76\n",
            "Olpo Thanda!\n"
          ]
        }
      ]
    },
    {
      "cell_type": "markdown",
      "source": [
        "7. Develop a function to check if a given word or phrase is a palindrome. Use if-else to print\n",
        "the result.\n",
        "How to reverse string in python\n",
        "original_string = \"Hello, World!\"\n",
        "reversed_string = ''.join(reversed(original_string))"
      ],
      "metadata": {
        "id": "04uXp9YcbSv1"
      }
    },
    {
      "cell_type": "markdown",
      "source": [],
      "metadata": {
        "id": "PfIJYiOGdx6k"
      }
    },
    {
      "cell_type": "code",
      "source": [
        "original_string = \"kayak\"\n",
        "reversed_string = ''.join(reversed(original_string))\n",
        "print(reversed_string)"
      ],
      "metadata": {
        "colab": {
          "base_uri": "https://localhost:8080/"
        },
        "id": "1WiWnLQ_X5Xv",
        "outputId": "170474cd-9731-463b-d32e-96dd925231ff"
      },
      "execution_count": null,
      "outputs": [
        {
          "output_type": "stream",
          "name": "stdout",
          "text": [
            "kayak\n"
          ]
        }
      ]
    },
    {
      "cell_type": "code",
      "source": [
        "def is_palindrome(word):\n",
        "    original_string = \"kayak\"\n",
        "    reversed_word = ''.join(reversed(word))\n",
        "    return word == reversed_word\n",
        "\n",
        "if is_palindrome(original_string):\n",
        "    print(\"It's a palindrome!\")\n",
        "else:\n",
        "    print(\"It's not a palindrome.\")"
      ],
      "metadata": {
        "colab": {
          "base_uri": "https://localhost:8080/"
        },
        "id": "XkFj4Q9nfOJu",
        "outputId": "108a668a-6316-452b-bdd0-48c387b4f6b6"
      },
      "execution_count": null,
      "outputs": [
        {
          "output_type": "stream",
          "name": "stdout",
          "text": [
            "It's a palindrome!\n"
          ]
        }
      ]
    },
    {
      "cell_type": "markdown",
      "source": [
        "8. Create a function that counts the number of vowels in a given string. Use a for loop to\n",
        "iterate through each character."
      ],
      "metadata": {
        "id": "dKiSp8lUf4qe"
      }
    },
    {
      "cell_type": "code",
      "source": [
        "word = input(\"Enter a word: \")\n",
        "vowels = \"aeiouAEIOU\"\n",
        "count = 0\n",
        "\n",
        "for char in word:\n",
        "    if char in vowels:\n",
        "        count += 1\n",
        "\n",
        "print(f\"Number of vowels: {count}\")"
      ],
      "metadata": {
        "colab": {
          "base_uri": "https://localhost:8080/"
        },
        "id": "kvng4WLBfV08",
        "outputId": "6bebf6b8-2491-4f1a-cd73-9b2c75628083"
      },
      "execution_count": null,
      "outputs": [
        {
          "output_type": "stream",
          "name": "stdout",
          "text": [
            "Enter a word: Tasnim\n",
            "Number of vowels: 2\n"
          ]
        }
      ]
    },
    {
      "cell_type": "markdown",
      "source": [
        "9. Design a basic calculator which has basic operations like add, subtract, divide and\n",
        "multiply. First print a menu like : 1. Add 2. Sub 3. Multiply 4. Division , then take user\n",
        "input and then do the operation as according to the user."
      ],
      "metadata": {
        "id": "UQ63AB0egTN0"
      }
    },
    {
      "cell_type": "code",
      "source": [
        "switch = int(input(\"Switch Case: \"))\n",
        "num1 = float(input(\"Enter first number: \"))\n",
        "num2 = float(input(\"Enter second number: \"))\n",
        "\n",
        "if switch == 1:\n",
        "    result = num1 + num2\n",
        "elif switch == 2:\n",
        "    result = num1 - num2\n",
        "elif switch == 3:\n",
        "    result = num1 * num\n",
        "else:\n",
        "    result = num1 / num2\n",
        "\n",
        "print(f\"Result: {result}\")"
      ],
      "metadata": {
        "colab": {
          "base_uri": "https://localhost:8080/"
        },
        "id": "0YsKacIngTiE",
        "outputId": "1f8e30e5-e9cd-4c74-b1a4-444ce8a1820b"
      },
      "execution_count": null,
      "outputs": [
        {
          "output_type": "stream",
          "name": "stdout",
          "text": [
            "Switch Case: 1\n",
            "Enter first number: 2\n",
            "Enter second number: 3\n",
            "Result: 5.0\n"
          ]
        }
      ]
    },
    {
      "cell_type": "markdown",
      "source": [
        "10. Write a Python program that takes three numbers as input from the user and calculates\n",
        "their average. Display the result with two decimal places."
      ],
      "metadata": {
        "id": "D0VqhRW0hSFc"
      }
    },
    {
      "cell_type": "code",
      "source": [
        "a = float(input(\"Enter 1st number: \"))\n",
        "b = float(input(\"Enter 2nd number: \"))\n",
        "b = float(input(\"Enter 320rd number: \"))\n",
        "\n",
        "average = (a+b+c)/3\n",
        "average = \"{:.2f}\".format(average)\n",
        "print(average)"
      ],
      "metadata": {
        "colab": {
          "base_uri": "https://localhost:8080/"
        },
        "id": "Mes3I0QzhVZ8",
        "outputId": "9c209150-3cab-454d-efe4-7c2cc919dd00"
      },
      "execution_count": null,
      "outputs": [
        {
          "output_type": "stream",
          "name": "stdout",
          "text": [
            "Enter 1st number: 10\n",
            "Enter 2nd number: 20\n",
            "Enter 3rd number: 30\n",
            "20.00\n"
          ]
        }
      ]
    },
    {
      "cell_type": "markdown",
      "source": [
        "11. **Simple Project:** Simple To-Do List Create a simple to-do list application where users\n",
        "can add tasks, view tasks, and mark tasks as completed. The program should provide a menu with the following options:\n",
        "\n",
        "\n",
        "> **a.** Add a task.  **b.** View tasks. **c.** Mark a task as completed. **d.** Exit.\n",
        "\n"
      ],
      "metadata": {
        "id": "o-K9GcBHk5lC"
      }
    },
    {
      "cell_type": "code",
      "source": [
        "tasks = []\n",
        "completed_tasks = 0\n",
        "\n",
        "def display_menu():\n",
        "    print(\"--- Nishat's To-Do List ---\")\n",
        "    print(\"a. Add a task.\")\n",
        "    print(\"b. View tasks.\")\n",
        "    print(\"c. Mark the latest task as completed.\")\n",
        "    print(\"d. Exit.\")\n",
        "    print(\"\\n\")\n",
        "\n",
        "def add_task():\n",
        "    task = input(\"Nishat, what task would you like to add? \")\n",
        "    tasks.append(task)\n",
        "    print(\"Task added successfully!\")\n",
        "    print(\"\\n\")\n",
        "\n",
        "def view_tasks():\n",
        "    if tasks:\n",
        "        print(\"--- Nishat, here are your tasks for now: ---\")\n",
        "        for index, task in enumerate(tasks):\n",
        "            print(f\"{index + 1}. {task}\")\n",
        "        print(\"\\n\")\n",
        "    else:\n",
        "        print(\"You have no tasks now Nishat! Go Sleep!\")\n",
        "        print(\"\\n\")\n",
        "\n",
        "def mark_task_completed():\n",
        "    global completed_tasks\n",
        "    if tasks:\n",
        "        tasks.pop()\n",
        "        completed_tasks += 1\n",
        "        print(f\"Task completed! You've now completed {completed_tasks} tasks, Nishat. Keep up the good work!\")\n",
        "        print(\"\\n\")\n",
        "    else:\n",
        "        print(\"You have no more tasks to complete! Go Sleep!\")\n",
        "        print(\"\\n\")\n",
        "\n",
        "display_menu()\n",
        "\n",
        "while True:\n",
        "    choice = input(\"Nishat, what would you like to do? \")\n",
        "\n",
        "    if choice == 'a':\n",
        "        add_task()\n",
        "    elif choice == 'b':\n",
        "        view_tasks()\n",
        "    elif choice == 'c':\n",
        "        mark_task_completed()\n",
        "    elif choice == 'd':\n",
        "        break\n",
        "    else:\n",
        "        print(\"Invalid choice. Please try again.\")\n",
        "\n",
        "print(\"Bye Bye, Nishat! See you next time.\")"
      ],
      "metadata": {
        "id": "bzMR0FuXk3MU",
        "outputId": "b56f66e5-f63b-42cb-8a38-d19b9fa63dd1",
        "colab": {
          "base_uri": "https://localhost:8080/"
        }
      },
      "execution_count": null,
      "outputs": [
        {
          "output_type": "stream",
          "name": "stdout",
          "text": [
            "--- Nishat's To-Do List ---\n",
            "a. Add a task.\n",
            "b. View tasks.\n",
            "c. Mark the latest task as completed.\n",
            "d. Exit.\n",
            "\n",
            "\n",
            "Nishat, what would you like to do? a\n",
            "Nishat, what task would you like to add? Prepare for Python class test.\n",
            "Task added successfully!\n",
            "\n",
            "\n",
            "Nishat, what would you like to do? a\n",
            "Nishat, what task would you like to add? Prepare for Data Com. class test\n",
            "Task added successfully!\n",
            "\n",
            "\n",
            "Nishat, what would you like to do? a\n",
            "Nishat, what task would you like to add? Finish Data Com. lab report.\n",
            "Task added successfully!\n",
            "\n",
            "\n",
            "Nishat, what would you like to do? a\n",
            "Nishat, what task would you like to add? Finish SAD project proposal.\n",
            "Task added successfully!\n",
            "\n",
            "\n",
            "Nishat, what would you like to do? b\n",
            "--- Nishat, here are your tasks for now: ---\n",
            "1. Prepare for Python class test.\n",
            "2. Prepare for Data Com. class test\n",
            "3. Finish Data Com. lab report.\n",
            "4. Finish SAD project proposal.\n",
            "\n",
            "\n",
            "Nishat, what would you like to do? c\n",
            "Task completed! You've now completed 1 tasks, Nishat. Keep up the good work!\n",
            "\n",
            "\n",
            "Nishat, what would you like to do? c\n",
            "Task completed! You've now completed 2 tasks, Nishat. Keep up the good work!\n",
            "\n",
            "\n",
            "Nishat, what would you like to do? c\n",
            "Task completed! You've now completed 3 tasks, Nishat. Keep up the good work!\n",
            "\n",
            "\n",
            "Nishat, what would you like to do? c\n",
            "Task completed! You've now completed 4 tasks, Nishat. Keep up the good work!\n",
            "\n",
            "\n",
            "Nishat, what would you like to do? c\n",
            "You have no more tasks to complete! Go Sleep!\n",
            "\n",
            "\n",
            "Nishat, what would you like to do? d\n",
            "Bye Bye, Nishat! See you next time.\n"
          ]
        }
      ]
    },
    {
      "cell_type": "markdown",
      "source": [
        "**THE END**"
      ],
      "metadata": {
        "id": "r44HGNo8yQSl"
      }
    }
  ]
}