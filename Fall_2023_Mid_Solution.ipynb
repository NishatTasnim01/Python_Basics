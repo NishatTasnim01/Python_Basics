{
  "cells": [
    {
      "cell_type": "code",
      "source": [
        "#1a\n",
        "def fun(*a):\n",
        "  return sum(a)/len(a), sum(a)\n",
        "\n",
        "fun(1,2)"
      ],
      "metadata": {
        "colab": {
          "base_uri": "https://localhost:8080/"
        },
        "id": "xR2RnS2uOAAO",
        "outputId": "c56a91f6-3b88-4e9c-bde4-0721520aeebe"
      },
      "execution_count": null,
      "outputs": [
        {
          "output_type": "execute_result",
          "data": {
            "text/plain": [
              "(1.5, 3)"
            ]
          },
          "metadata": {},
          "execution_count": 1
        }
      ]
    },
    {
      "cell_type": "code",
      "source": [
        "addition = 0\n",
        "my_list = [1, 2, 3, 4, 5, 6, 7, 8, 9, 10]\n",
        "output = my_list[-2:-9:-2]\n",
        "print(output)\n",
        "for i in output:\n",
        "    if(i/2 == 0):\n",
        "         addition += i\n",
        "\n",
        "print(addition)\n"
      ],
      "metadata": {
        "colab": {
          "base_uri": "https://localhost:8080/"
        },
        "id": "3LkHD6RLOPI2",
        "outputId": "bffbdc81-879f-459f-880d-5b202103d99f"
      },
      "execution_count": null,
      "outputs": [
        {
          "output_type": "stream",
          "name": "stdout",
          "text": [
            "[9, 7, 5, 3]\n",
            "0\n"
          ]
        }
      ]
    },
    {
      "cell_type": "markdown",
      "source": [
        "#2\n",
        "\n",
        "<table border=\"1\">\n",
        "    <thead>\n",
        "        <tr>\n",
        "            <td>Serial No.</td>\n",
        "            <td>Product Name</td>\n",
        "            <td>Product Price</td>\n",
        "        </tr>\n",
        "    </thead>\n",
        "    <tbody>\n",
        "        <tr>\n",
        "            <td>1</td>\n",
        "            <td>Rice</td>\n",
        "            <td>150</td>\n",
        "        </tr>\n",
        "        <tr>\n",
        "            <td>2</td>\n",
        "            <td>Meat</td>\n",
        "            <td>350</td>\n",
        "        </tr>\n",
        "        <tr>\n",
        "            <td colspan=\"2\"><strong>Total</strong></td>\n",
        "            <td>500</td>\n",
        "        </tr>\n",
        "    </tbody>\n",
        "</table>\n",
        "\n",
        "```html\n",
        "<table border=\"1\">\n",
        "    <thead>\n",
        "        <tr>\n",
        "            <td>Serial No.</td>\n",
        "            <td>Product Name</td>\n",
        "            <td>Product Price</td>\n",
        "        </tr>\n",
        "    </thead>\n",
        "    <tbody>\n",
        "        <tr>\n",
        "            <td>1</td>\n",
        "            <td>Rice</td>\n",
        "            <td>150</td>\n",
        "        </tr>\n",
        "        <tr>\n",
        "            <td>2</td>\n",
        "            <td>Meat</td>\n",
        "            <td>350</td>\n",
        "        </tr>\n",
        "        <tr>\n",
        "            <td colspan=\"2\"><strong>Total</strong></td>\n",
        "            <td>500</td>\n",
        "        </tr>\n",
        "    </tbody>\n",
        "</table>\n",
        "```\n",
        "\n",
        "\n"
      ],
      "metadata": {
        "id": "yFCIgmVKPvn_"
      }
    },
    {
      "cell_type": "code",
      "source": [
        "#3\n",
        "class Vehicle:\n",
        "    def __init__(self, brand, model, year):\n",
        "        self.brand = brand\n",
        "        self.model = model\n",
        "        self.year = year\n",
        "\n",
        "    def describe(self):\n",
        "        return f\"This vehicle is a {self.year} {self.brand} {self.model}.\"\n",
        "\n",
        "\n",
        "class Car(Vehicle):\n",
        "    def __init__(self, brand, model, year, mileage, color, price):\n",
        "        super().__init__(brand, model, year)\n",
        "        self.mileage = mileage\n",
        "        self.color = color\n",
        "        self.price = price\n",
        "\n",
        "    def calculate_mileage(self):\n",
        "        return f\"The mileage of the car is {self.mileage} miles per gallon.\"\n",
        "\n",
        "\n",
        "# Example usage:\n",
        "my_car = Car(\"Toyota\", \"Camry\", 2020, 30, \"white\", 500000)\n",
        "print(my_car.describe())\n",
        "print(my_car.calculate_mileage())\n"
      ],
      "metadata": {
        "colab": {
          "base_uri": "https://localhost:8080/"
        },
        "id": "dwUXBpk1OPwe",
        "outputId": "2458804c-b0a3-412f-8f83-b55d0c9a99c8"
      },
      "execution_count": null,
      "outputs": [
        {
          "output_type": "stream",
          "name": "stdout",
          "text": [
            "This vehicle is a 2020 Toyota Camry.\n",
            "The mileage of the car is 30 miles per gallon.\n"
          ]
        }
      ]
    }
  ],
  "metadata": {
    "colab": {
      "provenance": []
    },
    "kernelspec": {
      "display_name": "Python 3",
      "name": "python3"
    },
    "language_info": {
      "name": "python"
    }
  },
  "nbformat": 4,
  "nbformat_minor": 0
}