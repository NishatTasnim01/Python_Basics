{
  "nbformat": 4,
  "nbformat_minor": 0,
  "metadata": {
    "colab": {
      "provenance": []
    },
    "kernelspec": {
      "name": "python3",
      "display_name": "Python 3"
    },
    "language_info": {
      "name": "python"
    }
  },
  "cells": [
    {
      "cell_type": "code",
      "execution_count": null,
      "metadata": {
        "colab": {
          "base_uri": "https://localhost:8080/"
        },
        "id": "VXwQJlOr6b-k",
        "outputId": "4107796a-275b-4a23-b4c6-10358a09b4b1"
      },
      "outputs": [
        {
          "output_type": "stream",
          "name": "stdout",
          "text": [
            "20\n",
            "26\n",
            "0\n",
            "5\n",
            "31\n",
            "32\n"
          ]
        }
      ],
      "source": [
        "class Player:\n",
        "  team_score = 0 #static variable or class variable\n",
        "\n",
        "  def __init__(self, run = 0):\n",
        "    self.run = run\n",
        "    Player.team_score += run\n",
        "\n",
        "\n",
        "  def hit_four(self):\n",
        "    self.run +=4\n",
        "    Player.team_score += 4\n",
        "\n",
        "  def hit_single(self):\n",
        "    self.run += 1\n",
        "    Player.team_score += 1\n",
        "\n",
        "\n",
        "  def hit_six(self):\n",
        "    self.run += 6\n",
        "    Player.team_score += 6\n",
        "\n",
        "p1 = Player(20)\n",
        "print(p1.run)\n",
        "p1.hit_six()\n",
        "print(p1.run)\n",
        "\n",
        "p2 = Player()\n",
        "print(p2.run)\n",
        "p2.hit_four()\n",
        "p2.hit_single()\n",
        "print(p2.run)\n",
        "\n",
        "print(p1.team_score)\n",
        "p2.hit_single()\n",
        "print(p2.team_score)"
      ]
    },
    {
      "cell_type": "markdown",
      "source": [
        "Define a transaction class. which have a static variable called total_no_of_transaction .\n",
        "This class will contain 3 methods including init method. Other two methods could be person1_tran and person2_tran . While we call the methods, it will increase the transaction no with 1."
      ],
      "metadata": {
        "id": "8VCtSjJd-vzO"
      }
    },
    {
      "cell_type": "code",
      "source": [
        "class Transaction:\n",
        "  total_no_of_transaction  = 0\n",
        "\n",
        "  def __init__(self,no_of_tran):\n",
        "    self.no_of_tran = no_of_tran\n",
        "    Transaction.total_no_of_transaction += no_of_tran\n",
        "\n",
        "  def person_1(self):\n",
        "    self.no_of_tran += 1\n",
        "    Transaction.total_no_of_transaction += 1\n",
        "\n",
        "  def person_2(self):\n",
        "    self.no_of_tran += 1\n",
        "    Transaction.total_no_of_transaction += 1\n",
        "\n",
        "\n",
        "\n"
      ],
      "metadata": {
        "id": "rGoIaGRxCC0z"
      },
      "execution_count": null,
      "outputs": []
    },
    {
      "cell_type": "code",
      "source": [
        "class Student:\n",
        "  def __init__(self, name):\n",
        "    self.name = name\n",
        "    self.__cgpa = 0.0\n",
        "\n",
        "  def __update(self, new_cgpa):\n",
        "    self.__cgpa = new_cgpa\n",
        "\n",
        "  def set_cgpa(self, cgpa):\n",
        "    self.__update(cgpa)\n",
        "\n",
        "  def get_cgpa(self):\n",
        "    print(self.__cgpa)\n",
        "\n",
        "\n",
        "s1 = Student('Bob')\n",
        "print(s1.name)\n",
        "s1.set_cgpa(3.5)\n",
        "s1.get_cgpa()\n",
        "\n",
        "\n"
      ],
      "metadata": {
        "colab": {
          "base_uri": "https://localhost:8080/"
        },
        "id": "7Ak-CwIFC_Tq",
        "outputId": "daf83d2b-7cc6-4076-b14e-7be8e8370a01"
      },
      "execution_count": null,
      "outputs": [
        {
          "output_type": "stream",
          "name": "stdout",
          "text": [
            "Bob\n",
            "3.5\n"
          ]
        }
      ]
    }
  ]
}