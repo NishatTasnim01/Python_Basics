{
  "nbformat": 4,
  "nbformat_minor": 0,
  "metadata": {
    "colab": {
      "provenance": []
    },
    "kernelspec": {
      "name": "python3",
      "display_name": "Python 3"
    },
    "language_info": {
      "name": "python"
    }
  },
  "cells": [
    {
      "cell_type": "markdown",
      "source": [
        "# Dictionary  ⏭\n"
      ],
      "metadata": {
        "id": "UzcGyMeZ_o3P"
      }
    },
    {
      "cell_type": "code",
      "execution_count": null,
      "metadata": {
        "id": "5ZTI42bQ_now"
      },
      "outputs": [],
      "source": [
        "dictionary = {}  # empty dictionary\n",
        "students = {'01': 'Afiah', '02': 'Sumaiya', '03': 'ShIfat', 4:'Redwan',5: [1,2,5]}\n"
      ]
    },
    {
      "cell_type": "code",
      "source": [
        "print(students)"
      ],
      "metadata": {
        "colab": {
          "base_uri": "https://localhost:8080/"
        },
        "id": "jTxOZXPwSug0",
        "outputId": "301ed73b-565c-46c0-b1ad-34b06653af8d"
      },
      "execution_count": null,
      "outputs": [
        {
          "output_type": "stream",
          "name": "stdout",
          "text": [
            "{'01': 'Afiah', '02': 'Sumaiya', '03': 'ShIfat', 4: 'Redwan', 5: [1, 2, 5]}\n"
          ]
        }
      ]
    },
    {
      "cell_type": "code",
      "source": [
        "length = len(students)\n",
        "print(length)"
      ],
      "metadata": {
        "colab": {
          "base_uri": "https://localhost:8080/"
        },
        "id": "TosmUm7wD0CD",
        "outputId": "dcdccaba-b6cf-4f10-fb86-e9ee2b08477e"
      },
      "execution_count": null,
      "outputs": [
        {
          "output_type": "stream",
          "name": "stdout",
          "text": [
            "5\n"
          ]
        }
      ]
    },
    {
      "cell_type": "code",
      "source": [
        "value = students['01']\n",
        "print(value)"
      ],
      "metadata": {
        "colab": {
          "base_uri": "https://localhost:8080/"
        },
        "id": "HP-Oa8Rp_oWT",
        "outputId": "b2dab8e6-e38d-4dea-b292-6d046800189e"
      },
      "execution_count": null,
      "outputs": [
        {
          "output_type": "stream",
          "name": "stdout",
          "text": [
            "Afiah\n"
          ]
        }
      ]
    },
    {
      "cell_type": "code",
      "source": [
        "print(students['04'])"
      ],
      "metadata": {
        "colab": {
          "base_uri": "https://localhost:8080/"
        },
        "id": "G06kburBAXu2",
        "outputId": "5d0a870f-87ba-4aef-e069-a7dce6e6ec68"
      },
      "execution_count": null,
      "outputs": [
        {
          "output_type": "stream",
          "name": "stdout",
          "text": [
            "Redwan\n"
          ]
        }
      ]
    },
    {
      "cell_type": "code",
      "source": [
        "print(students.get(5))"
      ],
      "metadata": {
        "colab": {
          "base_uri": "https://localhost:8080/"
        },
        "id": "kA7MX3r0Ak7C",
        "outputId": "ee448cba-3c08-4411-ee5f-ab593c651fa7"
      },
      "execution_count": null,
      "outputs": [
        {
          "output_type": "stream",
          "name": "stdout",
          "text": [
            "[1, 2, 5]\n"
          ]
        }
      ]
    },
    {
      "cell_type": "code",
      "source": [
        "print(students.get(6))"
      ],
      "metadata": {
        "colab": {
          "base_uri": "https://localhost:8080/"
        },
        "id": "DzC6Dz4nTZq5",
        "outputId": "1f89f35d-c1ea-44d0-88e9-44825212de1a"
      },
      "execution_count": null,
      "outputs": [
        {
          "output_type": "stream",
          "name": "stdout",
          "text": [
            "None\n"
          ]
        }
      ]
    },
    {
      "cell_type": "code",
      "source": [
        "students[5] = 'Ashrafi'"
      ],
      "metadata": {
        "id": "7x0crya6AOKL"
      },
      "execution_count": null,
      "outputs": []
    },
    {
      "cell_type": "code",
      "source": [
        "print(students)"
      ],
      "metadata": {
        "colab": {
          "base_uri": "https://localhost:8080/"
        },
        "id": "KwkunQCLT5Yp",
        "outputId": "4b081f0d-f093-4ab0-e084-2144a65e6cc9"
      },
      "execution_count": null,
      "outputs": [
        {
          "output_type": "stream",
          "name": "stdout",
          "text": [
            "{'01': 'Afiah', '02': 'Sumaiya', '03': 'ShIfat', 4: 'Redwan', 5: 'Ashrafi'}\n"
          ]
        }
      ]
    },
    {
      "cell_type": "code",
      "source": [
        "students['06'] = 'Arafat'\n"
      ],
      "metadata": {
        "id": "NnbrY64-Ak98"
      },
      "execution_count": null,
      "outputs": []
    },
    {
      "cell_type": "code",
      "source": [
        "students"
      ],
      "metadata": {
        "colab": {
          "base_uri": "https://localhost:8080/"
        },
        "id": "HSc2ZNzUsABI",
        "outputId": "3e8841a5-457b-4549-eda4-568ad2743494"
      },
      "execution_count": null,
      "outputs": [
        {
          "output_type": "execute_result",
          "data": {
            "text/plain": [
              "{'01': 'Afiah',\n",
              " '02': 'Sumaiya',\n",
              " '03': 'ShIfat',\n",
              " 4: 'Redwan',\n",
              " 5: 'Ashrafi',\n",
              " '06': 'Arafat'}"
            ]
          },
          "metadata": {},
          "execution_count": 70
        }
      ]
    },
    {
      "cell_type": "code",
      "source": [
        "students['06'] = \"Shoron\"\n",
        "print(students)"
      ],
      "metadata": {
        "colab": {
          "base_uri": "https://localhost:8080/"
        },
        "id": "CdPJOjyHsDwF",
        "outputId": "88b62e9a-1e66-4704-b889-d7e44546188f"
      },
      "execution_count": null,
      "outputs": [
        {
          "output_type": "stream",
          "name": "stdout",
          "text": [
            "{'01': 'Afiah', '02': 'Sumaiya', '03': 'ShIfat', 4: 'Redwan', 5: 'Ashrafi', '06': 'Shoron'}\n"
          ]
        }
      ]
    },
    {
      "cell_type": "code",
      "source": [
        "if '0100' in students:\n",
        "    print(students['01'])\n",
        "else:\n",
        "    print('Studet does not exist')"
      ],
      "metadata": {
        "colab": {
          "base_uri": "https://localhost:8080/"
        },
        "id": "fcUgsBPFAlBc",
        "outputId": "b29a7545-dc57-4be8-9ea1-403157fe2adf"
      },
      "execution_count": null,
      "outputs": [
        {
          "output_type": "stream",
          "name": "stdout",
          "text": [
            "Studet does not exist\n"
          ]
        }
      ]
    },
    {
      "cell_type": "code",
      "source": [
        "key = students.keys()\n",
        "value = students.values()\n",
        "for i in key:\n",
        "  print(i)\n",
        "\n",
        "for j in value:\n",
        "  print(j)\n",
        "\n",
        "print(key)\n",
        "print(value)"
      ],
      "metadata": {
        "colab": {
          "base_uri": "https://localhost:8080/"
        },
        "id": "n1tLdC_gAONE",
        "outputId": "19bdbeae-68b7-4693-bc3c-7a0ab45597c3"
      },
      "execution_count": null,
      "outputs": [
        {
          "output_type": "stream",
          "name": "stdout",
          "text": [
            "01\n",
            "02\n",
            "03\n",
            "4\n",
            "5\n",
            "06\n",
            "Afiah\n",
            "Sumaiya\n",
            "ShIfat\n",
            "Redwan\n",
            "Ashrafi\n",
            "Shoron\n",
            "dict_keys(['01', '02', '03', 4, 5, '06'])\n",
            "dict_values(['Afiah', 'Sumaiya', 'ShIfat', 'Redwan', 'Ashrafi', 'Shoron'])\n"
          ]
        }
      ]
    },
    {
      "cell_type": "code",
      "source": [
        "items = students.items()\n",
        "print(items)\n"
      ],
      "metadata": {
        "colab": {
          "base_uri": "https://localhost:8080/"
        },
        "id": "cju5INHvAOP3",
        "outputId": "4a4a40be-e8dd-452e-941c-40aa9b0e553f"
      },
      "execution_count": null,
      "outputs": [
        {
          "output_type": "stream",
          "name": "stdout",
          "text": [
            "dict_items([('01', 'Afiah'), ('02', 'Sumaiya'), ('03', 'ShIfat'), (4, 'Redwan'), (5, 'Ashrafi'), ('06', 'Shoron')])\n"
          ]
        }
      ]
    },
    {
      "cell_type": "code",
      "source": [
        "for key in students:\n",
        "    print(key,students[key])\n"
      ],
      "metadata": {
        "colab": {
          "base_uri": "https://localhost:8080/"
        },
        "id": "mrYwb6w5DI7Q",
        "outputId": "4b4c51a4-4d67-4f8e-a671-79610d71a864"
      },
      "execution_count": null,
      "outputs": [
        {
          "output_type": "stream",
          "name": "stdout",
          "text": [
            "01 Nazneen\n",
            "02 Nishat\n",
            "03 Maruf\n",
            "4 Nayeem\n",
            "5 Ashik\n",
            "06 Arafat\n"
          ]
        }
      ]
    },
    {
      "cell_type": "code",
      "source": [
        "for key, value in students.items():\n",
        "    print(f'{key} and corresponding values are {value}')\n"
      ],
      "metadata": {
        "colab": {
          "base_uri": "https://localhost:8080/"
        },
        "id": "8J-NiMEFDUZ2",
        "outputId": "c6422e6e-9052-4385-9204-f6f8333d9a6a"
      },
      "execution_count": null,
      "outputs": [
        {
          "output_type": "stream",
          "name": "stdout",
          "text": [
            "01 and corresponding values are Nazneen\n",
            "02 and corresponding values are Nishat\n",
            "03 and corresponding values are Maruf\n",
            "4 and corresponding values are Nayeem\n",
            "5 and corresponding values are Ashik\n",
            "06 and corresponding values are Arafat\n"
          ]
        }
      ]
    },
    {
      "cell_type": "code",
      "source": [
        "new_dict = students.copy()\n",
        "print(new_dict)"
      ],
      "metadata": {
        "colab": {
          "base_uri": "https://localhost:8080/"
        },
        "id": "Z2KqI9J3DeIB",
        "outputId": "e46fffd3-ca24-4bfc-bc1d-3d40b324f785"
      },
      "execution_count": null,
      "outputs": [
        {
          "output_type": "stream",
          "name": "stdout",
          "text": [
            "{'01': 'Afiah', '02': 'Sumaiya', '03': 'ShIfat', 4: 'Redwan', 5: 'Ashrafi', '06': 'Shoron'}\n"
          ]
        }
      ]
    },
    {
      "cell_type": "code",
      "source": [
        "new_dict.clear()\n"
      ],
      "metadata": {
        "id": "1Ftr-0cREAt6"
      },
      "execution_count": null,
      "outputs": []
    },
    {
      "cell_type": "code",
      "source": [
        "print(new_dict)"
      ],
      "metadata": {
        "colab": {
          "base_uri": "https://localhost:8080/"
        },
        "id": "TxDP6Us5VwO0",
        "outputId": "8443acbd-bbec-49d0-a868-68bd08f4d1ac"
      },
      "execution_count": null,
      "outputs": [
        {
          "output_type": "stream",
          "name": "stdout",
          "text": [
            "{}\n"
          ]
        }
      ]
    },
    {
      "cell_type": "code",
      "source": [
        "students_1 = {\"21202210\": \"student1\",\n",
        "          \"21202211\": \"student2\",\n",
        "          \"21202212\": \"student3\"\n",
        "}\n",
        "merged_dict = {**students_1, **students}\n"
      ],
      "metadata": {
        "id": "Dm4i4TVJEFFV"
      },
      "execution_count": null,
      "outputs": []
    },
    {
      "cell_type": "code",
      "source": [
        "print(merged_dict)"
      ],
      "metadata": {
        "colab": {
          "base_uri": "https://localhost:8080/"
        },
        "id": "JtUvCUSwEhtk",
        "outputId": "39e2d7d2-5b0e-4630-80dc-4484d0c58729"
      },
      "execution_count": null,
      "outputs": [
        {
          "output_type": "stream",
          "name": "stdout",
          "text": [
            "{'21202210': 'student1', '21202211': 'student2', '21202212': 'student3', '01': 'Afiah', '02': 'Sumaiya', '03': 'ShIfat', 4: 'Redwan', 5: 'Ashrafi', '06': 'Shoron'}\n"
          ]
        }
      ]
    },
    {
      "cell_type": "code",
      "source": [
        "new_dictionary = students_1 + students"
      ],
      "metadata": {
        "colab": {
          "base_uri": "https://localhost:8080/",
          "height": 175
        },
        "id": "I7gsSUcwWC37",
        "outputId": "647b8692-81ae-4084-9126-8c5076b18306"
      },
      "execution_count": null,
      "outputs": [
        {
          "output_type": "error",
          "ename": "TypeError",
          "evalue": "unsupported operand type(s) for +: 'dict' and 'dict'",
          "traceback": [
            "\u001b[0;31m---------------------------------------------------------------------------\u001b[0m",
            "\u001b[0;31mTypeError\u001b[0m                                 Traceback (most recent call last)",
            "\u001b[0;32m<ipython-input-82-8b164ec5cc6c>\u001b[0m in \u001b[0;36m<cell line: 1>\u001b[0;34m()\u001b[0m\n\u001b[0;32m----> 1\u001b[0;31m \u001b[0mnew_dictionary\u001b[0m \u001b[0;34m=\u001b[0m \u001b[0mstudents_1\u001b[0m \u001b[0;34m+\u001b[0m \u001b[0mstudents\u001b[0m\u001b[0;34m\u001b[0m\u001b[0;34m\u001b[0m\u001b[0m\n\u001b[0m",
            "\u001b[0;31mTypeError\u001b[0m: unsupported operand type(s) for +: 'dict' and 'dict'"
          ]
        }
      ]
    },
    {
      "cell_type": "code",
      "source": [
        "students.update({'07': 'Soma'})\n",
        "students['08'] = 'zidni'"
      ],
      "metadata": {
        "id": "o5o269tnEmv3"
      },
      "execution_count": null,
      "outputs": []
    },
    {
      "cell_type": "code",
      "source": [
        "print(students)"
      ],
      "metadata": {
        "colab": {
          "base_uri": "https://localhost:8080/"
        },
        "id": "uPqY4q6VGK0O",
        "outputId": "438d55d4-b422-428a-daa2-433e7c9c5ef3"
      },
      "execution_count": null,
      "outputs": [
        {
          "output_type": "stream",
          "name": "stdout",
          "text": [
            "{'01': 'Afiah', '02': 'Sumaiya', '03': 'ShIfat', 4: 'Redwan', 5: 'Ashrafi', '06': 'Shoron', '07': 'Soma', '08': 'zidni'}\n"
          ]
        }
      ]
    },
    {
      "cell_type": "code",
      "source": [
        "students.pop(\"01\")"
      ],
      "metadata": {
        "colab": {
          "base_uri": "https://localhost:8080/",
          "height": 36
        },
        "id": "H7J-9azlGL_u",
        "outputId": "6715b4ae-d852-4a83-ecfb-ab4093b44cd2"
      },
      "execution_count": null,
      "outputs": [
        {
          "output_type": "execute_result",
          "data": {
            "text/plain": [
              "'Afiah'"
            ],
            "application/vnd.google.colaboratory.intrinsic+json": {
              "type": "string"
            }
          },
          "metadata": {},
          "execution_count": 85
        }
      ]
    },
    {
      "cell_type": "code",
      "source": [
        "print(students)"
      ],
      "metadata": {
        "colab": {
          "base_uri": "https://localhost:8080/"
        },
        "id": "O1NlC2uUGU7U",
        "outputId": "ef1c6fce-315f-420a-eff2-168214611428"
      },
      "execution_count": null,
      "outputs": [
        {
          "output_type": "stream",
          "name": "stdout",
          "text": [
            "{'02': 'Sumaiya', '03': 'ShIfat', 4: 'Redwan', 5: 'Ashrafi', '06': 'Shoron', '07': 'Soma', '08': 'zidni'}\n"
          ]
        }
      ]
    },
    {
      "cell_type": "code",
      "source": [
        "students.popitem()"
      ],
      "metadata": {
        "colab": {
          "base_uri": "https://localhost:8080/"
        },
        "id": "yGJFu03eGXBm",
        "outputId": "3eddf311-0732-4fba-9c87-225045ef784c"
      },
      "execution_count": null,
      "outputs": [
        {
          "output_type": "execute_result",
          "data": {
            "text/plain": [
              "('08', 'zidni')"
            ]
          },
          "metadata": {},
          "execution_count": 87
        }
      ]
    },
    {
      "cell_type": "code",
      "source": [
        "print(students)"
      ],
      "metadata": {
        "colab": {
          "base_uri": "https://localhost:8080/"
        },
        "id": "HOav6BfyGhBo",
        "outputId": "832a9976-468b-4c03-e782-6c0c42bfd880"
      },
      "execution_count": null,
      "outputs": [
        {
          "output_type": "stream",
          "name": "stdout",
          "text": [
            "{'02': 'Sumaiya', '03': 'ShIfat', 4: 'Redwan', 5: 'Ashrafi', '06': 'Shoron', '07': 'Soma'}\n"
          ]
        }
      ]
    },
    {
      "cell_type": "code",
      "source": [
        "print(students)"
      ],
      "metadata": {
        "id": "cYWfAWpdGhE-",
        "colab": {
          "base_uri": "https://localhost:8080/"
        },
        "outputId": "3da9930a-1587-45ab-c28a-b1e7abce2c8b"
      },
      "execution_count": null,
      "outputs": [
        {
          "output_type": "stream",
          "name": "stdout",
          "text": [
            "{'02': 'Nishat', '03': 'Maruf', 4: 'Nayeem', 5: 'Ashik', '06': 'Arafat'}\n"
          ]
        }
      ]
    },
    {
      "cell_type": "markdown",
      "source": [
        "# Function:"
      ],
      "metadata": {
        "id": "KXHRwWQrILOY"
      }
    },
    {
      "cell_type": "code",
      "source": [
        "def func():\n",
        "  pass\n",
        "\n",
        "func()"
      ],
      "metadata": {
        "id": "r86U6cgDIan7"
      },
      "execution_count": null,
      "outputs": []
    },
    {
      "cell_type": "code",
      "source": [
        "def hello_func():\n",
        "  print(\"Hey! I am from the fuction\")\n",
        "\n",
        "hello_func()"
      ],
      "metadata": {
        "colab": {
          "base_uri": "https://localhost:8080/"
        },
        "id": "ZrVkmsN8Iasl",
        "outputId": "34a6bd56-99db-44ef-c14c-b41ce5b64fe7"
      },
      "execution_count": null,
      "outputs": [
        {
          "output_type": "stream",
          "name": "stdout",
          "text": [
            "Hey! I am from the fuction\n"
          ]
        }
      ]
    },
    {
      "cell_type": "code",
      "source": [
        "def hello_func():\n",
        "  return \"Hey! I am from the fuction\"\n",
        "\n",
        "string = hello_func()\n",
        "print(string)\n",
        "\n",
        "#print(hello_func())"
      ],
      "metadata": {
        "colab": {
          "base_uri": "https://localhost:8080/"
        },
        "id": "f5ea5lDnNk74",
        "outputId": "27c6072e-592b-4aeb-85ce-9c72f9c0d16c"
      },
      "execution_count": null,
      "outputs": [
        {
          "output_type": "stream",
          "name": "stdout",
          "text": [
            "Hey! I am from the fuction\n"
          ]
        }
      ]
    },
    {
      "cell_type": "code",
      "source": [
        "def hey_func(str_1='hi'):\n",
        "  print(f'{str_1}! good to see you')\n",
        "\n",
        "\n",
        "hey_func(\"Hello\")"
      ],
      "metadata": {
        "colab": {
          "base_uri": "https://localhost:8080/"
        },
        "id": "l_IVRuc6OINt",
        "outputId": "3e833d16-53bb-4a5e-8575-4329ccb8f893"
      },
      "execution_count": null,
      "outputs": [
        {
          "output_type": "stream",
          "name": "stdout",
          "text": [
            "Hello! good to see you\n"
          ]
        }
      ]
    },
    {
      "cell_type": "code",
      "source": [
        "def name_func(text='Hey', name = \"default name\"):\n",
        "  print(f'{text} {name}! good to see you')\n",
        "\n",
        "\n",
        "name_func(name = \"Afiah\")"
      ],
      "metadata": {
        "colab": {
          "base_uri": "https://localhost:8080/"
        },
        "id": "kzULeRdwOyzN",
        "outputId": "a81031ee-8c5d-402e-f426-5e1b326ed2a6"
      },
      "execution_count": null,
      "outputs": [
        {
          "output_type": "stream",
          "name": "stdout",
          "text": [
            "Hey Afiah! good to see you\n"
          ]
        }
      ]
    },
    {
      "cell_type": "code",
      "source": [
        "def add(a=0,b=0):\n",
        "  return a+b\n",
        "\n",
        "a, b= 10, 15\n",
        "var = add(a, b)\n",
        "print(var)"
      ],
      "metadata": {
        "id": "G03yEjpEPN4y",
        "colab": {
          "base_uri": "https://localhost:8080/"
        },
        "outputId": "7d03a980-4674-4bb6-9293-45a37fb8b769"
      },
      "execution_count": null,
      "outputs": [
        {
          "output_type": "stream",
          "name": "stdout",
          "text": [
            "25\n"
          ]
        }
      ]
    },
    {
      "cell_type": "code",
      "source": [
        "def func(lst):\n",
        "  return sum(lst)\n",
        "\n",
        "\n",
        "lst  = [1,2.3,5]\n",
        "var = func(lst)\n",
        "print(var)"
      ],
      "metadata": {
        "colab": {
          "base_uri": "https://localhost:8080/"
        },
        "id": "tRYgM2aXxnKB",
        "outputId": "4a665e0a-5517-4aa1-db7c-682eabb4cf09"
      },
      "execution_count": null,
      "outputs": [
        {
          "output_type": "stream",
          "name": "stdout",
          "text": [
            "8.3\n"
          ]
        }
      ]
    },
    {
      "cell_type": "code",
      "source": [
        "def addition(lst):\n",
        "  sum = 0\n",
        "  for i in lst:\n",
        "    sum = sum+i\n",
        "  return sum\n",
        "\n",
        "def average(a, len):\n",
        "  avr = a/len\n",
        "  return avr\n",
        "\n",
        "\n",
        "list_1 = [10,30,12,23]\n",
        "variable_1 = addition(list_1)\n",
        "avg = average(variable_1, len(list_1))\n",
        "\n",
        "print(variable_1)\n",
        "print(avg)\n"
      ],
      "metadata": {
        "colab": {
          "base_uri": "https://localhost:8080/"
        },
        "id": "PzWUOJdtdO8Z",
        "outputId": "bea00b1a-a126-4f68-d8b9-aec61b0a8c29"
      },
      "execution_count": null,
      "outputs": [
        {
          "output_type": "stream",
          "name": "stdout",
          "text": [
            "75\n",
            "18.75\n"
          ]
        }
      ]
    },
    {
      "cell_type": "markdown",
      "source": [
        "**THE END**"
      ],
      "metadata": {
        "id": "oSU5OkMWxgUU"
      }
    }
  ]
}