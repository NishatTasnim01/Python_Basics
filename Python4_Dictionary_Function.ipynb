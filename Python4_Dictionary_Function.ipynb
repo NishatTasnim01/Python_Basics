{
  "nbformat": 4,
  "nbformat_minor": 0,
  "metadata": {
    "colab": {
      "provenance": []
    },
    "kernelspec": {
      "name": "python3",
      "display_name": "Python 3"
    },
    "language_info": {
      "name": "python"
    }
  },
  "cells": [
    {
      "cell_type": "markdown",
      "source": [
        "## **Tuple Dictionary Operations in Python:**\n"
      ],
      "metadata": {
        "id": "UzcGyMeZ_o3P"
      }
    },
    {
      "cell_type": "markdown",
      "source": [
        "**Dictionary Declaration and Printing:**"
      ],
      "metadata": {
        "id": "IuUkIYaluX1y"
      }
    },
    {
      "cell_type": "code",
      "execution_count": 1,
      "metadata": {
        "id": "5ZTI42bQ_now"
      },
      "outputs": [],
      "source": [
        "dictionary = {}  # empty dictionary\n",
        "students = {'01': 'Nahida', '02': 'Afrin', '03': 'Samira', 4:'Niha',5: [1,2,5]}"
      ]
    },
    {
      "cell_type": "code",
      "source": [
        "print(students)"
      ],
      "metadata": {
        "colab": {
          "base_uri": "https://localhost:8080/"
        },
        "id": "jTxOZXPwSug0",
        "outputId": "e2a99792-f66b-4361-b0f9-1b4e5fb9612e"
      },
      "execution_count": 2,
      "outputs": [
        {
          "output_type": "stream",
          "name": "stdout",
          "text": [
            "{'01': 'Nahida', '02': 'Afrin', '03': 'Samira', 4: 'Niha', 5: [1, 2, 5]}\n"
          ]
        }
      ]
    },
    {
      "cell_type": "markdown",
      "source": [
        "**Dictionary Length and Accessing Values:**"
      ],
      "metadata": {
        "id": "vwHVDhs0wIMD"
      }
    },
    {
      "cell_type": "code",
      "source": [
        "length = len(students)\n",
        "print(length)"
      ],
      "metadata": {
        "colab": {
          "base_uri": "https://localhost:8080/"
        },
        "id": "TosmUm7wD0CD",
        "outputId": "9a391b5c-9a65-414a-85ea-6f1b50c55d98"
      },
      "execution_count": 3,
      "outputs": [
        {
          "output_type": "stream",
          "name": "stdout",
          "text": [
            "5\n"
          ]
        }
      ]
    },
    {
      "cell_type": "code",
      "source": [
        "value = students['01']\n",
        "print(value)"
      ],
      "metadata": {
        "colab": {
          "base_uri": "https://localhost:8080/"
        },
        "id": "HP-Oa8Rp_oWT",
        "outputId": "0e8a4137-971d-4554-f5ab-12f22d21f434"
      },
      "execution_count": 4,
      "outputs": [
        {
          "output_type": "stream",
          "name": "stdout",
          "text": [
            "Nahida\n"
          ]
        }
      ]
    },
    {
      "cell_type": "markdown",
      "source": [
        "**Accessing Values and Handling Nonexistent Key:**"
      ],
      "metadata": {
        "id": "qehdkmtuwNLE"
      }
    },
    {
      "cell_type": "code",
      "source": [
        "print(students['4']) #to show error"
      ],
      "metadata": {
        "colab": {
          "base_uri": "https://localhost:8080/",
          "height": 175
        },
        "id": "EYbYUJCtfsKN",
        "outputId": "1696781f-684e-4b41-8e45-63fcd55bf2b8"
      },
      "execution_count": 6,
      "outputs": [
        {
          "output_type": "error",
          "ename": "KeyError",
          "evalue": "'4'",
          "traceback": [
            "\u001b[0;31m---------------------------------------------------------------------------\u001b[0m",
            "\u001b[0;31mKeyError\u001b[0m                                  Traceback (most recent call last)",
            "\u001b[0;32m<ipython-input-6-889839f0b93a>\u001b[0m in \u001b[0;36m<cell line: 1>\u001b[0;34m()\u001b[0m\n\u001b[0;32m----> 1\u001b[0;31m \u001b[0mprint\u001b[0m\u001b[0;34m(\u001b[0m\u001b[0mstudents\u001b[0m\u001b[0;34m[\u001b[0m\u001b[0;34m'4'\u001b[0m\u001b[0;34m]\u001b[0m\u001b[0;34m)\u001b[0m\u001b[0;34m\u001b[0m\u001b[0;34m\u001b[0m\u001b[0m\n\u001b[0m",
            "\u001b[0;31mKeyError\u001b[0m: '4'"
          ]
        }
      ]
    },
    {
      "cell_type": "code",
      "source": [
        "print(students['04']) #to show error"
      ],
      "metadata": {
        "colab": {
          "base_uri": "https://localhost:8080/",
          "height": 175
        },
        "id": "G06kburBAXu2",
        "outputId": "3d1382af-7806-4c27-ac33-ca5749aca695"
      },
      "execution_count": 5,
      "outputs": [
        {
          "output_type": "error",
          "ename": "KeyError",
          "evalue": "'04'",
          "traceback": [
            "\u001b[0;31m---------------------------------------------------------------------------\u001b[0m",
            "\u001b[0;31mKeyError\u001b[0m                                  Traceback (most recent call last)",
            "\u001b[0;32m<ipython-input-5-eb23bdd9c8c5>\u001b[0m in \u001b[0;36m<cell line: 1>\u001b[0;34m()\u001b[0m\n\u001b[0;32m----> 1\u001b[0;31m \u001b[0mprint\u001b[0m\u001b[0;34m(\u001b[0m\u001b[0mstudents\u001b[0m\u001b[0;34m[\u001b[0m\u001b[0;34m'04'\u001b[0m\u001b[0;34m]\u001b[0m\u001b[0;34m)\u001b[0m\u001b[0;34m\u001b[0m\u001b[0;34m\u001b[0m\u001b[0m\n\u001b[0m",
            "\u001b[0;31mKeyError\u001b[0m: '04'"
          ]
        }
      ]
    },
    {
      "cell_type": "code",
      "source": [
        "print(students.get(4))"
      ],
      "metadata": {
        "colab": {
          "base_uri": "https://localhost:8080/"
        },
        "id": "zr7DXNhTf5qc",
        "outputId": "bcd503de-6b2d-4fe8-d521-eca8f0f6ba6b"
      },
      "execution_count": 7,
      "outputs": [
        {
          "output_type": "stream",
          "name": "stdout",
          "text": [
            "Niha\n"
          ]
        }
      ]
    },
    {
      "cell_type": "code",
      "source": [
        "print(students.get(5))"
      ],
      "metadata": {
        "colab": {
          "base_uri": "https://localhost:8080/"
        },
        "id": "kA7MX3r0Ak7C",
        "outputId": "2d0056ed-28d0-401b-f775-2b035a151f40"
      },
      "execution_count": 8,
      "outputs": [
        {
          "output_type": "stream",
          "name": "stdout",
          "text": [
            "[1, 2, 5]\n"
          ]
        }
      ]
    },
    {
      "cell_type": "code",
      "source": [
        "print(students.get(6))"
      ],
      "metadata": {
        "colab": {
          "base_uri": "https://localhost:8080/"
        },
        "id": "DzC6Dz4nTZq5",
        "outputId": "0da4a157-815b-485a-f968-3d45e6e39285"
      },
      "execution_count": 9,
      "outputs": [
        {
          "output_type": "stream",
          "name": "stdout",
          "text": [
            "None\n"
          ]
        }
      ]
    },
    {
      "cell_type": "markdown",
      "source": [
        "**Updating and Adding Elements:**"
      ],
      "metadata": {
        "id": "oLMG6kzywV0A"
      }
    },
    {
      "cell_type": "code",
      "source": [
        "students[5] = 'Nishat'"
      ],
      "metadata": {
        "id": "7x0crya6AOKL"
      },
      "execution_count": 10,
      "outputs": []
    },
    {
      "cell_type": "code",
      "source": [
        "print(students)"
      ],
      "metadata": {
        "colab": {
          "base_uri": "https://localhost:8080/"
        },
        "id": "KwkunQCLT5Yp",
        "outputId": "c7c15727-bf75-4b84-e859-0cb6763a73c0"
      },
      "execution_count": 11,
      "outputs": [
        {
          "output_type": "stream",
          "name": "stdout",
          "text": [
            "{'01': 'Nahida', '02': 'Afrin', '03': 'Samira', 4: 'Niha', 5: 'Nishat'}\n"
          ]
        }
      ]
    },
    {
      "cell_type": "code",
      "source": [
        "students['06'] = 'Tasnim'"
      ],
      "metadata": {
        "id": "NnbrY64-Ak98"
      },
      "execution_count": 12,
      "outputs": []
    },
    {
      "cell_type": "code",
      "source": [
        "students"
      ],
      "metadata": {
        "colab": {
          "base_uri": "https://localhost:8080/"
        },
        "id": "HSc2ZNzUsABI",
        "outputId": "d367b36d-515f-4ff7-8bbe-4725b92440b5"
      },
      "execution_count": 13,
      "outputs": [
        {
          "output_type": "execute_result",
          "data": {
            "text/plain": [
              "{'01': 'Nahida',\n",
              " '02': 'Afrin',\n",
              " '03': 'Samira',\n",
              " 4: 'Niha',\n",
              " 5: 'Nishat',\n",
              " '06': 'Tasnim'}"
            ]
          },
          "metadata": {},
          "execution_count": 13
        }
      ]
    },
    {
      "cell_type": "code",
      "source": [
        "students['06'] = \"Cat\"\n",
        "print(students)"
      ],
      "metadata": {
        "colab": {
          "base_uri": "https://localhost:8080/"
        },
        "id": "CdPJOjyHsDwF",
        "outputId": "69f4acce-75a3-4640-a6be-2d4453bbe4d0"
      },
      "execution_count": 14,
      "outputs": [
        {
          "output_type": "stream",
          "name": "stdout",
          "text": [
            "{'01': 'Nahida', '02': 'Afrin', '03': 'Samira', 4: 'Niha', 5: 'Nishat', '06': 'Cat'}\n"
          ]
        }
      ]
    },
    {
      "cell_type": "markdown",
      "source": [
        "**Checking Key Existence and Iterating Over Keys and Values:**"
      ],
      "metadata": {
        "id": "e5llwt67wg6R"
      }
    },
    {
      "cell_type": "code",
      "source": [
        "if '0100' in students:\n",
        "    print(students['01'])\n",
        "else:\n",
        "    print('Student does not exist')"
      ],
      "metadata": {
        "colab": {
          "base_uri": "https://localhost:8080/"
        },
        "id": "fcUgsBPFAlBc",
        "outputId": "65598c9d-7259-4c3f-abf6-d446d7e22e18"
      },
      "execution_count": 15,
      "outputs": [
        {
          "output_type": "stream",
          "name": "stdout",
          "text": [
            "Student does not exist\n"
          ]
        }
      ]
    },
    {
      "cell_type": "code",
      "source": [
        "key = students.keys()\n",
        "value = students.values()\n",
        "for i in key:\n",
        "  print(i)\n",
        "\n",
        "for j in value:\n",
        "  print(j)\n",
        "\n",
        "print(key)\n",
        "print(value)"
      ],
      "metadata": {
        "colab": {
          "base_uri": "https://localhost:8080/"
        },
        "id": "n1tLdC_gAONE",
        "outputId": "62dfd1dc-2134-435a-b3bc-aa9175ad65e0"
      },
      "execution_count": 16,
      "outputs": [
        {
          "output_type": "stream",
          "name": "stdout",
          "text": [
            "01\n",
            "02\n",
            "03\n",
            "4\n",
            "5\n",
            "06\n",
            "Nahida\n",
            "Afrin\n",
            "Samira\n",
            "Niha\n",
            "Nishat\n",
            "Cat\n",
            "dict_keys(['01', '02', '03', 4, 5, '06'])\n",
            "dict_values(['Nahida', 'Afrin', 'Samira', 'Niha', 'Nishat', 'Cat'])\n"
          ]
        }
      ]
    },
    {
      "cell_type": "code",
      "source": [
        "items = students.items()\n",
        "print(items)"
      ],
      "metadata": {
        "colab": {
          "base_uri": "https://localhost:8080/"
        },
        "id": "cju5INHvAOP3",
        "outputId": "b7627f23-3c4a-46d3-8a6a-1637d563f667"
      },
      "execution_count": 17,
      "outputs": [
        {
          "output_type": "stream",
          "name": "stdout",
          "text": [
            "dict_items([('01', 'Nahida'), ('02', 'Afrin'), ('03', 'Samira'), (4, 'Niha'), (5, 'Nishat'), ('06', 'Cat')])\n"
          ]
        }
      ]
    },
    {
      "cell_type": "code",
      "source": [
        "for key in students:\n",
        "    print(key,students[key])"
      ],
      "metadata": {
        "colab": {
          "base_uri": "https://localhost:8080/"
        },
        "id": "mrYwb6w5DI7Q",
        "outputId": "b1b793ea-5d3e-4296-83c7-367270f40d15"
      },
      "execution_count": 18,
      "outputs": [
        {
          "output_type": "stream",
          "name": "stdout",
          "text": [
            "01 Nahida\n",
            "02 Afrin\n",
            "03 Samira\n",
            "4 Niha\n",
            "5 Nishat\n",
            "06 Cat\n"
          ]
        }
      ]
    },
    {
      "cell_type": "code",
      "source": [
        "for key, value in students.items():\n",
        "    print(f'{key} and corresponding values are {value}')"
      ],
      "metadata": {
        "colab": {
          "base_uri": "https://localhost:8080/"
        },
        "id": "8J-NiMEFDUZ2",
        "outputId": "3290343b-f391-4413-c21f-a71fa01a8c70"
      },
      "execution_count": 19,
      "outputs": [
        {
          "output_type": "stream",
          "name": "stdout",
          "text": [
            "01 and corresponding values are Nahida\n",
            "02 and corresponding values are Afrin\n",
            "03 and corresponding values are Samira\n",
            "4 and corresponding values are Niha\n",
            "5 and corresponding values are Nishat\n",
            "06 and corresponding values are Cat\n"
          ]
        }
      ]
    },
    {
      "cell_type": "code",
      "source": [
        "new_dict = students.copy()\n",
        "print(new_dict)"
      ],
      "metadata": {
        "colab": {
          "base_uri": "https://localhost:8080/"
        },
        "id": "Z2KqI9J3DeIB",
        "outputId": "2e81dc7e-416f-4a38-c29a-70cac8c88a98"
      },
      "execution_count": 20,
      "outputs": [
        {
          "output_type": "stream",
          "name": "stdout",
          "text": [
            "{'01': 'Nahida', '02': 'Afrin', '03': 'Samira', 4: 'Niha', 5: 'Nishat', '06': 'Cat'}\n"
          ]
        }
      ]
    },
    {
      "cell_type": "markdown",
      "source": [
        "**Clearing Dictionary and Merging Dictionaries:**"
      ],
      "metadata": {
        "id": "OueLclKZxPzN"
      }
    },
    {
      "cell_type": "code",
      "source": [
        "new_dict.clear()"
      ],
      "metadata": {
        "id": "1Ftr-0cREAt6"
      },
      "execution_count": 21,
      "outputs": []
    },
    {
      "cell_type": "code",
      "source": [
        "print(new_dict)"
      ],
      "metadata": {
        "colab": {
          "base_uri": "https://localhost:8080/"
        },
        "id": "TxDP6Us5VwO0",
        "outputId": "1d1837b6-ad8e-42e2-c642-e61bc5fae15d"
      },
      "execution_count": 22,
      "outputs": [
        {
          "output_type": "stream",
          "name": "stdout",
          "text": [
            "{}\n"
          ]
        }
      ]
    },
    {
      "cell_type": "code",
      "source": [
        "students_1 = {\"21201149\": \"student1\",\n",
        "          \"21201118\": \"student2\",\n",
        "          \"21201100\": \"student3\"\n",
        "}\n",
        "merged_dict = {**students_1, **students}\n"
      ],
      "metadata": {
        "id": "Dm4i4TVJEFFV"
      },
      "execution_count": 23,
      "outputs": []
    },
    {
      "cell_type": "code",
      "source": [
        "print(merged_dict)"
      ],
      "metadata": {
        "colab": {
          "base_uri": "https://localhost:8080/"
        },
        "id": "JtUvCUSwEhtk",
        "outputId": "8d34e617-fff5-45f3-d9d8-15db773a925d"
      },
      "execution_count": 24,
      "outputs": [
        {
          "output_type": "stream",
          "name": "stdout",
          "text": [
            "{'21201149': 'student1', '21201118': 'student2', '21201100': 'student3', '01': 'Nahida', '02': 'Afrin', '03': 'Samira', 4: 'Niha', 5: 'Nishat', '06': 'Cat'}\n"
          ]
        }
      ]
    },
    {
      "cell_type": "code",
      "source": [
        "new_dictionary = students_1 + students #to show error"
      ],
      "metadata": {
        "colab": {
          "base_uri": "https://localhost:8080/",
          "height": 175
        },
        "id": "I7gsSUcwWC37",
        "outputId": "b49fb105-a387-43e7-d967-ec38f8ef20f6"
      },
      "execution_count": 25,
      "outputs": [
        {
          "output_type": "error",
          "ename": "TypeError",
          "evalue": "unsupported operand type(s) for +: 'dict' and 'dict'",
          "traceback": [
            "\u001b[0;31m---------------------------------------------------------------------------\u001b[0m",
            "\u001b[0;31mTypeError\u001b[0m                                 Traceback (most recent call last)",
            "\u001b[0;32m<ipython-input-25-8b164ec5cc6c>\u001b[0m in \u001b[0;36m<cell line: 1>\u001b[0;34m()\u001b[0m\n\u001b[0;32m----> 1\u001b[0;31m \u001b[0mnew_dictionary\u001b[0m \u001b[0;34m=\u001b[0m \u001b[0mstudents_1\u001b[0m \u001b[0;34m+\u001b[0m \u001b[0mstudents\u001b[0m\u001b[0;34m\u001b[0m\u001b[0;34m\u001b[0m\u001b[0m\n\u001b[0m",
            "\u001b[0;31mTypeError\u001b[0m: unsupported operand type(s) for +: 'dict' and 'dict'"
          ]
        }
      ]
    },
    {
      "cell_type": "markdown",
      "source": [
        "**Updating and Popping Elements:**"
      ],
      "metadata": {
        "id": "EtFyahbMxVzj"
      }
    },
    {
      "cell_type": "code",
      "source": [
        "students.update({'07': 'Ayesha'})\n",
        "students['08'] = 'Akhter'"
      ],
      "metadata": {
        "id": "o5o269tnEmv3"
      },
      "execution_count": 26,
      "outputs": []
    },
    {
      "cell_type": "code",
      "source": [
        "print(students)"
      ],
      "metadata": {
        "colab": {
          "base_uri": "https://localhost:8080/"
        },
        "id": "uPqY4q6VGK0O",
        "outputId": "2cb166d5-b369-48b2-e622-d5902ffffc53"
      },
      "execution_count": 27,
      "outputs": [
        {
          "output_type": "stream",
          "name": "stdout",
          "text": [
            "{'01': 'Nahida', '02': 'Afrin', '03': 'Samira', 4: 'Niha', 5: 'Nishat', '06': 'Cat', '07': 'Ayesha', '08': 'Akhter'}\n"
          ]
        }
      ]
    },
    {
      "cell_type": "code",
      "source": [
        "students.pop(\"01\")"
      ],
      "metadata": {
        "colab": {
          "base_uri": "https://localhost:8080/",
          "height": 36
        },
        "id": "H7J-9azlGL_u",
        "outputId": "2c06df9b-e514-4708-ed9a-728c741fe1e3"
      },
      "execution_count": 28,
      "outputs": [
        {
          "output_type": "execute_result",
          "data": {
            "text/plain": [
              "'Nahida'"
            ],
            "application/vnd.google.colaboratory.intrinsic+json": {
              "type": "string"
            }
          },
          "metadata": {},
          "execution_count": 28
        }
      ]
    },
    {
      "cell_type": "code",
      "source": [
        "print(students)"
      ],
      "metadata": {
        "colab": {
          "base_uri": "https://localhost:8080/"
        },
        "id": "O1NlC2uUGU7U",
        "outputId": "18203647-81ec-4e5e-a747-d172434d1a7c"
      },
      "execution_count": 29,
      "outputs": [
        {
          "output_type": "stream",
          "name": "stdout",
          "text": [
            "{'02': 'Afrin', '03': 'Samira', 4: 'Niha', 5: 'Nishat', '06': 'Cat', '07': 'Ayesha', '08': 'Akhter'}\n"
          ]
        }
      ]
    },
    {
      "cell_type": "code",
      "source": [
        "students.popitem()"
      ],
      "metadata": {
        "colab": {
          "base_uri": "https://localhost:8080/"
        },
        "id": "yGJFu03eGXBm",
        "outputId": "a997c2f2-ae8f-4ae0-931e-c839e344a81e"
      },
      "execution_count": 30,
      "outputs": [
        {
          "output_type": "execute_result",
          "data": {
            "text/plain": [
              "('08', 'Akhter')"
            ]
          },
          "metadata": {},
          "execution_count": 30
        }
      ]
    },
    {
      "cell_type": "code",
      "source": [
        "print(students)"
      ],
      "metadata": {
        "colab": {
          "base_uri": "https://localhost:8080/"
        },
        "id": "HOav6BfyGhBo",
        "outputId": "5561431c-817b-45ed-87e5-2dca55464e9e"
      },
      "execution_count": 31,
      "outputs": [
        {
          "output_type": "stream",
          "name": "stdout",
          "text": [
            "{'02': 'Afrin', '03': 'Samira', 4: 'Niha', 5: 'Nishat', '06': 'Cat', '07': 'Ayesha'}\n"
          ]
        }
      ]
    },
    {
      "cell_type": "code",
      "source": [
        "print(students)"
      ],
      "metadata": {
        "id": "cYWfAWpdGhE-",
        "colab": {
          "base_uri": "https://localhost:8080/"
        },
        "outputId": "93085f63-63a6-43c3-b893-22e8185641e2"
      },
      "execution_count": 32,
      "outputs": [
        {
          "output_type": "stream",
          "name": "stdout",
          "text": [
            "{'02': 'Afrin', '03': 'Samira', 4: 'Niha', 5: 'Nishat', '06': 'Cat', '07': 'Ayesha'}\n"
          ]
        }
      ]
    },
    {
      "cell_type": "markdown",
      "source": [
        "## **Python Function Examples:**"
      ],
      "metadata": {
        "id": "KXHRwWQrILOY"
      }
    },
    {
      "cell_type": "markdown",
      "source": [
        "**Empty Function:**"
      ],
      "metadata": {
        "id": "SFDmOniMxs8f"
      }
    },
    {
      "cell_type": "code",
      "source": [
        "def func():\n",
        "  pass\n",
        "\n",
        "func()"
      ],
      "metadata": {
        "id": "r86U6cgDIan7"
      },
      "execution_count": 33,
      "outputs": []
    },
    {
      "cell_type": "markdown",
      "source": [
        "**Simple Function with Print:**"
      ],
      "metadata": {
        "id": "aFVQdntXxxGU"
      }
    },
    {
      "cell_type": "code",
      "source": [
        "def hello_func():\n",
        "  print(\"Hey! I am from the fuction\")\n",
        "\n",
        "hello_func()"
      ],
      "metadata": {
        "colab": {
          "base_uri": "https://localhost:8080/"
        },
        "id": "ZrVkmsN8Iasl",
        "outputId": "e32e61d1-2eff-4ad1-e42b-08fadd654416"
      },
      "execution_count": 34,
      "outputs": [
        {
          "output_type": "stream",
          "name": "stdout",
          "text": [
            "Hey! I am from the fuction\n"
          ]
        }
      ]
    },
    {
      "cell_type": "markdown",
      "source": [
        "**Function Returning a String:**"
      ],
      "metadata": {
        "id": "5v8earg8x2lh"
      }
    },
    {
      "cell_type": "code",
      "source": [
        "def hello_func():\n",
        "  return \"Hey! I am from the fuction\"\n",
        "\n",
        "string = hello_func()\n",
        "print(string)\n",
        "\n",
        "#print(hello_func())"
      ],
      "metadata": {
        "colab": {
          "base_uri": "https://localhost:8080/"
        },
        "id": "f5ea5lDnNk74",
        "outputId": "6a5e1016-d882-4c5a-c1a5-92fd4692c29d"
      },
      "execution_count": 35,
      "outputs": [
        {
          "output_type": "stream",
          "name": "stdout",
          "text": [
            "Hey! I am from the fuction\n"
          ]
        }
      ]
    },
    {
      "cell_type": "markdown",
      "source": [
        "**Function with Default Argument:**"
      ],
      "metadata": {
        "id": "-HWmsaOEx6LJ"
      }
    },
    {
      "cell_type": "code",
      "source": [
        "def hey_func(str_1='hi'):\n",
        "  print(f'{str_1}! good to see you')\n",
        "\n",
        "\n",
        "hey_func(\"Hello\")"
      ],
      "metadata": {
        "colab": {
          "base_uri": "https://localhost:8080/"
        },
        "id": "l_IVRuc6OINt",
        "outputId": "97f9f4a6-ab5a-479d-edd3-b6878e97535d"
      },
      "execution_count": 36,
      "outputs": [
        {
          "output_type": "stream",
          "name": "stdout",
          "text": [
            "Hello! good to see you\n"
          ]
        }
      ]
    },
    {
      "cell_type": "markdown",
      "source": [
        "**Function with Named Arguments:**"
      ],
      "metadata": {
        "id": "EwFVi7z-x-Ok"
      }
    },
    {
      "cell_type": "code",
      "source": [
        "def name_func(text='Hey', name = \"default name\"):\n",
        "  print(f'{text} {name}! good to see you')\n",
        "\n",
        "\n",
        "name_func(name = \"Afiah\")"
      ],
      "metadata": {
        "colab": {
          "base_uri": "https://localhost:8080/"
        },
        "id": "kzULeRdwOyzN",
        "outputId": "4f992f69-036f-4f8f-a7bd-aca5c1d25179"
      },
      "execution_count": 37,
      "outputs": [
        {
          "output_type": "stream",
          "name": "stdout",
          "text": [
            "Hey Afiah! good to see you\n"
          ]
        }
      ]
    },
    {
      "cell_type": "markdown",
      "source": [
        "**Function with Default Parameter Values:**"
      ],
      "metadata": {
        "id": "BZM6u-ftyC97"
      }
    },
    {
      "cell_type": "code",
      "source": [
        "def add(a=0,b=0):\n",
        "  return a+b\n",
        "\n",
        "a, b= 10, 15\n",
        "var = add(a, b)\n",
        "print(var)"
      ],
      "metadata": {
        "id": "G03yEjpEPN4y",
        "colab": {
          "base_uri": "https://localhost:8080/"
        },
        "outputId": "6d559b77-fbaa-4b65-8bc0-d614621d7b92"
      },
      "execution_count": 38,
      "outputs": [
        {
          "output_type": "stream",
          "name": "stdout",
          "text": [
            "25\n"
          ]
        }
      ]
    },
    {
      "cell_type": "markdown",
      "source": [
        "**Function with List and Sum:**"
      ],
      "metadata": {
        "id": "DxiEeopwyFGK"
      }
    },
    {
      "cell_type": "code",
      "source": [
        "def func(lst):\n",
        "  return sum(lst)\n",
        "\n",
        "\n",
        "lst  = [1,2.3,5]\n",
        "var = func(lst)\n",
        "print(var)"
      ],
      "metadata": {
        "colab": {
          "base_uri": "https://localhost:8080/"
        },
        "id": "tRYgM2aXxnKB",
        "outputId": "bcc48379-3b33-47c4-cff0-37f50c76cc53"
      },
      "execution_count": 39,
      "outputs": [
        {
          "output_type": "stream",
          "name": "stdout",
          "text": [
            "8.3\n"
          ]
        }
      ]
    },
    {
      "cell_type": "markdown",
      "source": [
        "**Function with Loop and Average Calculation:**"
      ],
      "metadata": {
        "id": "FYbgZm_kyK8c"
      }
    },
    {
      "cell_type": "code",
      "source": [
        "def addition(lst):\n",
        "  sum = 0\n",
        "  for i in lst:\n",
        "    sum = sum+i\n",
        "  return sum\n",
        "\n",
        "def average(a, len):\n",
        "  avr = a/len\n",
        "  return avr\n",
        "\n",
        "\n",
        "list_1 = [10,30,12,23]\n",
        "variable_1 = addition(list_1)\n",
        "avg = average(variable_1, len(list_1))\n",
        "\n",
        "print(variable_1)\n",
        "print(avg)\n"
      ],
      "metadata": {
        "colab": {
          "base_uri": "https://localhost:8080/"
        },
        "id": "PzWUOJdtdO8Z",
        "outputId": "5ee9cb4d-56bd-44a1-d261-f87e2696b8bd"
      },
      "execution_count": 40,
      "outputs": [
        {
          "output_type": "stream",
          "name": "stdout",
          "text": [
            "75\n",
            "18.75\n"
          ]
        }
      ]
    },
    {
      "cell_type": "markdown",
      "source": [
        "**THE END**"
      ],
      "metadata": {
        "id": "oSU5OkMWxgUU"
      }
    }
  ]
}